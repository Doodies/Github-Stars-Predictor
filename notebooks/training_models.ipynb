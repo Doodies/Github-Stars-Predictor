{
 "cells": [
  {
   "cell_type": "code",
   "execution_count": 6,
   "metadata": {
    "colab": {
     "autoexec": {
      "startup": false,
      "wait_interval": 0
     },
     "base_uri": "https://localhost:8080/",
     "height": 312,
     "output_extras": [
      {
       "item_id": 3
      }
     ]
    },
    "colab_type": "code",
    "executionInfo": {
     "elapsed": 2079,
     "status": "ok",
     "timestamp": 1519120778768,
     "user": {
      "displayName": "Pawan Bansal",
      "photoUrl": "//lh4.googleusercontent.com/-hQniqzw3AW0/AAAAAAAAAAI/AAAAAAAAAGs/dTfAX9OOw5w/s50-c-k-no/photo.jpg",
      "userId": "102337886470920224775"
     },
     "user_tz": -330
    },
    "id": "mKFskImGo9qc",
    "outputId": "d5204a20-3b54-4176-a625-fbcb8302e98d"
   },
   "outputs": [
    {
     "name": "stdout",
     "output_type": "stream",
     "text": [
      "--2018-02-20 09:59:37--  http://=/\n",
      "Resolving = (=)... failed: Name or service not known.\n",
      "wget: unable to resolve host address ‘=’\n",
      "--2018-02-20 09:59:37--  https://raw.githubusercontent.com/Doodies/Github-Stars-Predictor/master/PreprocessData.csv\n",
      "Resolving raw.githubusercontent.com (raw.githubusercontent.com)... 151.101.0.133, 151.101.64.133, 151.101.128.133, ...\n",
      "Connecting to raw.githubusercontent.com (raw.githubusercontent.com)|151.101.0.133|:443... connected.\n",
      "HTTP request sent, awaiting response... 200 OK\n",
      "Length: 18616347 (18M) [text/plain]\n",
      "Saving to: ‘PreprocessData.csv’\n",
      "\n",
      "PreprocessData.csv  100%[===================>]  17.75M  38.4MB/s    in 0.5s    \n",
      "\n",
      "2018-02-20 09:59:38 (38.4 MB/s) - ‘PreprocessData.csv’ saved [18616347/18616347]\n",
      "\n",
      "FINISHED --2018-02-20 09:59:38--\n",
      "Total wall clock time: 0.9s\n",
      "Downloaded: 1 files, 18M in 0.5s (38.4 MB/s)\n"
     ]
    }
   ],
   "source": [
    "!wget = 'https://raw.githubusercontent.com/Doodies/Github-Stars-Predictor/master/PreprocessData.csv'"
   ]
  },
  {
   "cell_type": "code",
   "execution_count": 7,
   "metadata": {
    "colab": {
     "autoexec": {
      "startup": false,
      "wait_interval": 0
     },
     "base_uri": "https://localhost:8080/",
     "height": 69,
     "output_extras": [
      {
       "item_id": 1
      }
     ]
    },
    "colab_type": "code",
    "executionInfo": {
     "elapsed": 981,
     "status": "ok",
     "timestamp": 1519120781777,
     "user": {
      "displayName": "Pawan Bansal",
      "photoUrl": "//lh4.googleusercontent.com/-hQniqzw3AW0/AAAAAAAAAAI/AAAAAAAAAGs/dTfAX9OOw5w/s50-c-k-no/photo.jpg",
      "userId": "102337886470920224775"
     },
     "user_tz": -330
    },
    "id": "CJaU70pspQCu",
    "outputId": "affdb0a4-3b24-4ba6-83ef-bf17f20739ed"
   },
   "outputs": [
    {
     "name": "stdout",
     "output_type": "stream",
     "text": [
      "total 18M\r\n",
      "drwxr-xr-x 1 root root 4.0K Feb 20 09:22 datalab\r\n",
      "-rw-r--r-- 1 root root  18M Feb 20 09:59 PreprocessData.csv\r\n"
     ]
    }
   ],
   "source": [
    "!ls -lh"
   ]
  },
  {
   "cell_type": "markdown",
   "metadata": {
    "colab_type": "text",
    "id": "yGS-YGdiqIEq"
   },
   "source": [
    "# Importing required modules"
   ]
  },
  {
   "cell_type": "code",
   "execution_count": 0,
   "metadata": {
    "colab": {
     "autoexec": {
      "startup": false,
      "wait_interval": 0
     }
    },
    "colab_type": "code",
    "collapsed": true,
    "id": "umNFuu0-xEGK"
   },
   "outputs": [],
   "source": [
    "!pip install catboost ipywidgets\n",
    "!pip install xgboost\n",
    "!pip install keras"
   ]
  },
  {
   "cell_type": "code",
   "execution_count": 2,
   "metadata": {
    "colab": {
     "autoexec": {
      "startup": false,
      "wait_interval": 0
     }
    },
    "colab_type": "code",
    "id": "MkaUKVnepe07"
   },
   "outputs": [
    {
     "name": "stderr",
     "output_type": "stream",
     "text": [
      "Using Theano backend.\n"
     ]
    },
    {
     "ename": "ImportError",
     "evalue": "No module named theano",
     "output_type": "error",
     "traceback": [
      "\u001b[0;31m---------------------------------------------------------------------------\u001b[0m",
      "\u001b[0;31mImportError\u001b[0m                               Traceback (most recent call last)",
      "\u001b[0;32m<ipython-input-2-231ebf5a8b7f>\u001b[0m in \u001b[0;36m<module>\u001b[0;34m()\u001b[0m\n\u001b[1;32m     27\u001b[0m \u001b[0;32mfrom\u001b[0m \u001b[0msklearn\u001b[0m\u001b[0;34m.\u001b[0m\u001b[0mensemble\u001b[0m \u001b[0;32mimport\u001b[0m \u001b[0mRandomForestRegressor\u001b[0m\u001b[0;34m\u001b[0m\u001b[0m\n\u001b[1;32m     28\u001b[0m \u001b[0;34m\u001b[0m\u001b[0m\n\u001b[0;32m---> 29\u001b[0;31m \u001b[0;32mfrom\u001b[0m \u001b[0mkeras\u001b[0m\u001b[0;34m.\u001b[0m\u001b[0mmodels\u001b[0m \u001b[0;32mimport\u001b[0m \u001b[0mSequential\u001b[0m\u001b[0;34m\u001b[0m\u001b[0m\n\u001b[0m\u001b[1;32m     30\u001b[0m \u001b[0;32mfrom\u001b[0m \u001b[0mkeras\u001b[0m\u001b[0;34m.\u001b[0m\u001b[0mlayers\u001b[0m \u001b[0;32mimport\u001b[0m \u001b[0mDense\u001b[0m\u001b[0;34m,\u001b[0m \u001b[0mDropout\u001b[0m\u001b[0;34m,\u001b[0m \u001b[0mBatchNormalization\u001b[0m\u001b[0;34m\u001b[0m\u001b[0m\n\u001b[1;32m     31\u001b[0m \u001b[0;32mfrom\u001b[0m \u001b[0mkeras\u001b[0m\u001b[0;34m.\u001b[0m\u001b[0mwrappers\u001b[0m\u001b[0;34m.\u001b[0m\u001b[0mscikit_learn\u001b[0m \u001b[0;32mimport\u001b[0m \u001b[0mKerasRegressor\u001b[0m\u001b[0;34m\u001b[0m\u001b[0m\n",
      "\u001b[0;32m/home/pawan/anaconda3/envs/env2.7/lib/python2.7/site-packages/keras/__init__.py\u001b[0m in \u001b[0;36m<module>\u001b[0;34m()\u001b[0m\n\u001b[1;32m      1\u001b[0m \u001b[0;32mfrom\u001b[0m \u001b[0m__future__\u001b[0m \u001b[0;32mimport\u001b[0m \u001b[0mabsolute_import\u001b[0m\u001b[0;34m\u001b[0m\u001b[0m\n\u001b[1;32m      2\u001b[0m \u001b[0;34m\u001b[0m\u001b[0m\n\u001b[0;32m----> 3\u001b[0;31m \u001b[0;32mfrom\u001b[0m \u001b[0;34m.\u001b[0m \u001b[0;32mimport\u001b[0m \u001b[0mutils\u001b[0m\u001b[0;34m\u001b[0m\u001b[0m\n\u001b[0m\u001b[1;32m      4\u001b[0m \u001b[0;32mfrom\u001b[0m \u001b[0;34m.\u001b[0m \u001b[0;32mimport\u001b[0m \u001b[0mactivations\u001b[0m\u001b[0;34m\u001b[0m\u001b[0m\n\u001b[1;32m      5\u001b[0m \u001b[0;32mfrom\u001b[0m \u001b[0;34m.\u001b[0m \u001b[0;32mimport\u001b[0m \u001b[0mapplications\u001b[0m\u001b[0;34m\u001b[0m\u001b[0m\n",
      "\u001b[0;32m/home/pawan/anaconda3/envs/env2.7/lib/python2.7/site-packages/keras/utils/__init__.py\u001b[0m in \u001b[0;36m<module>\u001b[0;34m()\u001b[0m\n\u001b[1;32m      4\u001b[0m \u001b[0;32mfrom\u001b[0m \u001b[0;34m.\u001b[0m \u001b[0;32mimport\u001b[0m \u001b[0mdata_utils\u001b[0m\u001b[0;34m\u001b[0m\u001b[0m\n\u001b[1;32m      5\u001b[0m \u001b[0;32mfrom\u001b[0m \u001b[0;34m.\u001b[0m \u001b[0;32mimport\u001b[0m \u001b[0mio_utils\u001b[0m\u001b[0;34m\u001b[0m\u001b[0m\n\u001b[0;32m----> 6\u001b[0;31m \u001b[0;32mfrom\u001b[0m \u001b[0;34m.\u001b[0m \u001b[0;32mimport\u001b[0m \u001b[0mconv_utils\u001b[0m\u001b[0;34m\u001b[0m\u001b[0m\n\u001b[0m\u001b[1;32m      7\u001b[0m \u001b[0;34m\u001b[0m\u001b[0m\n\u001b[1;32m      8\u001b[0m \u001b[0;31m# Globally-importable utils.\u001b[0m\u001b[0;34m\u001b[0m\u001b[0;34m\u001b[0m\u001b[0m\n",
      "\u001b[0;32m/home/pawan/anaconda3/envs/env2.7/lib/python2.7/site-packages/keras/utils/conv_utils.py\u001b[0m in \u001b[0;36m<module>\u001b[0;34m()\u001b[0m\n\u001b[1;32m      7\u001b[0m \u001b[0;32mfrom\u001b[0m \u001b[0msix\u001b[0m\u001b[0;34m.\u001b[0m\u001b[0mmoves\u001b[0m \u001b[0;32mimport\u001b[0m \u001b[0mrange\u001b[0m\u001b[0;34m\u001b[0m\u001b[0m\n\u001b[1;32m      8\u001b[0m \u001b[0;32mimport\u001b[0m \u001b[0mnumpy\u001b[0m \u001b[0;32mas\u001b[0m \u001b[0mnp\u001b[0m\u001b[0;34m\u001b[0m\u001b[0m\n\u001b[0;32m----> 9\u001b[0;31m \u001b[0;32mfrom\u001b[0m \u001b[0;34m.\u001b[0m\u001b[0;34m.\u001b[0m \u001b[0;32mimport\u001b[0m \u001b[0mbackend\u001b[0m \u001b[0;32mas\u001b[0m \u001b[0mK\u001b[0m\u001b[0;34m\u001b[0m\u001b[0m\n\u001b[0m\u001b[1;32m     10\u001b[0m \u001b[0;34m\u001b[0m\u001b[0m\n\u001b[1;32m     11\u001b[0m \u001b[0;34m\u001b[0m\u001b[0m\n",
      "\u001b[0;32m/home/pawan/anaconda3/envs/env2.7/lib/python2.7/site-packages/keras/backend/__init__.py\u001b[0m in \u001b[0;36m<module>\u001b[0;34m()\u001b[0m\n\u001b[1;32m     79\u001b[0m \u001b[0;32melif\u001b[0m \u001b[0m_BACKEND\u001b[0m \u001b[0;34m==\u001b[0m \u001b[0;34m'theano'\u001b[0m\u001b[0;34m:\u001b[0m\u001b[0;34m\u001b[0m\u001b[0m\n\u001b[1;32m     80\u001b[0m     \u001b[0msys\u001b[0m\u001b[0;34m.\u001b[0m\u001b[0mstderr\u001b[0m\u001b[0;34m.\u001b[0m\u001b[0mwrite\u001b[0m\u001b[0;34m(\u001b[0m\u001b[0;34m'Using Theano backend.\\n'\u001b[0m\u001b[0;34m)\u001b[0m\u001b[0;34m\u001b[0m\u001b[0m\n\u001b[0;32m---> 81\u001b[0;31m     \u001b[0;32mfrom\u001b[0m \u001b[0;34m.\u001b[0m\u001b[0mtheano_backend\u001b[0m \u001b[0;32mimport\u001b[0m \u001b[0;34m*\u001b[0m\u001b[0;34m\u001b[0m\u001b[0m\n\u001b[0m\u001b[1;32m     82\u001b[0m \u001b[0;32melif\u001b[0m \u001b[0m_BACKEND\u001b[0m \u001b[0;34m==\u001b[0m \u001b[0;34m'tensorflow'\u001b[0m\u001b[0;34m:\u001b[0m\u001b[0;34m\u001b[0m\u001b[0m\n\u001b[1;32m     83\u001b[0m     \u001b[0msys\u001b[0m\u001b[0;34m.\u001b[0m\u001b[0mstderr\u001b[0m\u001b[0;34m.\u001b[0m\u001b[0mwrite\u001b[0m\u001b[0;34m(\u001b[0m\u001b[0;34m'Using TensorFlow backend.\\n'\u001b[0m\u001b[0;34m)\u001b[0m\u001b[0;34m\u001b[0m\u001b[0m\n",
      "\u001b[0;32m/home/pawan/anaconda3/envs/env2.7/lib/python2.7/site-packages/keras/backend/theano_backend.py\u001b[0m in \u001b[0;36m<module>\u001b[0;34m()\u001b[0m\n\u001b[1;32m      5\u001b[0m \u001b[0;32mfrom\u001b[0m \u001b[0mcollections\u001b[0m \u001b[0;32mimport\u001b[0m \u001b[0mdefaultdict\u001b[0m\u001b[0;34m\u001b[0m\u001b[0m\n\u001b[1;32m      6\u001b[0m \u001b[0;32mfrom\u001b[0m \u001b[0mcontextlib\u001b[0m \u001b[0;32mimport\u001b[0m \u001b[0mcontextmanager\u001b[0m\u001b[0;34m\u001b[0m\u001b[0m\n\u001b[0;32m----> 7\u001b[0;31m \u001b[0;32mimport\u001b[0m \u001b[0mtheano\u001b[0m\u001b[0;34m\u001b[0m\u001b[0m\n\u001b[0m\u001b[1;32m      8\u001b[0m \u001b[0;32mfrom\u001b[0m \u001b[0mtheano\u001b[0m \u001b[0;32mimport\u001b[0m \u001b[0mtensor\u001b[0m \u001b[0;32mas\u001b[0m \u001b[0mT\u001b[0m\u001b[0;34m\u001b[0m\u001b[0m\n\u001b[1;32m      9\u001b[0m \u001b[0;32mfrom\u001b[0m \u001b[0mtheano\u001b[0m\u001b[0;34m.\u001b[0m\u001b[0msandbox\u001b[0m\u001b[0;34m.\u001b[0m\u001b[0mrng_mrg\u001b[0m \u001b[0;32mimport\u001b[0m \u001b[0mMRG_RandomStreams\u001b[0m \u001b[0;32mas\u001b[0m \u001b[0mRandomStreams\u001b[0m\u001b[0;34m\u001b[0m\u001b[0m\n",
      "\u001b[0;31mImportError\u001b[0m: No module named theano"
     ]
    }
   ],
   "source": [
    "# Handle table-like data and matrices\n",
    "import numpy as np\n",
    "import pandas as pd\n",
    "\n",
    "# Visualisation\n",
    "import matplotlib as mpl\n",
    "import matplotlib.pyplot as plt\n",
    "import matplotlib.pylab as pylab\n",
    "import seaborn as sns\n",
    "\n",
    "# Configure visualisations\n",
    "%matplotlib inline\n",
    "color = sns.color_palette()\n",
    "pd.options.mode.chained_assignment = None\n",
    "pd.options.display.max_columns = 999\n",
    "# mpl.style.use( 'ggplot' )\n",
    "sns.set_style( 'whitegrid' )\n",
    "pylab.rcParams[ 'figure.figsize' ] = 10,8\n",
    "seed = 7\n",
    "\n",
    "# importing libraries\n",
    "from sklearn.preprocessing import StandardScaler\n",
    "from sklearn.model_selection import train_test_split\n",
    "from sklearn.metrics import r2_score, mean_squared_error\n",
    "from sklearn.ensemble import GradientBoostingRegressor\n",
    "from catboost import CatBoostRegressor\n",
    "from sklearn.ensemble import RandomForestRegressor\n",
    "\n",
    "from keras.models import Sequential\n",
    "from keras.layers import Dense, Dropout, BatchNormalization\n",
    "from keras.wrappers.scikit_learn import KerasRegressor\n",
    "from sklearn.model_selection import cross_val_score, KFold\n",
    "from sklearn.pipeline import Pipeline\n",
    "\n",
    "np.random.seed(seed)"
   ]
  },
  {
   "cell_type": "code",
   "execution_count": 5,
   "metadata": {
    "colab": {
     "autoexec": {
      "startup": false,
      "wait_interval": 0
     }
    },
    "colab_type": "code",
    "collapsed": true,
    "id": "IJ4mvGdrpmTN"
   },
   "outputs": [],
   "source": [
    "data = pd.read_csv('../dataset/PreprocessData.csv').iloc[:, 1:]"
   ]
  },
  {
   "cell_type": "code",
   "execution_count": 6,
   "metadata": {
    "colab": {
     "autoexec": {
      "startup": false,
      "wait_interval": 0
     }
    },
    "colab_type": "code",
    "collapsed": true,
    "id": "YHMzBJLtp73R"
   },
   "outputs": [],
   "source": [
    "X = data.drop(['stars'] , axis =1)\n",
    "y = data.stars"
   ]
  },
  {
   "cell_type": "markdown",
   "metadata": {
    "colab_type": "text",
    "id": "BYAwV5zRqDfT"
   },
   "source": [
    "# Feature normalization"
   ]
  },
  {
   "cell_type": "code",
   "execution_count": 0,
   "metadata": {
    "colab": {
     "autoexec": {
      "startup": false,
      "wait_interval": 0
     }
    },
    "colab_type": "code",
    "collapsed": true,
    "id": "UsGtaizwp_Sq"
   },
   "outputs": [],
   "source": [
    "s = StandardScaler()\n",
    "X = s.fit_transform(X)"
   ]
  },
  {
   "cell_type": "code",
   "execution_count": 107,
   "metadata": {
    "colab": {
     "autoexec": {
      "startup": false,
      "wait_interval": 0
     },
     "base_uri": "https://localhost:8080/",
     "height": 243,
     "output_extras": [
      {
       "item_id": 1
      }
     ]
    },
    "colab_type": "code",
    "executionInfo": {
     "elapsed": 803,
     "status": "ok",
     "timestamp": 1519125771476,
     "user": {
      "displayName": "Pawan Bansal",
      "photoUrl": "//lh4.googleusercontent.com/-hQniqzw3AW0/AAAAAAAAAAI/AAAAAAAAAGs/dTfAX9OOw5w/s50-c-k-no/photo.jpg",
      "userId": "102337886470920224775"
     },
     "user_tz": -330
    },
    "id": "ipEcS8nmqC4v",
    "outputId": "6e653f89-1d99-4465-eca3-67442598c20a"
   },
   "outputs": [
    {
     "data": {
      "text/plain": [
       "array([[-0.09745647,  0.00614558,  0.23250482, ..., -0.23044367,\n",
       "        -0.22388323, -0.84232977],\n",
       "       [-0.09745647, -0.08776201,  0.23293463, ..., -0.23044367,\n",
       "        -0.22388323, -0.84232977],\n",
       "       [-0.09745647, -0.09548965,  0.23228991, ..., -0.23044367,\n",
       "        -0.22388323,  1.1871835 ],\n",
       "       ...,\n",
       "       [ 0.00197165, -0.0922978 ,  0.23218246, ..., -0.23044367,\n",
       "        -0.22388323,  1.1871835 ],\n",
       "       [-0.07259944, -0.11128091,  0.23223618, ..., -0.23044367,\n",
       "        -0.22388323,  1.1871835 ],\n",
       "       [-0.09745647, -0.10741709,  0.23304208, ..., -0.23044367,\n",
       "        -0.22388323,  1.1871835 ]])"
      ]
     },
     "execution_count": 107,
     "metadata": {
      "tags": []
     },
     "output_type": "execute_result"
    }
   ],
   "source": [
    "X"
   ]
  },
  {
   "cell_type": "markdown",
   "metadata": {
    "colab_type": "text",
    "id": "OYVDATBlqNOq"
   },
   "source": [
    "# train test data splitting"
   ]
  },
  {
   "cell_type": "code",
   "execution_count": 0,
   "metadata": {
    "colab": {
     "autoexec": {
      "startup": false,
      "wait_interval": 0
     }
    },
    "colab_type": "code",
    "collapsed": true,
    "id": "Hg2sfmChqLFZ"
   },
   "outputs": [],
   "source": [
    "X_train, X_test, y_train, y_test = train_test_split(X, y, test_size=0.10, random_state=42)"
   ]
  },
  {
   "cell_type": "code",
   "execution_count": 0,
   "metadata": {
    "colab": {
     "autoexec": {
      "startup": false,
      "wait_interval": 0
     }
    },
    "colab_type": "code",
    "collapsed": true,
    "id": "pS1m7NZgqO28"
   },
   "outputs": [],
   "source": [
    "training_scores = []\n",
    "test_scores = []\n",
    "models = []"
   ]
  },
  {
   "cell_type": "markdown",
   "metadata": {
    "colab_type": "text",
    "id": "F0DCAR2DqSRD"
   },
   "source": [
    "\n",
    "# Training Models"
   ]
  },
  {
   "cell_type": "markdown",
   "metadata": {
    "colab_type": "text",
    "id": "mZTYSuGZqWkt"
   },
   "source": [
    "## 1. Gradient Boost"
   ]
  },
  {
   "cell_type": "code",
   "execution_count": 0,
   "metadata": {
    "colab": {
     "autoexec": {
      "startup": false,
      "wait_interval": 0
     }
    },
    "colab_type": "code",
    "collapsed": true,
    "id": "n6P0p8WyqQML"
   },
   "outputs": [],
   "source": [
    "models.append(\"gradient boost\")"
   ]
  },
  {
   "cell_type": "code",
   "execution_count": 18,
   "metadata": {
    "colab": {
     "autoexec": {
      "startup": false,
      "wait_interval": 0
     },
     "base_uri": "https://localhost:8080/",
     "height": 469,
     "output_extras": [
      {
       "item_id": 22
      }
     ]
    },
    "colab_type": "code",
    "executionInfo": {
     "elapsed": 145023,
     "status": "ok",
     "timestamp": 1519121157763,
     "user": {
      "displayName": "Pawan Bansal",
      "photoUrl": "//lh4.googleusercontent.com/-hQniqzw3AW0/AAAAAAAAAAI/AAAAAAAAAGs/dTfAX9OOw5w/s50-c-k-no/photo.jpg",
      "userId": "102337886470920224775"
     },
     "user_tz": -330
    },
    "id": "_mcw-FEgqcYC",
    "outputId": "b5b57af3-c9c1-4e87-8987-b6fe4d2f543d"
   },
   "outputs": [
    {
     "name": "stdout",
     "output_type": "stream",
     "text": [
      "      Iter       Train Loss   Remaining Time \n",
      "         1     2314275.3681            2.45m\n",
      "         2     2034234.0235            2.41m\n",
      "         3     1803572.2337            2.37m\n",
      "         4     1608749.3223            2.34m\n",
      "         5     1445890.2822            2.33m\n",
      "         6     1307594.0384            2.31m\n",
      "         7     1188230.8595            2.30m\n",
      "         8     1093410.7788            2.31m\n",
      "         9     1009625.5156            2.30m\n",
      "        10      942921.5465            2.30m\n",
      "        20      596844.4649            2.25m\n",
      "        30      497781.8140            2.22m\n",
      "        40      452724.3501            2.20m\n",
      "        50      423902.1842            2.17m\n",
      "        60      400324.1880            2.14m\n",
      "        70      384742.5304            2.11m\n",
      "        80      371501.3233            2.07m\n",
      "        90      360896.1303            2.02m\n",
      "       100      351778.4518            1.97m\n",
      "       200      292815.3392            1.45m\n",
      "       300      262845.3144           57.60s\n",
      "       400      241005.6847           28.64s\n",
      "       500      224750.7518            0.00s\n",
      "('training set performance: ', 0.9152585634503211)\n",
      "('training set performance: ', 0.7994006303226393)\n"
     ]
    }
   ],
   "source": [
    "reg = GradientBoostingRegressor(verbose = 1, n_estimators = 500)\n",
    "reg.fit(X_train , y_train)\n",
    "\n",
    "training_score = reg.score(X_train, y_train)\n",
    "test_score = reg.score(X_test, y_test)\n",
    "\n",
    "training_scores.append(training_score)\n",
    "test_scores.append(test_score)\n",
    "print(\"training set performance: \", training_score)\n",
    "print(\"test set performance: \", test_score)"
   ]
  },
  {
   "cell_type": "code",
   "execution_count": 34,
   "metadata": {
    "colab": {
     "autoexec": {
      "startup": false,
      "wait_interval": 0
     },
     "base_uri": "https://localhost:8080/",
     "height": 390,
     "output_extras": [
      {
       "item_id": 1
      }
     ]
    },
    "colab_type": "code",
    "executionInfo": {
     "elapsed": 1096,
     "status": "ok",
     "timestamp": 1519121952990,
     "user": {
      "displayName": "Pawan Bansal",
      "photoUrl": "//lh4.googleusercontent.com/-hQniqzw3AW0/AAAAAAAAAAI/AAAAAAAAAGs/dTfAX9OOw5w/s50-c-k-no/photo.jpg",
      "userId": "102337886470920224775"
     },
     "user_tz": -330
    },
    "id": "LpUOOyN9qxZ3",
    "outputId": "3fd57b7e-60f6-4f4e-d4bc-f8d72ea1a2d5"
   },
   "outputs": [
    {
     "data": {
      "image/png": "[encoded data removed]",
      "text/plain": [
       "<matplotlib.figure.Figure at 0x7fddb5bce090>"
      ]
     },
     "metadata": {
      "tags": []
     },
     "output_type": "display_data"
    }
   ],
   "source": [
    "pred = reg.predict(X_test).astype(int)\n",
    "\n",
    "temp1 = y_test.values > 0\n",
    "# plt.axis((0,1000,0,1000))\n",
    "plt.scatter(y_test.values[temp1], pred[temp1])\n",
    "plt.xlabel(\"original\", fontsize=12)\n",
    "plt.ylabel(\"predictions\", fontsize=12)\n",
    "plt.show()"
   ]
  },
  {
   "cell_type": "markdown",
   "metadata": {
    "colab_type": "text",
    "id": "AE5vNO_eueCR"
   },
   "source": [
    "## 2. Cat Boost"
   ]
  },
  {
   "cell_type": "code",
   "execution_count": 0,
   "metadata": {
    "colab": {
     "autoexec": {
      "startup": false,
      "wait_interval": 0
     }
    },
    "colab_type": "code",
    "collapsed": true,
    "id": "ReF1DjVNxhOx"
   },
   "outputs": [],
   "source": [
    "models.append(\"cat boost\")"
   ]
  },
  {
   "cell_type": "code",
   "execution_count": 0,
   "metadata": {
    "colab": {
     "autoexec": {
      "startup": false,
      "wait_interval": 0
     }
    },
    "colab_type": "code",
    "collapsed": true,
    "id": "yqYXcoVBusGS"
   },
   "outputs": [],
   "source": [
    "model = CatBoostRegressor(iterations= 440 , depth= 8 , learning_rate= 0.1 , loss_function='RMSE' , use_best_model=True)\n",
    "model.fit(X_train[:90503], y_train[:90503] , eval_set=(X_train[90503:], y_train[90503:]),plot=True)"
   ]
  },
  {
   "cell_type": "code",
   "execution_count": 48,
   "metadata": {
    "colab": {
     "autoexec": {
      "startup": false,
      "wait_interval": 0
     },
     "base_uri": "https://localhost:8080/",
     "height": 52,
     "output_extras": [
      {
       "item_id": 1
      }
     ]
    },
    "colab_type": "code",
    "executionInfo": {
     "elapsed": 1213,
     "status": "ok",
     "timestamp": 1519122924101,
     "user": {
      "displayName": "Pawan Bansal",
      "photoUrl": "//lh4.googleusercontent.com/-hQniqzw3AW0/AAAAAAAAAAI/AAAAAAAAAGs/dTfAX9OOw5w/s50-c-k-no/photo.jpg",
      "userId": "102337886470920224775"
     },
     "user_tz": -330
    },
    "id": "lBWm2szKwBEl",
    "outputId": "bd21f432-ee9c-462c-fcca-e854140fd6e3"
   },
   "outputs": [
    {
     "name": "stdout",
     "output_type": "stream",
     "text": [
      "Training score - 0.9466853308679932\n",
      "Test score - 0.827240593918934\n"
     ]
    }
   ],
   "source": [
    "y_train_pred  =  model.predict(X_train)\n",
    "y_pred = model.predict(X_test)\n",
    "\n",
    "train_score = r2_score(y_train , y_train_pred)\n",
    "test_score = r2_score(y_test, y_pred)\n",
    "\n",
    "training_scores.append(training_score)\n",
    "test_scores.append(test_score)\n",
    "print(\"Training score - \" + str(train_score))\n",
    "print(\"Test score - \" + str(test_score))"
   ]
  },
  {
   "cell_type": "markdown",
   "metadata": {
    "colab_type": "text",
    "id": "lJFgf_2t04zZ"
   },
   "source": [
    "## 3. Random Forest"
   ]
  },
  {
   "cell_type": "code",
   "execution_count": 0,
   "metadata": {
    "colab": {
     "autoexec": {
      "startup": false,
      "wait_interval": 0
     }
    },
    "colab_type": "code",
    "collapsed": true,
    "id": "W-47YMYj3TNu"
   },
   "outputs": [],
   "source": [
    "models.append(\"random forest\")"
   ]
  },
  {
   "cell_type": "code",
   "execution_count": 81,
   "metadata": {
    "colab": {
     "autoexec": {
      "startup": false,
      "wait_interval": 0
     },
     "base_uri": "https://localhost:8080/",
     "height": 139,
     "output_extras": [
      {
       "item_id": 1
      },
      {
       "item_id": 2
      }
     ]
    },
    "colab_type": "code",
    "executionInfo": {
     "elapsed": 22547,
     "status": "ok",
     "timestamp": 1519124671151,
     "user": {
      "displayName": "Pawan Bansal",
      "photoUrl": "//lh4.googleusercontent.com/-hQniqzw3AW0/AAAAAAAAAAI/AAAAAAAAAGs/dTfAX9OOw5w/s50-c-k-no/photo.jpg",
      "userId": "102337886470920224775"
     },
     "user_tz": -330
    },
    "id": "Zy__IZ1AwC-s",
    "outputId": "3e0e82aa-8f77-49d1-ec5b-83d533215db9"
   },
   "outputs": [
    {
     "name": "stderr",
     "output_type": "stream",
     "text": [
      "[Parallel(n_jobs=-1)]: Done  10 out of  10 | elapsed:   21.9s finished\n"
     ]
    },
    {
     "data": {
      "text/plain": [
       "RandomForestRegressor(bootstrap=True, criterion='mse', max_depth=None,\n",
       "           max_features='auto', max_leaf_nodes=None,\n",
       "           min_impurity_decrease=0.0, min_impurity_split=None,\n",
       "           min_samples_leaf=1, min_samples_split=2,\n",
       "           min_weight_fraction_leaf=0.0, n_estimators=10, n_jobs=-1,\n",
       "           oob_score=False, random_state=7, verbose=1, warm_start=False)"
      ]
     },
     "execution_count": 81,
     "metadata": {
      "tags": []
     },
     "output_type": "execute_result"
    }
   ],
   "source": [
    "model = RandomForestRegressor(n_jobs=-1, n_estimators=10, verbose=1, random_state=seed)\n",
    "model.fit(X_train, y_train)"
   ]
  },
  {
   "cell_type": "code",
   "execution_count": 82,
   "metadata": {
    "colab": {
     "autoexec": {
      "startup": false,
      "wait_interval": 0
     },
     "base_uri": "https://localhost:8080/",
     "height": 86,
     "output_extras": [
      {
       "item_id": 1
      },
      {
       "item_id": 2
      }
     ]
    },
    "colab_type": "code",
    "executionInfo": {
     "elapsed": 1335,
     "status": "ok",
     "timestamp": 1519124674034,
     "user": {
      "displayName": "Pawan Bansal",
      "photoUrl": "//lh4.googleusercontent.com/-hQniqzw3AW0/AAAAAAAAAAI/AAAAAAAAAGs/dTfAX9OOw5w/s50-c-k-no/photo.jpg",
      "userId": "102337886470920224775"
     },
     "user_tz": -330
    },
    "id": "liEZwYXY1E1o",
    "outputId": "7ea3b5d7-3d0b-4dbe-c1aa-b12019b639bd"
   },
   "outputs": [
    {
     "name": "stdout",
     "output_type": "stream",
     "text": [
      "('training score: ', 0.9621975488319267)\n",
      "('test score: ', 0.7932394748872148)\n"
     ]
    },
    {
     "name": "stderr",
     "output_type": "stream",
     "text": [
      "[Parallel(n_jobs=2)]: Done  10 out of  10 | elapsed:    0.3s finished\n",
      "[Parallel(n_jobs=2)]: Done  10 out of  10 | elapsed:    0.0s finished\n"
     ]
    }
   ],
   "source": [
    "training_score = model.score(X_train, y_train)\n",
    "test_score = model.score(X_test, y_test)\n",
    "\n",
    "print(\"training score: \", training_score)\n",
    "print(\"test score: \", test_score)"
   ]
  },
  {
   "cell_type": "code",
   "execution_count": 0,
   "metadata": {
    "colab": {
     "autoexec": {
      "startup": false,
      "wait_interval": 0
     }
    },
    "colab_type": "code",
    "collapsed": true,
    "id": "PESOXPwY27SO"
   },
   "outputs": [],
   "source": [
    "training_scores.append(training_score)\n",
    "test_scores.append(test_score)"
   ]
  },
  {
   "cell_type": "markdown",
   "metadata": {
    "colab_type": "text",
    "id": "stPUH9TL4CYh"
   },
   "source": [
    "## 4. Neural Network"
   ]
  },
  {
   "cell_type": "code",
   "execution_count": 0,
   "metadata": {
    "colab": {
     "autoexec": {
      "startup": false,
      "wait_interval": 0
     }
    },
    "colab_type": "code",
    "collapsed": true,
    "id": "7ybHijZj5wRv"
   },
   "outputs": [],
   "source": [
    "models.append(\"neural network\")"
   ]
  },
  {
   "cell_type": "code",
   "execution_count": 126,
   "metadata": {
    "colab": {
     "autoexec": {
      "startup": false,
      "wait_interval": 0
     },
     "base_uri": "https://localhost:8080/",
     "height": 402,
     "output_extras": [
      {
       "item_id": 107
      },
      {
       "item_id": 191
      },
      {
       "item_id": 300
      },
      {
       "item_id": 416
      },
      {
       "item_id": 492
      },
      {
       "item_id": 598
      },
      {
       "item_id": 599
      }
     ]
    },
    "colab_type": "code",
    "executionInfo": {
     "elapsed": 224494,
     "status": "ok",
     "timestamp": 1519128490356,
     "user": {
      "displayName": "Pawan Bansal",
      "photoUrl": "//lh4.googleusercontent.com/-hQniqzw3AW0/AAAAAAAAAAI/AAAAAAAAAGs/dTfAX9OOw5w/s50-c-k-no/photo.jpg",
      "userId": "102337886470920224775"
     },
     "user_tz": -330
    },
    "id": "GOZfkMlQ4EtJ",
    "outputId": "1b0036ca-d929-4adb-d97a-b856e0dd84e4"
   },
   "outputs": [
    {
     "name": "stdout",
     "output_type": "stream",
     "text": [
      "Epoch 1/10\n",
      "95503/95503 [==============================] - 23s 236us/step - loss: 1426592.9792\n",
      "Epoch 2/10\n",
      "80064/95503 [========================>.....] - ETA: 3s - loss: 1140652.504595503/95503 [==============================] - 22s 232us/step - loss: 2178143.3739\n",
      "Epoch 3/10\n",
      "95503/95503 [==============================] - 22s 234us/step - loss: 1195133.7699\n",
      "Epoch 4/10\n",
      "19328/95503 [=====>........................] - ETA: 17s - loss: 919646.060095503/95503 [==============================] - 22s 234us/step - loss: 999633.2443\n",
      "Epoch 5/10\n",
      "95503/95503 [==============================] - 22s 232us/step - loss: 862275.2634\n",
      "Epoch 6/10\n",
      " 3168/95503 [..............................] - ETA: 21s - loss: 466866.896795503/95503 [==============================] - 22s 231us/step - loss: 910655.6377\n",
      "Epoch 7/10\n",
      "93888/95503 [============================>.] - ETA: 0s - loss: 792743.879995503/95503 [==============================] - 22s 233us/step - loss: 802929.4407\n",
      "Epoch 8/10\n",
      "95503/95503 [==============================] - 22s 233us/step - loss: 856054.5725\n",
      "Epoch 9/10\n",
      "24096/95503 [======>.......................] - ETA: 16s - loss: 796268.264295503/95503 [==============================] - 23s 236us/step - loss: 854576.2596\n",
      "Epoch 10/10\n",
      "95503/95503 [==============================] - 22s 233us/step - loss: 716396.9110\n"
     ]
    },
    {
     "data": {
      "text/plain": [
       "<keras.callbacks.History at 0x7fddabe0e310>"
      ]
     },
     "execution_count": 126,
     "metadata": {
      "tags": []
     },
     "output_type": "execute_result"
    }
   ],
   "source": [
    "def baseline_model():\n",
    "    model = Sequential()\n",
    "    model.add(Dense(100,input_dim=54, activation='relu', kernel_initializer='glorot_normal'))\n",
    "    model.add(Dropout(0.2))    \n",
    "    model.add(Dense(80, activation='relu', kernel_initializer='glorot_normal'))\n",
    "    model.add(Dropout(0.2))\n",
    "    model.add(Dense(60, activation='relu', kernel_initializer='glorot_normal'))\n",
    "    model.add(Dropout(0.2))   \n",
    "    model.add(Dense(40, activation='relu', kernel_initializer='glorot_normal'))\n",
    "    model.add(Dropout(0.2))\n",
    "    model.add(Dense(20, activation='relu', kernel_initializer='glorot_normal'))\n",
    "    model.add(Dropout(0.2))\n",
    "    model.add(Dense(10, activation='relu', kernel_initializer='glorot_normal'))\n",
    "    model.add(Dropout(0.2))\n",
    "    model.add(Dense(1, kernel_initializer='glorot_normal'))\n",
    "    \n",
    "    model.compile(loss='mean_squared_error', optimizer='adam')\n",
    "    return model\n",
    "\n",
    "estimator = KerasRegressor(build_fn=baseline_model, nb_epoch=200, epochs=10, batch_size=32, verbose=True)\n",
    "# kfold = KFold(n_splits=10, random_state=seed)\n",
    "# results = cross_val_score(estimator, X_train.values, y_train.values, cv=kfold)\n",
    "# print(\"Results: %.2f (%.2f) MSE\" % (results.mean(), results.std()))\n",
    "\n",
    "estimator.fit(X_train, y_train)"
   ]
  },
  {
   "cell_type": "code",
   "execution_count": 127,
   "metadata": {
    "colab": {
     "autoexec": {
      "startup": false,
      "wait_interval": 0
     },
     "base_uri": "https://localhost:8080/",
     "height": 86,
     "output_extras": [
      {
       "item_id": 11
      }
     ]
    },
    "colab_type": "code",
    "executionInfo": {
     "elapsed": 5115,
     "status": "ok",
     "timestamp": 1519128546517,
     "user": {
      "displayName": "Pawan Bansal",
      "photoUrl": "//lh4.googleusercontent.com/-hQniqzw3AW0/AAAAAAAAAAI/AAAAAAAAAGs/dTfAX9OOw5w/s50-c-k-no/photo.jpg",
      "userId": "102337886470920224775"
     },
     "user_tz": -330
    },
    "id": "IyToCFgS5c7K",
    "outputId": "5546c597-cb24-437a-fb1b-fdc31b46cfbe"
   },
   "outputs": [
    {
     "name": "stdout",
     "output_type": "stream",
     "text": [
      "95503/95503 [==============================] - 4s 43us/step\n",
      "10612/10612 [==============================] - 0s 45us/step\n",
      "('training score: ', 0.8259016551067639)\n",
      "('test score: ', 0.7981640331110263)\n"
     ]
    }
   ],
   "source": [
    "train_pred = estimator.predict(X_train)\n",
    "test_pred = estimator.predict(X_test)\n",
    "\n",
    "training_score = r2_score(y_train, train_pred)\n",
    "test_score = r2_score(y_test, test_pred)\n",
    "\n",
    "print(\"training score: \", training_score)\n",
    "print(\"test score: \", test_score)"
   ]
  },
  {
   "cell_type": "code",
   "execution_count": 0,
   "metadata": {
    "colab": {
     "autoexec": {
      "startup": false,
      "wait_interval": 0
     }
    },
    "colab_type": "code",
    "collapsed": true,
    "id": "QN8YlA525tpE"
   },
   "outputs": [],
   "source": [
    "training_scores.append(training_score)\n",
    "test_scores.append(test_score)"
   ]
  },
  {
   "cell_type": "markdown",
   "metadata": {
    "colab_type": "text",
    "id": "fNyX2xkpcmcx"
   },
   "source": [
    "# Comparing all model's results"
   ]
  },
  {
   "cell_type": "code",
   "execution_count": 131,
   "metadata": {
    "colab": {
     "autoexec": {
      "startup": false,
      "wait_interval": 0
     },
     "base_uri": "https://localhost:8080/",
     "height": 69,
     "output_extras": [
      {
       "item_id": 1
      }
     ]
    },
    "colab_type": "code",
    "executionInfo": {
     "elapsed": 840,
     "status": "ok",
     "timestamp": 1519130258549,
     "user": {
      "displayName": "Pawan Bansal",
      "photoUrl": "//lh4.googleusercontent.com/-hQniqzw3AW0/AAAAAAAAAAI/AAAAAAAAAGs/dTfAX9OOw5w/s50-c-k-no/photo.jpg",
      "userId": "102337886470920224775"
     },
     "user_tz": -330
    },
    "id": "OTFvPxEeN4MY",
    "outputId": "c2ed0976-4f05-41de-d0a7-a702ba8ad39d"
   },
   "outputs": [
    {
     "name": "stdout",
     "output_type": "stream",
     "text": [
      "['gradient boost', 'cat boost', 'random forest', 'neural network']\n",
      "[0.7936297533635706, 0.7936297533635706, 0.9621975488319267, 0.8259016551067639]\n",
      "[0.7696216055989064, 0.827240593918934, 0.7932394748872148, 0.7981640331110263]\n"
     ]
    }
   ],
   "source": [
    "print(models)\n",
    "print(training_scores)\n",
    "print(test_scores)"
   ]
  },
  {
   "cell_type": "code",
   "execution_count": 224,
   "metadata": {
    "colab": {
     "autoexec": {
      "startup": false,
      "wait_interval": 0
     },
     "base_uri": "https://localhost:8080/",
     "height": 522,
     "output_extras": [
      {
       "item_id": 1
      }
     ]
    },
    "colab_type": "code",
    "executionInfo": {
     "elapsed": 924,
     "status": "ok",
     "timestamp": 1519134063364,
     "user": {
      "displayName": "Pawan Bansal",
      "photoUrl": "//lh4.googleusercontent.com/-hQniqzw3AW0/AAAAAAAAAAI/AAAAAAAAAGs/dTfAX9OOw5w/s50-c-k-no/photo.jpg",
      "userId": "102337886470920224775"
     },
     "user_tz": -330
    },
    "id": "1Sue-rrkOnFc",
    "outputId": "ee20a996-e6ef-4db8-fbfd-6bd6f0afbab3"
   },
   "outputs": [
    {
     "data": {
      "image/png": "[encoded data removed]",
      "text/plain": [
       "<matplotlib.figure.Figure at 0x7fdda9ad3790>"
      ]
     },
     "metadata": {
      "tags": []
     },
     "output_type": "display_data"
    }
   ],
   "source": [
    "SMALL_SIZE = 8\n",
    "MEDIUM_SIZE = 10\n",
    "BIGGER_SIZE = 12\n",
    "\n",
    "mpl.rc('font', size=MEDIUM_SIZE)          # controls default text sizes\n",
    "mpl.rc('axes', titlesize=18)     # fontsize of the axes title\n",
    "mpl.rc('axes', labelsize=16)    # fontsize of the x and y labels\n",
    "mpl.rc('xtick', labelsize=MEDIUM_SIZE)    # fontsize of the tick labels\n",
    "mpl.rc('ytick', labelsize=MEDIUM_SIZE)    # fontsize of the tick labels\n",
    "mpl.rc('legend', fontsize=BIGGER_SIZE)    # legend fontsize\n",
    "mpl.rc('figure', titlesize=BIGGER_SIZE)  # fontsize of the figure title\n",
    "\n",
    "y_pos = np.arange(len(models))\n",
    "rects1 = plt.bar(y_pos-0.12, training_scores, 0.35, alpha=0.8, color=color[2], label=\"train score\")\n",
    "rects2 = plt.bar(y_pos+0.13, test_scores, 0.35, alpha=0.8, color=color[5], label=\"test score\")\n",
    "plt.xticks(y_pos, models)\n",
    "plt.xlabel('Models')\n",
    "plt.title('R2 scores of different models')\n",
    "plt.legend()\n",
    "\n",
    "def autolabel(rects):\n",
    "    \"\"\"\n",
    "    Attach a text label above each bar displaying its height\n",
    "    \"\"\"\n",
    "    for rect in rects:\n",
    "        height = rect.get_height()\n",
    "        plt.text(rect.get_x() + rect.get_width()/2., 1.01*height,\n",
    "                '%.2f' % float(height),\n",
    "                ha='center', va='bottom')\n",
    "\n",
    "autolabel(rects1)\n",
    "autolabel(rects2)\n",
    "\n",
    "plt.show()"
   ]
  }
 ],
 "metadata": {
  "accelerator": "GPU",
  "colab": {
   "default_view": {},
   "name": "Untitled0.ipynb",
   "provenance": [],
   "version": "0.3.2",
   "views": {}
  },
  "kernelspec": {
   "display_name": "Python 3",
   "language": "python",
   "name": "python3"
  },
  "language_info": {
   "codemirror_mode": {
    "name": "ipython",
    "version": 3
   },
   "file_extension": ".py",
   "mimetype": "text/x-python",
   "name": "python",
   "nbconvert_exporter": "python",
   "pygments_lexer": "ipython3",
   "version": "3.6.4"
  }
 },
 "nbformat": 4,
 "nbformat_minor": 1
}
