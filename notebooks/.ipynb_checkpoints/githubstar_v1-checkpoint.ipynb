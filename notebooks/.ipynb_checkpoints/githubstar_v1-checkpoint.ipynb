{
 "cells": [
  {
   "cell_type": "code",
   "execution_count": 1,
   "metadata": {},
   "outputs": [
    {
     "data": {
      "text/plain": [
       "'# random forest'"
      ]
     },
     "execution_count": 1,
     "metadata": {},
     "output_type": "execute_result"
    }
   ],
   "source": [
    "# Ignore warnings\n",
    "import warnings\n",
    "warnings.filterwarnings('ignore')\n",
    "\n",
    "# Handle table-like data and matrices\n",
    "import numpy as np\n",
    "import pandas as pd\n",
    "\n",
    "# Visualisation\n",
    "import matplotlib as mpl\n",
    "import matplotlib.pyplot as plt\n",
    "import matplotlib.pylab as pylab\n",
    "# import seaborn as sns\n",
    "from datetime import datetime\n",
    "from sklearn.preprocessing import StandardScaler\n",
    "from sklearn.model_selection import train_test_split\n",
    "\n",
    "\n",
    "# Configure visualisations\n",
    "# %matplotlib inline\n",
    "# color = sns.color_palette()\n",
    "pd.options.mode.chained_assignment = None\n",
    "pd.options.display.max_columns = 999\n",
    "# mpl.style.use( 'ggplot' )\n",
    "# sns.set_style( 'whitegrid' )\n",
    "pylab.rcParams[ 'figure.figsize' ] = 8,6\n",
    "  \n",
    "data = pd.read_csv('/input/finaldata.csv')\n",
    "\n",
    "newDf = data.select_dtypes(include=[np.number])\n",
    "cols  = newDf.columns\n",
    "zero_rows = []\n",
    "zero_per = []\n",
    "for i in cols:\n",
    "    zero_rows.append(newDf[newDf[i] == 0].shape[0])\n",
    "    zero_per.append(newDf[newDf[i] == 0].shape[0] * 100 / float(data.shape[0]))\n",
    "\n",
    "df = pd.DataFrame({'col':cols,'numberRows':zero_rows,'zero_per':zero_per})\n",
    "\n",
    "\"\"\"# changing the time to their hours representation\"\"\"\n",
    "\n",
    "time_columns = ['createdAt','updatedAt','pushedAt']\n",
    "for i in time_columns:\n",
    "    data[i] =  data[i].apply(lambda x : x.replace('T',' ').replace('Z',''))\n",
    "\n",
    "\n",
    "for i in time_columns:\n",
    "    data[i] = data[i].apply(lambda x: int(datetime.strptime(x,'%Y-%m-%d %H:%M:%S').strftime('%s')) / (60 * 60))\n",
    "\n",
    "\"\"\"# website url to binary form 1(yes) / 0(no)\"\"\"\n",
    "\n",
    "data['websiteUrl'] = data['websiteUrl'].fillna('')\n",
    "\n",
    "data['websiteUrl'] = data['websiteUrl'].apply(lambda x : 1 if len(x) > 0 else 0)\n",
    "\n",
    "data['description'] = data['description'].fillna('')\n",
    "\n",
    "\"\"\"# **description Word and character count**\"\"\"\n",
    "\n",
    "data['desWordCount'] = data['description'].apply(lambda x: len(x.split(' ')))\n",
    "data['desCharCount'] = data['description'].apply(len)\n",
    "\n",
    "\"\"\"# hasWikiEnabled to binary form\"\"\"\n",
    "\n",
    "data['hasWikiEnabled'] = data['hasWikiEnabled'].apply(lambda x : 1 if x else 0)\n",
    "\n",
    "\"\"\"# license to one hot encoding\"\"\"\n",
    "\n",
    "data['license'] = data['license'].fillna('')\n",
    "\n",
    "license_cols = ['mit_license','nan_license','apache_license','other_license','remain_license']\n",
    "\n",
    "for i in license_cols:\n",
    "    \n",
    "    if i.startswith('mit'):\n",
    "        data[i] = data['license'].apply(lambda x: 1 if x == 'MIT License' else 0)\n",
    "    elif i.startswith('nan'):\n",
    "        data[i] = data['license'].apply(lambda x: int(len(x) == 0))\n",
    "    elif i.startswith('apache'):\n",
    "        data[i] = data['license'].apply(lambda x: 1 if x == 'Apache License 2.0' else 0)\n",
    "    elif i.startswith('other'):\n",
    "        data[i] = data['license'].apply(lambda x: 1 if x == 'Other' else 0)\n",
    "\n",
    "data['remain_license'] = (data[license_cols[:-1]].sum(axis=1) == 0).astype(int)\n",
    "\n",
    "\"\"\"# primary language to one hot\"\"\"\n",
    "\n",
    "\n",
    "lang_cols = np.array(data.primaryLanguage.value_counts()[:6].index)\n",
    "\n",
    "data[lang_cols[0]] = data.primaryLanguage.apply(lambda x : int(x == 'JavaScript'))                  \n",
    "data[lang_cols[1]] = data.primaryLanguage.apply(lambda x : int(x == 'Python'))                  \n",
    "data[lang_cols[2]] = data.primaryLanguage.apply(lambda x : int(x == 'Java'))                  \n",
    "data[lang_cols[3]] = data.primaryLanguage.apply(lambda x : int(x == 'Objective-C'))                  \n",
    "data[lang_cols[4]] = data.primaryLanguage.apply(lambda x : int(x == 'Ruby'))                  \n",
    "data[lang_cols[5]] = data.primaryLanguage.apply(lambda x : int(x == 'PHP'))\n",
    "data['other_language'] = (data[lang_cols].sum(axis=1) == 0).astype(int)\n",
    "\n",
    "\"\"\"# type to binary 1(user) / 0(org)\"\"\"\n",
    "\n",
    "data['type'] = data.type.apply(lambda x : 1 if x == 'user' else 0)\n",
    "\n",
    "\"\"\"# setting nan members to 0\"\"\"\n",
    "\n",
    "data['members'] = data['members'].fillna(0)\n",
    "\n",
    "\"\"\"# changing NAN to 0 for the following\"\"\"\n",
    "\n",
    "data['organizations'] = data['organizations'].fillna(0)\n",
    "data['gists'] = data['gists'].fillna(0)\n",
    "data['gistStar'] = data['gistStar'].fillna(0)\n",
    "data['gistComments'] = data['gistComments'].fillna(0)\n",
    "data['following'] = data['following'].fillna(0)\n",
    "data['followers'] = data['followers'].fillna(0)\n",
    "\n",
    "\"\"\"# removing the null numCommits(of master branch) rows\"\"\"\n",
    "\n",
    "\n",
    "data = data[data.commits.notnull()]\n",
    "\n",
    "\"\"\"# removing the null repo name rows\"\"\"\n",
    "\n",
    "data = data[data.reponame.notnull()]\n",
    "\n",
    "## Columns to drop\n",
    "df = data\n",
    "col = ['description' , 'isArchived' , 'license' ,'location' , 'login' , 'primaryLanguage' , 'reponame' , 'siteAdmin']\n",
    "data = data.drop(col , axis = 1)\n",
    "\n",
    "X = data.drop(['stars'] , axis =1)\n",
    "Y = data.stars\n",
    "\n",
    "s = StandardScaler()\n",
    "X = s.fit_transform(X)\n",
    "\n",
    "X_train, X_test, y_train, y_test = train_test_split(X, Y, test_size=0.20, random_state=42)\n",
    "\n",
    "\"\"\"# random forest\"\"\"\n",
    "\n",
    "# from sklearn.ensemble import RandomForestRegressor\n",
    "# model = RandomForestRegressor(n_jobs=-1)\n",
    "# # Try different numbers of n_estimators - this will take a minute or so\n",
    "# estimators = np.arange(10, 200, 10)\n",
    "# scores = []\n",
    "# for n in estimators:\n",
    "#     model.set_params(n_estimators=n)\n",
    "#     model.fit(X_train, y_train)\n",
    "#     scores.append(model.score(X_test, y_test))\n",
    "# plt.title(\"Effect of n_estimators\")\n",
    "# plt.xlabel(\"n_estimator\")\n",
    "# plt.ylabel(\"score\")\n",
    "# plt.plot(estimators, scores)\n",
    "\n",
    "# from sklearn.ensemble import GradientBoostingRegressor\n",
    "# reg = GradientBoostingRegressor(verbose = 1)\n",
    "# reg.fit(X_train , y_train)\n",
    "# print(reg.score(X_train, y_train))\n",
    "# print(reg.score(X_test, y_test))\n",
    "\n"
   ]
  },
  {
   "cell_type": "code",
   "execution_count": 2,
   "metadata": {},
   "outputs": [
    {
     "name": "stdout",
     "output_type": "stream",
     "text": [
      "      Iter       Train Loss   Remaining Time \n",
      "         1     2360314.1265           20.76s\n",
      "         2     2074469.1673           20.97s\n",
      "         3     1836205.1469           20.61s\n",
      "         4     1638331.9862           20.37s\n",
      "         5     1467911.6259           19.88s\n",
      "         6     1329086.0858           19.87s\n",
      "         7     1208981.9030           19.86s\n",
      "         8     1113993.2064           19.76s\n",
      "         9     1029045.8079           19.42s\n",
      "        10      958567.9627           19.15s\n",
      "        20      602582.8212           17.06s\n",
      "        30      498356.7437           15.24s\n",
      "        40      452840.1770           13.19s\n",
      "        50      421269.7745           11.12s\n",
      "        60      397800.7554            8.98s\n",
      "        70      381910.7280            6.82s\n",
      "        80      370756.3901            4.57s\n",
      "        90      358842.4047            2.29s\n",
      "       100      350172.1649            0.00s\n",
      "0.870595381319\n",
      "0.786134238151\n"
     ]
    }
   ],
   "source": [
    "from sklearn.ensemble import GradientBoostingRegressor\n",
    "reg = GradientBoostingRegressor(verbose = 1)\n",
    "reg.fit(X_train , y_train)\n",
    "print(reg.score(X_train, y_train))\n",
    "print(reg.score(X_test, y_test))"
   ]
  },
  {
   "cell_type": "code",
   "execution_count": 5,
   "metadata": {},
   "outputs": [
    {
     "name": "stdout",
     "output_type": "stream",
     "text": [
      "0.637669673837\n",
      "0.603356606944\n"
     ]
    }
   ],
   "source": [
    "from sklearn.linear_model import Lasso\n",
    "lg = Lasso(alpha = 0.01)\n",
    "lg.fit(X_train, y_train)\n",
    "print(lg.score(X_train, y_train))\n",
    "print(lg.score(X_test, y_test))"
   ]
  },
  {
   "cell_type": "code",
   "execution_count": 7,
   "metadata": {},
   "outputs": [
    {
     "name": "stdout",
     "output_type": "stream",
     "text": [
      "0.637669729405\n",
      "0.603297763456\n"
     ]
    }
   ],
   "source": [
    "from sklearn.linear_model import Ridge\n",
    "lg = Ridge(alpha = 0.001)\n",
    "lg.fit(X_train, y_train)\n",
    "print(lg.score(X_train, y_train))\n",
    "print(lg.score(X_test, y_test))"
   ]
  },
  {
   "cell_type": "code",
   "execution_count": 8,
   "metadata": {
    "collapsed": true
   },
   "outputs": [],
   "source": [
    "import xgboost"
   ]
  },
  {
   "cell_type": "code",
   "execution_count": 9,
   "metadata": {
    "collapsed": true
   },
   "outputs": [],
   "source": [
    "xgb = xgboost.XGBRegressor(n_estimators=100, learning_rate=0.08, gamma=0, subsample=0.75,\n",
    "                           colsample_bytree=1, max_depth=7)"
   ]
  },
  {
   "cell_type": "code",
   "execution_count": 10,
   "metadata": {},
   "outputs": [
    {
     "data": {
      "text/plain": [
       "XGBRegressor(base_score=0.5, booster='gbtree', colsample_bylevel=1,\n",
       "       colsample_bytree=1, gamma=0, learning_rate=0.08, max_delta_step=0,\n",
       "       max_depth=7, min_child_weight=1, missing=None, n_estimators=100,\n",
       "       n_jobs=1, nthread=None, objective='reg:linear', random_state=0,\n",
       "       reg_alpha=0, reg_lambda=1, scale_pos_weight=1, seed=None,\n",
       "       silent=True, subsample=0.75)"
      ]
     },
     "execution_count": 10,
     "metadata": {},
     "output_type": "execute_result"
    }
   ],
   "source": [
    "xgb.fit(X_train,y_train)"
   ]
  },
  {
   "cell_type": "code",
   "execution_count": 12,
   "metadata": {},
   "outputs": [
    {
     "name": "stdout",
     "output_type": "stream",
     "text": [
      "0.942744905903\n",
      "0.820112348943\n"
     ]
    }
   ],
   "source": [
    "print(xgb.score(X_train, y_train))\n",
    "print(xgb.score(X_test, y_test))"
   ]
  },
  {
   "cell_type": "code",
   "execution_count": null,
   "metadata": {},
   "outputs": [
    {
     "name": "stdout",
     "output_type": "stream",
     "text": [
      "0.974180918503\n",
      "0.793829574743\n"
     ]
    }
   ],
   "source": [
    "from sklearn.ensemble import RandomForestRegressor\n",
    "model = RandomForestRegressor(n_jobs=-1)\n",
    "# Try different numbers of n_estimators - this will take a minute or so\n",
    "model.set_params(n_estimators=100)\n",
    "model.fit(X_train, y_train)\n",
    "print(model.score(X_train, y_train))\n",
    "print(model.score(X_test, y_test))"
   ]
  },
  {
   "cell_type": "code",
   "execution_count": 32,
   "metadata": {
    "collapsed": true
   },
   "outputs": [],
   "source": [
    "from sklearn.model_selection import cross_val_score, KFold\n",
    "from keras.models import Sequential\n",
    "from keras.layers import Dense, Dropout\n",
    "from sklearn.metrics import accuracy_score,mean_squared_error\n",
    "from keras.wrappers.scikit_learn import KerasRegressor\n",
    "seed = 1"
   ]
  },
  {
   "cell_type": "code",
   "execution_count": 41,
   "metadata": {},
   "outputs": [
    {
     "name": "stdout",
     "output_type": "stream",
     "text": [
      "Epoch 1/10\n",
      "84892/84892 [==============================] - 5s - loss: 1724097.8972     \n",
      "Epoch 2/10\n",
      "84892/84892 [==============================] - 5s - loss: 1348093.5676     \n",
      "Epoch 3/10\n",
      "84892/84892 [==============================] - 5s - loss: 1175060.0048     \n",
      "Epoch 4/10\n",
      "84892/84892 [==============================] - 5s - loss: 1042443.1267     \n",
      "Epoch 5/10\n",
      "84892/84892 [==============================] - 5s - loss: 1003356.5174     \n",
      "Epoch 6/10\n",
      "84892/84892 [==============================] - 5s - loss: 837534.3624     \n",
      "Epoch 7/10\n",
      "84892/84892 [==============================] - 5s - loss: 856101.4667     \n",
      "Epoch 8/10\n",
      "84892/84892 [==============================] - 5s - loss: 834284.5881     \n",
      "Epoch 9/10\n",
      "84892/84892 [==============================] - 5s - loss: 895557.0279     \n",
      "Epoch 10/10\n",
      "84892/84892 [==============================] - 5s - loss: 771404.1991     \n",
      "20224/21223 [===========================>..] - ETA: 0s"
     ]
    }
   ],
   "source": [
    "def baseline_model():\n",
    "    model = Sequential()\n",
    "    model.add(Dense(200, input_dim=54, activation='relu'))\n",
    "    model.add(Dropout(0.5))\n",
    "    model.add(Dense(100, activation='relu'))\n",
    "    model.add(Dropout(0.25))\n",
    "    model.add(Dense(50, activation='relu'))\n",
    "    model.add(Dropout(0.2))\n",
    "    model.add(Dense(32, activation='relu'))\n",
    "    model.add(Dense(1))\n",
    "    model.compile(loss='mean_squared_error', optimizer='adam')\n",
    "    return model\n",
    "\n",
    "\n",
    "estimator = KerasRegressor(build_fn=baseline_model, nb_epoch=200, batch_size=32, verbose=True)\n",
    "# kfold = KFold(n_splits=1, random_state=seed)\n",
    "# results = cross_val_score(estimator, X_train, y_train, cv=kfold)\n",
    "# print(\"Results: %.2f (%.2f) MSE\" % (results.mean(), results.std()))\n",
    "\n",
    "estimator.fit(X_train, y_train)\n",
    "prediction = estimator.predict(X_test)\n"
   ]
  },
  {
   "cell_type": "code",
   "execution_count": 42,
   "metadata": {
    "collapsed": true
   },
   "outputs": [],
   "source": [
    "from sklearn.metrics import r2_score"
   ]
  },
  {
   "cell_type": "code",
   "execution_count": 43,
   "metadata": {},
   "outputs": [
    {
     "data": {
      "text/plain": [
       "0.77763812590562786"
      ]
     },
     "execution_count": 43,
     "metadata": {},
     "output_type": "execute_result"
    }
   ],
   "source": [
    "r2_score(y_test, prediction)"
   ]
  },
  {
   "cell_type": "code",
   "execution_count": 44,
   "metadata": {},
   "outputs": [
    {
     "name": "stdout",
     "output_type": "stream",
     "text": [
      "738.401028793\n"
     ]
    }
   ],
   "source": [
    "print(mean_squared_error(y_test, prediction) ** 0.5)"
   ]
  },
  {
   "cell_type": "code",
   "execution_count": null,
   "metadata": {
    "collapsed": true
   },
   "outputs": [],
   "source": []
  }
 ],
 "metadata": {
  "kernelspec": {
   "display_name": "Python 2",
   "language": "python",
   "name": "python2"
  },
  "language_info": {
   "codemirror_mode": {
    "name": "ipython",
    "version": 2
   },
   "file_extension": ".py",
   "mimetype": "text/x-python",
   "name": "python",
   "nbconvert_exporter": "python",
   "pygments_lexer": "ipython2",
   "version": "2.7.13"
  }
 },
 "nbformat": 4,
 "nbformat_minor": 2
}
