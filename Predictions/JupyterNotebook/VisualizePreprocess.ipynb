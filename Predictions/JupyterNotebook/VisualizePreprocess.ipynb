{
  "nbformat": 4,
  "nbformat_minor": 0,
  "metadata": {
    "colab": {
      "name": "Visualize.ipynb",
      "version": "0.3.2",
      "views": {},
      "default_view": {},
      "provenance": []
    },
    "kernelspec": {
      "name": "python2",
      "display_name": "Python 2"
    }
  },
  "cells": [
    {
      "metadata": {
        "id": "KqTGzvKHvoyI",
        "colab_type": "text"
      },
      "cell_type": "markdown",
      "source": [
        "# Visualizing The Dataset"
      ]
    },
    {
      "metadata": {
        "id": "FkoaR18hugMW",
        "colab_type": "code",
        "colab": {
          "autoexec": {
            "startup": false,
            "wait_interval": 0
          },
          "output_extras": [
            {
              "item_id": 4
            }
          ],
          "base_uri": "https://localhost:8080/",
          "height": 306
        },
        "outputId": "f0228571-7c9b-490a-b1c3-a6efe7b4c778",
        "executionInfo": {
          "status": "ok",
          "timestamp": 1519038148153,
          "user_tz": -330,
          "elapsed": 3487,
          "user": {
            "displayName": "Anmol Dua",
            "photoUrl": "https://lh3.googleusercontent.com/a/default-user=s128",
            "userId": "105983295350785523892"
          }
        }
      },
      "cell_type": "code",
      "source": [
        "!wget = 'https://raw.githubusercontent.com/Doodies/Github-Stars-Predictor/master/finaldata.csv'"
      ],
      "execution_count": 1,
      "outputs": [
        {
          "output_type": "stream",
          "text": [
            "--2018-02-19 10:58:14--  http://=/\n",
            "Resolving = (=)... failed: Name or service not known.\n",
            "wget: unable to resolve host address ‘=’\n",
            "--2018-02-19 10:58:14--  https://raw.githubusercontent.com/Doodies/Github-Stars-Predictor/master/finaldata.csv\n",
            "Resolving raw.githubusercontent.com (raw.githubusercontent.com)... 151.101.0.133, 151.101.64.133, 151.101.128.133, ...\n",
            "Connecting to raw.githubusercontent.com (raw.githubusercontent.com)|151.101.0.133|:443... connected.\n",
            "HTTP request sent, awaiting response... 200 OK\n",
            "Length: 35424703 (34M) [text/plain]\n",
            "Saving to: ‘finaldata.csv’\n",
            "\n",
            "finaldata.csv       100%[===================>]  33.78M  41.4MB/s    in 0.8s    \n",
            "\n",
            "2018-02-19 10:58:15 (41.4 MB/s) - ‘finaldata.csv’ saved [35424703/35424703]\n",
            "\n",
            "FINISHED --2018-02-19 10:58:15--\n",
            "Total wall clock time: 1.6s\n",
            "Downloaded: 1 files, 34M in 0.8s (41.4 MB/s)\n"
          ],
          "name": "stdout"
        }
      ]
    },
    {
      "metadata": {
        "id": "r-Em7R-TuqAt",
        "colab_type": "code",
        "colab": {
          "autoexec": {
            "startup": false,
            "wait_interval": 0
          },
          "output_extras": [
            {
              "item_id": 1
            }
          ],
          "base_uri": "https://localhost:8080/",
          "height": 34
        },
        "outputId": "c503b04f-0871-4087-eaac-d2144711b661",
        "executionInfo": {
          "status": "ok",
          "timestamp": 1519038159288,
          "user_tz": -330,
          "elapsed": 2000,
          "user": {
            "displayName": "Anmol Dua",
            "photoUrl": "https://lh3.googleusercontent.com/a/default-user=s128",
            "userId": "105983295350785523892"
          }
        }
      },
      "cell_type": "code",
      "source": [
        "!ls"
      ],
      "execution_count": 2,
      "outputs": [
        {
          "output_type": "stream",
          "text": [
            "datalab  finaldata.csv\r\n"
          ],
          "name": "stdout"
        }
      ]
    },
    {
      "metadata": {
        "id": "Iy883ZNiutGE",
        "colab_type": "code",
        "colab": {
          "autoexec": {
            "startup": false,
            "wait_interval": 0
          }
        }
      },
      "cell_type": "code",
      "source": [
        "# Ignore warnings\n",
        "import warnings\n",
        "warnings.filterwarnings('ignore')\n",
        "\n",
        "# Handle table-like data and matrices\n",
        "import numpy as np\n",
        "import pandas as pd\n",
        "\n",
        "# Visualisation\n",
        "import matplotlib as mpl\n",
        "import matplotlib.pyplot as plt\n",
        "import matplotlib.pylab as pylab\n",
        "import seaborn as sns\n",
        "\n",
        "# Configure visualisations\n",
        "%matplotlib inline\n",
        "color = sns.color_palette()\n",
        "pd.options.mode.chained_assignment = None\n",
        "pd.options.display.max_columns = 999\n",
        "# mpl.style.use( 'ggplot' )\n",
        "sns.set_style( 'whitegrid' )\n",
        "pylab.rcParams[ 'figure.figsize' ] = 8,6"
      ],
      "execution_count": 0,
      "outputs": []
    },
    {
      "metadata": {
        "id": "DJYsIddRv7eC",
        "colab_type": "code",
        "colab": {
          "autoexec": {
            "startup": false,
            "wait_interval": 0
          }
        }
      },
      "cell_type": "code",
      "source": [
        "data = pd.read_csv('finaldata.csv')"
      ],
      "execution_count": 0,
      "outputs": []
    },
    {
      "metadata": {
        "id": "-dHre3HG6Lbu",
        "colab_type": "text"
      },
      "cell_type": "markdown",
      "source": [
        "## Plotting Scatter plot of Stars Count"
      ]
    },
    {
      "metadata": {
        "id": "fIaZ654ev_5F",
        "colab_type": "code",
        "colab": {
          "autoexec": {
            "startup": false,
            "wait_interval": 0
          }
        }
      },
      "cell_type": "code",
      "source": [
        "def plot_feature(df, col):\n",
        "    plt.scatter(range(df.shape[0]), np.sort(df[col].values))\n",
        "    plt.xlabel('index', fontsize=12)\n",
        "    plt.ylabel(col, fontsize=12)\n",
        "    plt.show()"
      ],
      "execution_count": 0,
      "outputs": []
    },
    {
      "metadata": {
        "id": "CxQBvHdcwDok",
        "colab_type": "code",
        "colab": {
          "autoexec": {
            "startup": false,
            "wait_interval": 0
          },
          "output_extras": [
            {
              "item_id": 1
            }
          ],
          "base_uri": "https://localhost:8080/",
          "height": 390
        },
        "outputId": "48695e8a-10f2-402c-fa74-5437f4d11ce6",
        "executionInfo": {
          "status": "ok",
          "timestamp": 1519038524906,
          "user_tz": -330,
          "elapsed": 2471,
          "user": {
            "displayName": "Anmol Dua",
            "photoUrl": "https://lh3.googleusercontent.com/a/default-user=s128",
            "userId": "105983295350785523892"
          }
        }
      },
      "cell_type": "code",
      "source": [
        "plot_feature(data, \"stars\")"
      ],
      "execution_count": 7,
      "outputs": [
        {
          "output_type": "display_data",
          "data": {
            "image/png": "[encoded data removed]",
            "text/plain": [
              "<matplotlib.figure.Figure at 0x7f6612f6cf90>"
            ]
          },
          "metadata": {
            "tags": []
          }
        }
      ]
    },
    {
      "metadata": {
        "id": "UIxf3m54wGPj",
        "colab_type": "code",
        "colab": {
          "autoexec": {
            "startup": false,
            "wait_interval": 0
          },
          "output_extras": [
            {
              "item_id": 1
            }
          ],
          "base_uri": "https://localhost:8080/",
          "height": 34
        },
        "outputId": "e1f8daab-7bf1-4a1b-ed67-d4df15f1c1a2",
        "executionInfo": {
          "status": "ok",
          "timestamp": 1519038553555,
          "user_tz": -330,
          "elapsed": 1008,
          "user": {
            "displayName": "Anmol Dua",
            "photoUrl": "https://lh3.googleusercontent.com/a/default-user=s128",
            "userId": "105983295350785523892"
          }
        }
      },
      "cell_type": "code",
      "source": [
        "len(data[data['stars'] > 20000])"
      ],
      "execution_count": 8,
      "outputs": [
        {
          "output_type": "execute_result",
          "data": {
            "text/plain": [
              "122"
            ]
          },
          "metadata": {
            "tags": []
          },
          "execution_count": 8
        }
      ]
    },
    {
      "metadata": {
        "id": "9bmh1QnF5pOX",
        "colab_type": "text"
      },
      "cell_type": "markdown",
      "source": [
        "## Checking Relationship between Stars and forkCount"
      ]
    },
    {
      "metadata": {
        "id": "lsNRi1XlwNmE",
        "colab_type": "code",
        "colab": {
          "autoexec": {
            "startup": false,
            "wait_interval": 0
          },
          "output_extras": [
            {
              "item_id": 1
            },
            {
              "item_id": 2
            }
          ],
          "base_uri": "https://localhost:8080/",
          "height": 458
        },
        "outputId": "1d014325-3ea7-40a7-c7ee-5589dc4eeaf2",
        "executionInfo": {
          "status": "ok",
          "timestamp": 1519038569057,
          "user_tz": -330,
          "elapsed": 2552,
          "user": {
            "displayName": "Anmol Dua",
            "photoUrl": "https://lh3.googleusercontent.com/a/default-user=s128",
            "userId": "105983295350785523892"
          }
        }
      },
      "cell_type": "code",
      "source": [
        "sns.jointplot(x = \"stars\", y = \"forkCount\", data = data)"
      ],
      "execution_count": 9,
      "outputs": [
        {
          "output_type": "execute_result",
          "data": {
            "text/plain": [
              "<seaborn.axisgrid.JointGrid at 0x7f6609dfd3d0>"
            ]
          },
          "metadata": {
            "tags": []
          },
          "execution_count": 9
        },
        {
          "output_type": "display_data",
          "data": {
            "image/png": "[encoded data removed]",
            "text/plain": [
              "<matplotlib.figure.Figure at 0x7f6609dfd2d0>"
            ]
          },
          "metadata": {
            "tags": []
          }
        }
      ]
    },
    {
      "metadata": {
        "id": "620QSOTgwRAL",
        "colab_type": "code",
        "colab": {
          "autoexec": {
            "startup": false,
            "wait_interval": 0
          },
          "output_extras": [
            {
              "item_id": 1
            }
          ],
          "base_uri": "https://localhost:8080/",
          "height": 34
        },
        "outputId": "2eadd043-68d9-446a-a115-d66c05d6aca0",
        "executionInfo": {
          "status": "ok",
          "timestamp": 1519038591372,
          "user_tz": -330,
          "elapsed": 970,
          "user": {
            "displayName": "Anmol Dua",
            "photoUrl": "https://lh3.googleusercontent.com/a/default-user=s128",
            "userId": "105983295350785523892"
          }
        }
      },
      "cell_type": "code",
      "source": [
        "data[data['prMergedComments'] == 0].shape"
      ],
      "execution_count": 10,
      "outputs": [
        {
          "output_type": "execute_result",
          "data": {
            "text/plain": [
              "(31467, 49)"
            ]
          },
          "metadata": {
            "tags": []
          },
          "execution_count": 10
        }
      ]
    },
    {
      "metadata": {
        "id": "E9TKXxfdwW1h",
        "colab_type": "code",
        "colab": {
          "autoexec": {
            "startup": false,
            "wait_interval": 0
          }
        }
      },
      "cell_type": "code",
      "source": [
        "newDf = data.select_dtypes(include=[np.number])"
      ],
      "execution_count": 0,
      "outputs": []
    },
    {
      "metadata": {
        "id": "FdUCYHZBwYTW",
        "colab_type": "code",
        "colab": {
          "autoexec": {
            "startup": false,
            "wait_interval": 0
          },
          "output_extras": [
            {
              "item_id": 1
            }
          ],
          "base_uri": "https://localhost:8080/",
          "height": 224
        },
        "outputId": "7edafc45-0ee5-4022-8e4d-e9a7fc1ee071",
        "executionInfo": {
          "status": "ok",
          "timestamp": 1519038701556,
          "user_tz": -330,
          "elapsed": 1050,
          "user": {
            "displayName": "Anmol Dua",
            "photoUrl": "https://lh3.googleusercontent.com/a/default-user=s128",
            "userId": "105983295350785523892"
          }
        }
      },
      "cell_type": "code",
      "source": [
        "newDf.head()"
      ],
      "execution_count": 12,
      "outputs": [
        {
          "output_type": "execute_result",
          "data": {
            "text/html": [
              "<div>\n",
              "<style scoped>\n",
              "    .dataframe tbody tr th:only-of-type {\n",
              "        vertical-align: middle;\n",
              "    }\n",
              "\n",
              "    .dataframe tbody tr th {\n",
              "        vertical-align: top;\n",
              "    }\n",
              "\n",
              "    .dataframe thead th {\n",
              "        text-align: right;\n",
              "    }\n",
              "</style>\n",
              "<table border=\"1\" class=\"dataframe\">\n",
              "  <thead>\n",
              "    <tr style=\"text-align: right;\">\n",
              "      <th></th>\n",
              "      <th>branches</th>\n",
              "      <th>commits</th>\n",
              "      <th>diskUsage</th>\n",
              "      <th>followers</th>\n",
              "      <th>following</th>\n",
              "      <th>forkCount</th>\n",
              "      <th>gistComments</th>\n",
              "      <th>gistStar</th>\n",
              "      <th>gists</th>\n",
              "      <th>iClosedComments</th>\n",
              "      <th>iClosedParticipants</th>\n",
              "      <th>iOpenComments</th>\n",
              "      <th>iOpenParticipants</th>\n",
              "      <th>issuesClosed</th>\n",
              "      <th>issuesOpen</th>\n",
              "      <th>members</th>\n",
              "      <th>organizations</th>\n",
              "      <th>prClosed</th>\n",
              "      <th>prClosedComments</th>\n",
              "      <th>prClosedCommits</th>\n",
              "      <th>prMerged</th>\n",
              "      <th>prMergedComments</th>\n",
              "      <th>prMergedCommits</th>\n",
              "      <th>prOpen</th>\n",
              "      <th>prOpenComments</th>\n",
              "      <th>prOpenCommits</th>\n",
              "      <th>readmeCharCount</th>\n",
              "      <th>readmeLinkCount</th>\n",
              "      <th>readmeSize</th>\n",
              "      <th>readmeWordCount</th>\n",
              "      <th>releases</th>\n",
              "      <th>repositories</th>\n",
              "      <th>stars</th>\n",
              "      <th>subscribersCount</th>\n",
              "      <th>tags</th>\n",
              "    </tr>\n",
              "  </thead>\n",
              "  <tbody>\n",
              "    <tr>\n",
              "      <th>0</th>\n",
              "      <td>1</td>\n",
              "      <td>700.0</td>\n",
              "      <td>132778</td>\n",
              "      <td>9.0</td>\n",
              "      <td>0.0</td>\n",
              "      <td>51</td>\n",
              "      <td>0.0</td>\n",
              "      <td>0.0</td>\n",
              "      <td>1.0</td>\n",
              "      <td>586</td>\n",
              "      <td>252</td>\n",
              "      <td>50</td>\n",
              "      <td>25</td>\n",
              "      <td>109</td>\n",
              "      <td>9</td>\n",
              "      <td>NaN</td>\n",
              "      <td>0.0</td>\n",
              "      <td>9</td>\n",
              "      <td>39</td>\n",
              "      <td>36</td>\n",
              "      <td>67</td>\n",
              "      <td>135</td>\n",
              "      <td>188</td>\n",
              "      <td>0</td>\n",
              "      <td>0</td>\n",
              "      <td>0</td>\n",
              "      <td>5406</td>\n",
              "      <td>18</td>\n",
              "      <td>5406</td>\n",
              "      <td>817</td>\n",
              "      <td>19</td>\n",
              "      <td>1</td>\n",
              "      <td>153</td>\n",
              "      <td>17</td>\n",
              "      <td>19</td>\n",
              "    </tr>\n",
              "    <tr>\n",
              "      <th>1</th>\n",
              "      <td>1</td>\n",
              "      <td>141.0</td>\n",
              "      <td>808</td>\n",
              "      <td>1280.0</td>\n",
              "      <td>16.0</td>\n",
              "      <td>52</td>\n",
              "      <td>9.0</td>\n",
              "      <td>31.0</td>\n",
              "      <td>164.0</td>\n",
              "      <td>3</td>\n",
              "      <td>9</td>\n",
              "      <td>4</td>\n",
              "      <td>19</td>\n",
              "      <td>4</td>\n",
              "      <td>10</td>\n",
              "      <td>NaN</td>\n",
              "      <td>1.0</td>\n",
              "      <td>4</td>\n",
              "      <td>7</td>\n",
              "      <td>8</td>\n",
              "      <td>7</td>\n",
              "      <td>8</td>\n",
              "      <td>11</td>\n",
              "      <td>0</td>\n",
              "      <td>0</td>\n",
              "      <td>0</td>\n",
              "      <td>912</td>\n",
              "      <td>9</td>\n",
              "      <td>917</td>\n",
              "      <td>134</td>\n",
              "      <td>0</td>\n",
              "      <td>113</td>\n",
              "      <td>154</td>\n",
              "      <td>42</td>\n",
              "      <td>0</td>\n",
              "    </tr>\n",
              "    <tr>\n",
              "      <th>2</th>\n",
              "      <td>1</td>\n",
              "      <td>95.0</td>\n",
              "      <td>3742</td>\n",
              "      <td>404.0</td>\n",
              "      <td>44.0</td>\n",
              "      <td>29</td>\n",
              "      <td>4.0</td>\n",
              "      <td>7.0</td>\n",
              "      <td>92.0</td>\n",
              "      <td>2</td>\n",
              "      <td>4</td>\n",
              "      <td>13</td>\n",
              "      <td>6</td>\n",
              "      <td>2</td>\n",
              "      <td>4</td>\n",
              "      <td>NaN</td>\n",
              "      <td>3.0</td>\n",
              "      <td>0</td>\n",
              "      <td>0</td>\n",
              "      <td>0</td>\n",
              "      <td>2</td>\n",
              "      <td>0</td>\n",
              "      <td>7</td>\n",
              "      <td>1</td>\n",
              "      <td>0</td>\n",
              "      <td>29</td>\n",
              "      <td>5918</td>\n",
              "      <td>19</td>\n",
              "      <td>5918</td>\n",
              "      <td>882</td>\n",
              "      <td>0</td>\n",
              "      <td>125</td>\n",
              "      <td>190</td>\n",
              "      <td>14</td>\n",
              "      <td>0</td>\n",
              "    </tr>\n",
              "    <tr>\n",
              "      <th>3</th>\n",
              "      <td>1</td>\n",
              "      <td>100.0</td>\n",
              "      <td>2260</td>\n",
              "      <td>248.0</td>\n",
              "      <td>713.0</td>\n",
              "      <td>23</td>\n",
              "      <td>0.0</td>\n",
              "      <td>0.0</td>\n",
              "      <td>33.0</td>\n",
              "      <td>25</td>\n",
              "      <td>21</td>\n",
              "      <td>33</td>\n",
              "      <td>12</td>\n",
              "      <td>10</td>\n",
              "      <td>5</td>\n",
              "      <td>NaN</td>\n",
              "      <td>2.0</td>\n",
              "      <td>0</td>\n",
              "      <td>0</td>\n",
              "      <td>0</td>\n",
              "      <td>2</td>\n",
              "      <td>8</td>\n",
              "      <td>3</td>\n",
              "      <td>0</td>\n",
              "      <td>0</td>\n",
              "      <td>0</td>\n",
              "      <td>12409</td>\n",
              "      <td>12</td>\n",
              "      <td>12409</td>\n",
              "      <td>1640</td>\n",
              "      <td>0</td>\n",
              "      <td>136</td>\n",
              "      <td>211</td>\n",
              "      <td>12</td>\n",
              "      <td>2</td>\n",
              "    </tr>\n",
              "    <tr>\n",
              "      <th>4</th>\n",
              "      <td>3</td>\n",
              "      <td>96.0</td>\n",
              "      <td>131</td>\n",
              "      <td>22.0</td>\n",
              "      <td>39.0</td>\n",
              "      <td>91</td>\n",
              "      <td>0.0</td>\n",
              "      <td>2.0</td>\n",
              "      <td>8.0</td>\n",
              "      <td>45</td>\n",
              "      <td>48</td>\n",
              "      <td>27</td>\n",
              "      <td>38</td>\n",
              "      <td>19</td>\n",
              "      <td>20</td>\n",
              "      <td>NaN</td>\n",
              "      <td>0.0</td>\n",
              "      <td>5</td>\n",
              "      <td>10</td>\n",
              "      <td>58</td>\n",
              "      <td>21</td>\n",
              "      <td>13</td>\n",
              "      <td>26</td>\n",
              "      <td>7</td>\n",
              "      <td>19</td>\n",
              "      <td>23</td>\n",
              "      <td>2014</td>\n",
              "      <td>2</td>\n",
              "      <td>2014</td>\n",
              "      <td>210</td>\n",
              "      <td>0</td>\n",
              "      <td>43</td>\n",
              "      <td>218</td>\n",
              "      <td>13</td>\n",
              "      <td>2</td>\n",
              "    </tr>\n",
              "  </tbody>\n",
              "</table>\n",
              "</div>"
            ],
            "text/plain": [
              "   branches  commits  diskUsage  followers  following  forkCount  \\\n",
              "0         1    700.0     132778        9.0        0.0         51   \n",
              "1         1    141.0        808     1280.0       16.0         52   \n",
              "2         1     95.0       3742      404.0       44.0         29   \n",
              "3         1    100.0       2260      248.0      713.0         23   \n",
              "4         3     96.0        131       22.0       39.0         91   \n",
              "\n",
              "   gistComments  gistStar  gists  iClosedComments  iClosedParticipants  \\\n",
              "0           0.0       0.0    1.0              586                  252   \n",
              "1           9.0      31.0  164.0                3                    9   \n",
              "2           4.0       7.0   92.0                2                    4   \n",
              "3           0.0       0.0   33.0               25                   21   \n",
              "4           0.0       2.0    8.0               45                   48   \n",
              "\n",
              "   iOpenComments  iOpenParticipants  issuesClosed  issuesOpen  members  \\\n",
              "0             50                 25           109           9      NaN   \n",
              "1              4                 19             4          10      NaN   \n",
              "2             13                  6             2           4      NaN   \n",
              "3             33                 12            10           5      NaN   \n",
              "4             27                 38            19          20      NaN   \n",
              "\n",
              "   organizations  prClosed  prClosedComments  prClosedCommits  prMerged  \\\n",
              "0            0.0         9                39               36        67   \n",
              "1            1.0         4                 7                8         7   \n",
              "2            3.0         0                 0                0         2   \n",
              "3            2.0         0                 0                0         2   \n",
              "4            0.0         5                10               58        21   \n",
              "\n",
              "   prMergedComments  prMergedCommits  prOpen  prOpenComments  prOpenCommits  \\\n",
              "0               135              188       0               0              0   \n",
              "1                 8               11       0               0              0   \n",
              "2                 0                7       1               0             29   \n",
              "3                 8                3       0               0              0   \n",
              "4                13               26       7              19             23   \n",
              "\n",
              "   readmeCharCount  readmeLinkCount  readmeSize  readmeWordCount  releases  \\\n",
              "0             5406               18        5406              817        19   \n",
              "1              912                9         917              134         0   \n",
              "2             5918               19        5918              882         0   \n",
              "3            12409               12       12409             1640         0   \n",
              "4             2014                2        2014              210         0   \n",
              "\n",
              "   repositories  stars  subscribersCount  tags  \n",
              "0             1    153                17    19  \n",
              "1           113    154                42     0  \n",
              "2           125    190                14     0  \n",
              "3           136    211                12     2  \n",
              "4            43    218                13     2  "
            ]
          },
          "metadata": {
            "tags": []
          },
          "execution_count": 12
        }
      ]
    },
    {
      "metadata": {
        "id": "gJdjcMNh6AWG",
        "colab_type": "text"
      },
      "cell_type": "markdown",
      "source": [
        "## Checking the Percentage of zeroes in all columns"
      ]
    },
    {
      "metadata": {
        "id": "WrCmiJ58wYVz",
        "colab_type": "code",
        "colab": {
          "autoexec": {
            "startup": false,
            "wait_interval": 0
          }
        }
      },
      "cell_type": "code",
      "source": [
        "cols  = newDf.columns\n",
        "zero_rows = []\n",
        "zero_per = []\n",
        "for i in cols:\n",
        "  zero_rows.append(newDf[newDf[i] == 0].shape[0])\n",
        "  zero_per.append(newDf[newDf[i] == 0].shape[0] * 100 / float(data.shape[0]))"
      ],
      "execution_count": 0,
      "outputs": []
    },
    {
      "metadata": {
        "id": "iGpgTSk1wYYX",
        "colab_type": "code",
        "colab": {
          "autoexec": {
            "startup": false,
            "wait_interval": 0
          }
        }
      },
      "cell_type": "code",
      "source": [
        "df = pd.DataFrame({'col':cols,'numberRows':zero_rows,'zero_per':zero_per})"
      ],
      "execution_count": 0,
      "outputs": []
    },
    {
      "metadata": {
        "id": "I5c_ugslwYbI",
        "colab_type": "code",
        "colab": {
          "autoexec": {
            "startup": false,
            "wait_interval": 0
          },
          "output_extras": [
            {
              "item_id": 1
            }
          ],
          "base_uri": "https://localhost:8080/",
          "height": 1134
        },
        "outputId": "cbb0f2c9-bd55-4815-b3da-083c036277e0",
        "executionInfo": {
          "status": "ok",
          "timestamp": 1519038745556,
          "user_tz": -330,
          "elapsed": 1022,
          "user": {
            "displayName": "Anmol Dua",
            "photoUrl": "https://lh3.googleusercontent.com/a/default-user=s128",
            "userId": "105983295350785523892"
          }
        }
      },
      "cell_type": "code",
      "source": [
        "df.sort_values(['numberRows'], ascending=False)"
      ],
      "execution_count": 15,
      "outputs": [
        {
          "output_type": "execute_result",
          "data": {
            "text/html": [
              "<div>\n",
              "<style scoped>\n",
              "    .dataframe tbody tr th:only-of-type {\n",
              "        vertical-align: middle;\n",
              "    }\n",
              "\n",
              "    .dataframe tbody tr th {\n",
              "        vertical-align: top;\n",
              "    }\n",
              "\n",
              "    .dataframe thead th {\n",
              "        text-align: right;\n",
              "    }\n",
              "</style>\n",
              "<table border=\"1\" class=\"dataframe\">\n",
              "  <thead>\n",
              "    <tr style=\"text-align: right;\">\n",
              "      <th></th>\n",
              "      <th>col</th>\n",
              "      <th>numberRows</th>\n",
              "      <th>zero_per</th>\n",
              "    </tr>\n",
              "  </thead>\n",
              "  <tbody>\n",
              "    <tr>\n",
              "      <th>30</th>\n",
              "      <td>releases</td>\n",
              "      <td>73496</td>\n",
              "      <td>68.198985</td>\n",
              "    </tr>\n",
              "    <tr>\n",
              "      <th>24</th>\n",
              "      <td>prOpenComments</td>\n",
              "      <td>69482</td>\n",
              "      <td>64.474282</td>\n",
              "    </tr>\n",
              "    <tr>\n",
              "      <th>25</th>\n",
              "      <td>prOpenCommits</td>\n",
              "      <td>52025</td>\n",
              "      <td>48.275446</td>\n",
              "    </tr>\n",
              "    <tr>\n",
              "      <th>23</th>\n",
              "      <td>prOpen</td>\n",
              "      <td>52025</td>\n",
              "      <td>48.275446</td>\n",
              "    </tr>\n",
              "    <tr>\n",
              "      <th>34</th>\n",
              "      <td>tags</td>\n",
              "      <td>45413</td>\n",
              "      <td>42.139987</td>\n",
              "    </tr>\n",
              "    <tr>\n",
              "      <th>18</th>\n",
              "      <td>prClosedComments</td>\n",
              "      <td>44057</td>\n",
              "      <td>40.881717</td>\n",
              "    </tr>\n",
              "    <tr>\n",
              "      <th>6</th>\n",
              "      <td>gistComments</td>\n",
              "      <td>41017</td>\n",
              "      <td>38.060816</td>\n",
              "    </tr>\n",
              "    <tr>\n",
              "      <th>16</th>\n",
              "      <td>organizations</td>\n",
              "      <td>40733</td>\n",
              "      <td>37.797285</td>\n",
              "    </tr>\n",
              "    <tr>\n",
              "      <th>19</th>\n",
              "      <td>prClosedCommits</td>\n",
              "      <td>37404</td>\n",
              "      <td>34.708213</td>\n",
              "    </tr>\n",
              "    <tr>\n",
              "      <th>17</th>\n",
              "      <td>prClosed</td>\n",
              "      <td>37310</td>\n",
              "      <td>34.620988</td>\n",
              "    </tr>\n",
              "    <tr>\n",
              "      <th>7</th>\n",
              "      <td>gistStar</td>\n",
              "      <td>35982</td>\n",
              "      <td>33.388700</td>\n",
              "    </tr>\n",
              "    <tr>\n",
              "      <th>21</th>\n",
              "      <td>prMergedComments</td>\n",
              "      <td>31467</td>\n",
              "      <td>29.199105</td>\n",
              "    </tr>\n",
              "    <tr>\n",
              "      <th>11</th>\n",
              "      <td>iOpenComments</td>\n",
              "      <td>27311</td>\n",
              "      <td>25.342637</td>\n",
              "    </tr>\n",
              "    <tr>\n",
              "      <th>22</th>\n",
              "      <td>prMergedCommits</td>\n",
              "      <td>21283</td>\n",
              "      <td>19.749088</td>\n",
              "    </tr>\n",
              "    <tr>\n",
              "      <th>20</th>\n",
              "      <td>prMerged</td>\n",
              "      <td>21255</td>\n",
              "      <td>19.723106</td>\n",
              "    </tr>\n",
              "    <tr>\n",
              "      <th>27</th>\n",
              "      <td>readmeLinkCount</td>\n",
              "      <td>19271</td>\n",
              "      <td>17.882097</td>\n",
              "    </tr>\n",
              "    <tr>\n",
              "      <th>8</th>\n",
              "      <td>gists</td>\n",
              "      <td>18622</td>\n",
              "      <td>17.279872</td>\n",
              "    </tr>\n",
              "    <tr>\n",
              "      <th>12</th>\n",
              "      <td>iOpenParticipants</td>\n",
              "      <td>18612</td>\n",
              "      <td>17.270593</td>\n",
              "    </tr>\n",
              "    <tr>\n",
              "      <th>14</th>\n",
              "      <td>issuesOpen</td>\n",
              "      <td>18575</td>\n",
              "      <td>17.236260</td>\n",
              "    </tr>\n",
              "    <tr>\n",
              "      <th>9</th>\n",
              "      <td>iClosedComments</td>\n",
              "      <td>15236</td>\n",
              "      <td>14.137909</td>\n",
              "    </tr>\n",
              "    <tr>\n",
              "      <th>29</th>\n",
              "      <td>readmeWordCount</td>\n",
              "      <td>13639</td>\n",
              "      <td>12.656008</td>\n",
              "    </tr>\n",
              "    <tr>\n",
              "      <th>28</th>\n",
              "      <td>readmeSize</td>\n",
              "      <td>13623</td>\n",
              "      <td>12.641161</td>\n",
              "    </tr>\n",
              "    <tr>\n",
              "      <th>26</th>\n",
              "      <td>readmeCharCount</td>\n",
              "      <td>13623</td>\n",
              "      <td>12.641161</td>\n",
              "    </tr>\n",
              "    <tr>\n",
              "      <th>4</th>\n",
              "      <td>following</td>\n",
              "      <td>13424</td>\n",
              "      <td>12.456503</td>\n",
              "    </tr>\n",
              "    <tr>\n",
              "      <th>10</th>\n",
              "      <td>iClosedParticipants</td>\n",
              "      <td>13404</td>\n",
              "      <td>12.437945</td>\n",
              "    </tr>\n",
              "    <tr>\n",
              "      <th>13</th>\n",
              "      <td>issuesClosed</td>\n",
              "      <td>13390</td>\n",
              "      <td>12.424954</td>\n",
              "    </tr>\n",
              "    <tr>\n",
              "      <th>15</th>\n",
              "      <td>members</td>\n",
              "      <td>5581</td>\n",
              "      <td>5.178765</td>\n",
              "    </tr>\n",
              "    <tr>\n",
              "      <th>5</th>\n",
              "      <td>forkCount</td>\n",
              "      <td>309</td>\n",
              "      <td>0.286730</td>\n",
              "    </tr>\n",
              "    <tr>\n",
              "      <th>33</th>\n",
              "      <td>subscribersCount</td>\n",
              "      <td>183</td>\n",
              "      <td>0.169811</td>\n",
              "    </tr>\n",
              "    <tr>\n",
              "      <th>2</th>\n",
              "      <td>diskUsage</td>\n",
              "      <td>99</td>\n",
              "      <td>0.091865</td>\n",
              "    </tr>\n",
              "    <tr>\n",
              "      <th>3</th>\n",
              "      <td>followers</td>\n",
              "      <td>74</td>\n",
              "      <td>0.068667</td>\n",
              "    </tr>\n",
              "    <tr>\n",
              "      <th>0</th>\n",
              "      <td>branches</td>\n",
              "      <td>21</td>\n",
              "      <td>0.019486</td>\n",
              "    </tr>\n",
              "    <tr>\n",
              "      <th>1</th>\n",
              "      <td>commits</td>\n",
              "      <td>0</td>\n",
              "      <td>0.000000</td>\n",
              "    </tr>\n",
              "    <tr>\n",
              "      <th>31</th>\n",
              "      <td>repositories</td>\n",
              "      <td>0</td>\n",
              "      <td>0.000000</td>\n",
              "    </tr>\n",
              "    <tr>\n",
              "      <th>32</th>\n",
              "      <td>stars</td>\n",
              "      <td>0</td>\n",
              "      <td>0.000000</td>\n",
              "    </tr>\n",
              "  </tbody>\n",
              "</table>\n",
              "</div>"
            ],
            "text/plain": [
              "                    col  numberRows   zero_per\n",
              "30             releases       73496  68.198985\n",
              "24       prOpenComments       69482  64.474282\n",
              "25        prOpenCommits       52025  48.275446\n",
              "23               prOpen       52025  48.275446\n",
              "34                 tags       45413  42.139987\n",
              "18     prClosedComments       44057  40.881717\n",
              "6          gistComments       41017  38.060816\n",
              "16        organizations       40733  37.797285\n",
              "19      prClosedCommits       37404  34.708213\n",
              "17             prClosed       37310  34.620988\n",
              "7              gistStar       35982  33.388700\n",
              "21     prMergedComments       31467  29.199105\n",
              "11        iOpenComments       27311  25.342637\n",
              "22      prMergedCommits       21283  19.749088\n",
              "20             prMerged       21255  19.723106\n",
              "27      readmeLinkCount       19271  17.882097\n",
              "8                 gists       18622  17.279872\n",
              "12    iOpenParticipants       18612  17.270593\n",
              "14           issuesOpen       18575  17.236260\n",
              "9       iClosedComments       15236  14.137909\n",
              "29      readmeWordCount       13639  12.656008\n",
              "28           readmeSize       13623  12.641161\n",
              "26      readmeCharCount       13623  12.641161\n",
              "4             following       13424  12.456503\n",
              "10  iClosedParticipants       13404  12.437945\n",
              "13         issuesClosed       13390  12.424954\n",
              "15              members        5581   5.178765\n",
              "5             forkCount         309   0.286730\n",
              "33     subscribersCount         183   0.169811\n",
              "2             diskUsage          99   0.091865\n",
              "3             followers          74   0.068667\n",
              "0              branches          21   0.019486\n",
              "1               commits           0   0.000000\n",
              "31         repositories           0   0.000000\n",
              "32                stars           0   0.000000"
            ]
          },
          "metadata": {
            "tags": []
          },
          "execution_count": 15
        }
      ]
    },
    {
      "metadata": {
        "id": "gUvAs-e-5aBQ",
        "colab_type": "text"
      },
      "cell_type": "markdown",
      "source": [
        "## Plotting Difference Between Numbers of Users and Organization"
      ]
    },
    {
      "metadata": {
        "id": "0GQU-BLJw4ar",
        "colab_type": "code",
        "colab": {
          "autoexec": {
            "startup": false,
            "wait_interval": 0
          },
          "output_extras": [
            {
              "item_id": 1
            },
            {
              "item_id": 2
            }
          ],
          "base_uri": "https://localhost:8080/",
          "height": 435
        },
        "outputId": "e1e54e03-ae5d-41f7-8eca-3ee81fcb88d8",
        "executionInfo": {
          "status": "ok",
          "timestamp": 1519038758519,
          "user_tz": -330,
          "elapsed": 1025,
          "user": {
            "displayName": "Anmol Dua",
            "photoUrl": "https://lh3.googleusercontent.com/a/default-user=s128",
            "userId": "105983295350785523892"
          }
        }
      },
      "cell_type": "code",
      "source": [
        "data.type.value_counts()\n",
        "data.type.value_counts().plot.bar()"
      ],
      "execution_count": 16,
      "outputs": [
        {
          "output_type": "execute_result",
          "data": {
            "text/plain": [
              "<matplotlib.axes._subplots.AxesSubplot at 0x7f6609dfd9d0>"
            ]
          },
          "metadata": {
            "tags": []
          },
          "execution_count": 16
        },
        {
          "output_type": "display_data",
          "data": {
            "image/png": "[encoded data removed]",
            "text/plain": [
              "<matplotlib.figure.Figure at 0x7f6609dfdad0>"
            ]
          },
          "metadata": {
            "tags": []
          }
        }
      ]
    },
    {
      "metadata": {
        "id": "RiV5jCbs5K-J",
        "colab_type": "text"
      },
      "cell_type": "markdown",
      "source": [
        "## Checking Top 20 Primary Languages"
      ]
    },
    {
      "metadata": {
        "id": "4uAbv5ydw4dK",
        "colab_type": "code",
        "colab": {
          "autoexec": {
            "startup": false,
            "wait_interval": 0
          },
          "output_extras": [
            {
              "item_id": 1
            },
            {
              "item_id": 2
            }
          ],
          "base_uri": "https://localhost:8080/",
          "height": 459
        },
        "outputId": "ad60af9c-ae45-4949-f9d9-5647f618719b",
        "executionInfo": {
          "status": "ok",
          "timestamp": 1519038770595,
          "user_tz": -330,
          "elapsed": 1305,
          "user": {
            "displayName": "Anmol Dua",
            "photoUrl": "https://lh3.googleusercontent.com/a/default-user=s128",
            "userId": "105983295350785523892"
          }
        }
      },
      "cell_type": "code",
      "source": [
        "data.primaryLanguage.value_counts()[:20].plot(kind = 'bar', color = color[1])"
      ],
      "execution_count": 17,
      "outputs": [
        {
          "output_type": "execute_result",
          "data": {
            "text/plain": [
              "<matplotlib.axes._subplots.AxesSubplot at 0x7f6609b16650>"
            ]
          },
          "metadata": {
            "tags": []
          },
          "execution_count": 17
        },
        {
          "output_type": "display_data",
          "data": {
            "image/png": "[encoded data removed]",
            "text/plain": [
              "<matplotlib.figure.Figure at 0x7f6609df0390>"
            ]
          },
          "metadata": {
            "tags": []
          }
        }
      ]
    },
    {
      "metadata": {
        "id": "LzqspqQsw4fr",
        "colab_type": "code",
        "colab": {
          "autoexec": {
            "startup": false,
            "wait_interval": 0
          },
          "output_extras": [
            {
              "item_id": 1
            }
          ],
          "base_uri": "https://localhost:8080/",
          "height": 332
        },
        "outputId": "c52abf81-92ec-459b-e68e-7bfdde2320ad",
        "executionInfo": {
          "status": "ok",
          "timestamp": 1519039000572,
          "user_tz": -330,
          "elapsed": 1037,
          "user": {
            "displayName": "Anmol Dua",
            "photoUrl": "https://lh3.googleusercontent.com/a/default-user=s128",
            "userId": "105983295350785523892"
          }
        }
      },
      "cell_type": "code",
      "source": [
        "data.head(3)"
      ],
      "execution_count": 18,
      "outputs": [
        {
          "output_type": "execute_result",
          "data": {
            "text/html": [
              "<div>\n",
              "<style scoped>\n",
              "    .dataframe tbody tr th:only-of-type {\n",
              "        vertical-align: middle;\n",
              "    }\n",
              "\n",
              "    .dataframe tbody tr th {\n",
              "        vertical-align: top;\n",
              "    }\n",
              "\n",
              "    .dataframe thead th {\n",
              "        text-align: right;\n",
              "    }\n",
              "</style>\n",
              "<table border=\"1\" class=\"dataframe\">\n",
              "  <thead>\n",
              "    <tr style=\"text-align: right;\">\n",
              "      <th></th>\n",
              "      <th>branches</th>\n",
              "      <th>commits</th>\n",
              "      <th>createdAt</th>\n",
              "      <th>description</th>\n",
              "      <th>diskUsage</th>\n",
              "      <th>followers</th>\n",
              "      <th>following</th>\n",
              "      <th>forkCount</th>\n",
              "      <th>gistComments</th>\n",
              "      <th>gistStar</th>\n",
              "      <th>gists</th>\n",
              "      <th>hasWikiEnabled</th>\n",
              "      <th>iClosedComments</th>\n",
              "      <th>iClosedParticipants</th>\n",
              "      <th>iOpenComments</th>\n",
              "      <th>iOpenParticipants</th>\n",
              "      <th>isArchived</th>\n",
              "      <th>issuesClosed</th>\n",
              "      <th>issuesOpen</th>\n",
              "      <th>license</th>\n",
              "      <th>location</th>\n",
              "      <th>login</th>\n",
              "      <th>members</th>\n",
              "      <th>organizations</th>\n",
              "      <th>prClosed</th>\n",
              "      <th>prClosedComments</th>\n",
              "      <th>prClosedCommits</th>\n",
              "      <th>prMerged</th>\n",
              "      <th>prMergedComments</th>\n",
              "      <th>prMergedCommits</th>\n",
              "      <th>prOpen</th>\n",
              "      <th>prOpenComments</th>\n",
              "      <th>prOpenCommits</th>\n",
              "      <th>primaryLanguage</th>\n",
              "      <th>pushedAt</th>\n",
              "      <th>readmeCharCount</th>\n",
              "      <th>readmeLinkCount</th>\n",
              "      <th>readmeSize</th>\n",
              "      <th>readmeWordCount</th>\n",
              "      <th>releases</th>\n",
              "      <th>reponame</th>\n",
              "      <th>repositories</th>\n",
              "      <th>siteAdmin</th>\n",
              "      <th>stars</th>\n",
              "      <th>subscribersCount</th>\n",
              "      <th>tags</th>\n",
              "      <th>type</th>\n",
              "      <th>updatedAt</th>\n",
              "      <th>websiteUrl</th>\n",
              "    </tr>\n",
              "  </thead>\n",
              "  <tbody>\n",
              "    <tr>\n",
              "      <th>0</th>\n",
              "      <td>1</td>\n",
              "      <td>700.0</td>\n",
              "      <td>2014-12-13T08:36:53Z</td>\n",
              "      <td>openScale is an open source app which support ...</td>\n",
              "      <td>132778</td>\n",
              "      <td>9.0</td>\n",
              "      <td>0.0</td>\n",
              "      <td>51</td>\n",
              "      <td>0.0</td>\n",
              "      <td>0.0</td>\n",
              "      <td>1.0</td>\n",
              "      <td>True</td>\n",
              "      <td>586</td>\n",
              "      <td>252</td>\n",
              "      <td>50</td>\n",
              "      <td>25</td>\n",
              "      <td>False</td>\n",
              "      <td>109</td>\n",
              "      <td>9</td>\n",
              "      <td>GNU General Public License v3.0</td>\n",
              "      <td>Germany</td>\n",
              "      <td>oliexdev</td>\n",
              "      <td>NaN</td>\n",
              "      <td>0.0</td>\n",
              "      <td>9</td>\n",
              "      <td>39</td>\n",
              "      <td>36</td>\n",
              "      <td>67</td>\n",
              "      <td>135</td>\n",
              "      <td>188</td>\n",
              "      <td>0</td>\n",
              "      <td>0</td>\n",
              "      <td>0</td>\n",
              "      <td>Java</td>\n",
              "      <td>2018-02-16T15:32:06Z</td>\n",
              "      <td>5406</td>\n",
              "      <td>18</td>\n",
              "      <td>5406</td>\n",
              "      <td>817</td>\n",
              "      <td>19</td>\n",
              "      <td>openScale</td>\n",
              "      <td>1</td>\n",
              "      <td>False</td>\n",
              "      <td>153</td>\n",
              "      <td>17</td>\n",
              "      <td>19</td>\n",
              "      <td>user</td>\n",
              "      <td>2018-02-14T21:05:31Z</td>\n",
              "      <td>NaN</td>\n",
              "    </tr>\n",
              "    <tr>\n",
              "      <th>1</th>\n",
              "      <td>1</td>\n",
              "      <td>141.0</td>\n",
              "      <td>2014-12-13T16:41:47Z</td>\n",
              "      <td>:book: Arquivos do livro Be MEAN</td>\n",
              "      <td>808</td>\n",
              "      <td>1280.0</td>\n",
              "      <td>16.0</td>\n",
              "      <td>52</td>\n",
              "      <td>9.0</td>\n",
              "      <td>31.0</td>\n",
              "      <td>164.0</td>\n",
              "      <td>True</td>\n",
              "      <td>3</td>\n",
              "      <td>9</td>\n",
              "      <td>4</td>\n",
              "      <td>19</td>\n",
              "      <td>False</td>\n",
              "      <td>4</td>\n",
              "      <td>10</td>\n",
              "      <td>NaN</td>\n",
              "      <td>NaN</td>\n",
              "      <td>ericdouglas</td>\n",
              "      <td>NaN</td>\n",
              "      <td>1.0</td>\n",
              "      <td>4</td>\n",
              "      <td>7</td>\n",
              "      <td>8</td>\n",
              "      <td>7</td>\n",
              "      <td>8</td>\n",
              "      <td>11</td>\n",
              "      <td>0</td>\n",
              "      <td>0</td>\n",
              "      <td>0</td>\n",
              "      <td>JavaScript</td>\n",
              "      <td>2015-10-26T20:58:23Z</td>\n",
              "      <td>912</td>\n",
              "      <td>9</td>\n",
              "      <td>917</td>\n",
              "      <td>134</td>\n",
              "      <td>0</td>\n",
              "      <td>be-MEAN-resources</td>\n",
              "      <td>113</td>\n",
              "      <td>False</td>\n",
              "      <td>154</td>\n",
              "      <td>42</td>\n",
              "      <td>0</td>\n",
              "      <td>user</td>\n",
              "      <td>2018-01-25T22:23:46Z</td>\n",
              "      <td>NaN</td>\n",
              "    </tr>\n",
              "    <tr>\n",
              "      <th>2</th>\n",
              "      <td>1</td>\n",
              "      <td>95.0</td>\n",
              "      <td>2014-12-13T04:46:00Z</td>\n",
              "      <td>Automated message queue orchestration for scal...</td>\n",
              "      <td>3742</td>\n",
              "      <td>404.0</td>\n",
              "      <td>44.0</td>\n",
              "      <td>29</td>\n",
              "      <td>4.0</td>\n",
              "      <td>7.0</td>\n",
              "      <td>92.0</td>\n",
              "      <td>True</td>\n",
              "      <td>2</td>\n",
              "      <td>4</td>\n",
              "      <td>13</td>\n",
              "      <td>6</td>\n",
              "      <td>False</td>\n",
              "      <td>2</td>\n",
              "      <td>4</td>\n",
              "      <td>Apache License 2.0</td>\n",
              "      <td>Podunk, Iowa</td>\n",
              "      <td>tylertreat</td>\n",
              "      <td>NaN</td>\n",
              "      <td>3.0</td>\n",
              "      <td>0</td>\n",
              "      <td>0</td>\n",
              "      <td>0</td>\n",
              "      <td>2</td>\n",
              "      <td>0</td>\n",
              "      <td>7</td>\n",
              "      <td>1</td>\n",
              "      <td>0</td>\n",
              "      <td>29</td>\n",
              "      <td>Go</td>\n",
              "      <td>2016-01-23T17:38:54Z</td>\n",
              "      <td>5918</td>\n",
              "      <td>19</td>\n",
              "      <td>5918</td>\n",
              "      <td>882</td>\n",
              "      <td>0</td>\n",
              "      <td>Flotilla</td>\n",
              "      <td>125</td>\n",
              "      <td>False</td>\n",
              "      <td>190</td>\n",
              "      <td>14</td>\n",
              "      <td>0</td>\n",
              "      <td>user</td>\n",
              "      <td>2018-02-02T02:41:14Z</td>\n",
              "      <td>https://bravenewgeek.com</td>\n",
              "    </tr>\n",
              "  </tbody>\n",
              "</table>\n",
              "</div>"
            ],
            "text/plain": [
              "   branches  commits             createdAt  \\\n",
              "0         1    700.0  2014-12-13T08:36:53Z   \n",
              "1         1    141.0  2014-12-13T16:41:47Z   \n",
              "2         1     95.0  2014-12-13T04:46:00Z   \n",
              "\n",
              "                                         description  diskUsage  followers  \\\n",
              "0  openScale is an open source app which support ...     132778        9.0   \n",
              "1                   :book: Arquivos do livro Be MEAN        808     1280.0   \n",
              "2  Automated message queue orchestration for scal...       3742      404.0   \n",
              "\n",
              "   following  forkCount  gistComments  gistStar  gists  hasWikiEnabled  \\\n",
              "0        0.0         51           0.0       0.0    1.0            True   \n",
              "1       16.0         52           9.0      31.0  164.0            True   \n",
              "2       44.0         29           4.0       7.0   92.0            True   \n",
              "\n",
              "   iClosedComments  iClosedParticipants  iOpenComments  iOpenParticipants  \\\n",
              "0              586                  252             50                 25   \n",
              "1                3                    9              4                 19   \n",
              "2                2                    4             13                  6   \n",
              "\n",
              "   isArchived  issuesClosed  issuesOpen                          license  \\\n",
              "0       False           109           9  GNU General Public License v3.0   \n",
              "1       False             4          10                              NaN   \n",
              "2       False             2           4               Apache License 2.0   \n",
              "\n",
              "       location        login  members  organizations  prClosed  \\\n",
              "0       Germany     oliexdev      NaN            0.0         9   \n",
              "1           NaN  ericdouglas      NaN            1.0         4   \n",
              "2  Podunk, Iowa   tylertreat      NaN            3.0         0   \n",
              "\n",
              "   prClosedComments  prClosedCommits  prMerged  prMergedComments  \\\n",
              "0                39               36        67               135   \n",
              "1                 7                8         7                 8   \n",
              "2                 0                0         2                 0   \n",
              "\n",
              "   prMergedCommits  prOpen  prOpenComments  prOpenCommits primaryLanguage  \\\n",
              "0              188       0               0              0            Java   \n",
              "1               11       0               0              0      JavaScript   \n",
              "2                7       1               0             29              Go   \n",
              "\n",
              "               pushedAt  readmeCharCount  readmeLinkCount  readmeSize  \\\n",
              "0  2018-02-16T15:32:06Z             5406               18        5406   \n",
              "1  2015-10-26T20:58:23Z              912                9         917   \n",
              "2  2016-01-23T17:38:54Z             5918               19        5918   \n",
              "\n",
              "   readmeWordCount  releases           reponame  repositories  siteAdmin  \\\n",
              "0              817        19          openScale             1      False   \n",
              "1              134         0  be-MEAN-resources           113      False   \n",
              "2              882         0           Flotilla           125      False   \n",
              "\n",
              "   stars  subscribersCount  tags  type             updatedAt  \\\n",
              "0    153                17    19  user  2018-02-14T21:05:31Z   \n",
              "1    154                42     0  user  2018-01-25T22:23:46Z   \n",
              "2    190                14     0  user  2018-02-02T02:41:14Z   \n",
              "\n",
              "                 websiteUrl  \n",
              "0                       NaN  \n",
              "1                       NaN  \n",
              "2  https://bravenewgeek.com  "
            ]
          },
          "metadata": {
            "tags": []
          },
          "execution_count": 18
        }
      ]
    },
    {
      "metadata": {
        "id": "EsaSsSPryD8-",
        "colab_type": "text"
      },
      "cell_type": "markdown",
      "source": [
        "## Changing the time to their Hours Representation"
      ]
    },
    {
      "metadata": {
        "id": "EC-4fNIlyMQ9",
        "colab_type": "code",
        "colab": {
          "autoexec": {
            "startup": false,
            "wait_interval": 0
          }
        }
      },
      "cell_type": "code",
      "source": [
        "time_columns = ['createdAt','updatedAt','pushedAt']\n",
        "for i in time_columns:\n",
        "  data[i] =  data[i].apply(lambda x : x.replace('T',' ').replace('Z',''))"
      ],
      "execution_count": 0,
      "outputs": []
    },
    {
      "metadata": {
        "id": "Pv4Igg7tyPhx",
        "colab_type": "code",
        "colab": {
          "autoexec": {
            "startup": false,
            "wait_interval": 0
          }
        }
      },
      "cell_type": "code",
      "source": [
        "from datetime import datetime\n",
        "\n",
        "for i in time_columns:\n",
        "  data[i] = data[i].apply(lambda x: int(datetime.strptime(x,'%Y-%m-%d %H:%M:%S').strftime('%s')) / (60 * 60))"
      ],
      "execution_count": 0,
      "outputs": []
    },
    {
      "metadata": {
        "id": "Vdf0HtKDyTom",
        "colab_type": "code",
        "colab": {
          "autoexec": {
            "startup": false,
            "wait_interval": 0
          },
          "output_extras": [
            {
              "item_id": 1
            }
          ],
          "base_uri": "https://localhost:8080/",
          "height": 1969
        },
        "outputId": "3d3f99b9-1c89-4a2e-caed-0ea101e31d04",
        "executionInfo": {
          "status": "ok",
          "timestamp": 1519039119666,
          "user_tz": -330,
          "elapsed": 985,
          "user": {
            "displayName": "Anmol Dua",
            "photoUrl": "https://lh3.googleusercontent.com/a/default-user=s128",
            "userId": "105983295350785523892"
          }
        }
      },
      "cell_type": "code",
      "source": [
        "data.loc[:, time_columns]"
      ],
      "execution_count": 21,
      "outputs": [
        {
          "output_type": "execute_result",
          "data": {
            "text/html": [
              "<div>\n",
              "<style scoped>\n",
              "    .dataframe tbody tr th:only-of-type {\n",
              "        vertical-align: middle;\n",
              "    }\n",
              "\n",
              "    .dataframe tbody tr th {\n",
              "        vertical-align: top;\n",
              "    }\n",
              "\n",
              "    .dataframe thead th {\n",
              "        text-align: right;\n",
              "    }\n",
              "</style>\n",
              "<table border=\"1\" class=\"dataframe\">\n",
              "  <thead>\n",
              "    <tr style=\"text-align: right;\">\n",
              "      <th></th>\n",
              "      <th>createdAt</th>\n",
              "      <th>updatedAt</th>\n",
              "      <th>pushedAt</th>\n",
              "    </tr>\n",
              "  </thead>\n",
              "  <tbody>\n",
              "    <tr>\n",
              "      <th>0</th>\n",
              "      <td>394016</td>\n",
              "      <td>421845</td>\n",
              "      <td>421887</td>\n",
              "    </tr>\n",
              "    <tr>\n",
              "      <th>1</th>\n",
              "      <td>394024</td>\n",
              "      <td>421366</td>\n",
              "      <td>401636</td>\n",
              "    </tr>\n",
              "    <tr>\n",
              "      <th>2</th>\n",
              "      <td>394012</td>\n",
              "      <td>421538</td>\n",
              "      <td>403769</td>\n",
              "    </tr>\n",
              "    <tr>\n",
              "      <th>3</th>\n",
              "      <td>394027</td>\n",
              "      <td>421622</td>\n",
              "      <td>417782</td>\n",
              "    </tr>\n",
              "    <tr>\n",
              "      <th>4</th>\n",
              "      <td>394018</td>\n",
              "      <td>421836</td>\n",
              "      <td>421098</td>\n",
              "    </tr>\n",
              "    <tr>\n",
              "      <th>5</th>\n",
              "      <td>394011</td>\n",
              "      <td>421246</td>\n",
              "      <td>417400</td>\n",
              "    </tr>\n",
              "    <tr>\n",
              "      <th>6</th>\n",
              "      <td>394011</td>\n",
              "      <td>421177</td>\n",
              "      <td>400540</td>\n",
              "    </tr>\n",
              "    <tr>\n",
              "      <th>7</th>\n",
              "      <td>394024</td>\n",
              "      <td>421818</td>\n",
              "      <td>421737</td>\n",
              "    </tr>\n",
              "    <tr>\n",
              "      <th>8</th>\n",
              "      <td>394011</td>\n",
              "      <td>421707</td>\n",
              "      <td>416834</td>\n",
              "    </tr>\n",
              "    <tr>\n",
              "      <th>9</th>\n",
              "      <td>394029</td>\n",
              "      <td>421818</td>\n",
              "      <td>405495</td>\n",
              "    </tr>\n",
              "    <tr>\n",
              "      <th>10</th>\n",
              "      <td>394021</td>\n",
              "      <td>421883</td>\n",
              "      <td>421883</td>\n",
              "    </tr>\n",
              "    <tr>\n",
              "      <th>11</th>\n",
              "      <td>394019</td>\n",
              "      <td>421261</td>\n",
              "      <td>414322</td>\n",
              "    </tr>\n",
              "    <tr>\n",
              "      <th>12</th>\n",
              "      <td>394008</td>\n",
              "      <td>421768</td>\n",
              "      <td>421318</td>\n",
              "    </tr>\n",
              "    <tr>\n",
              "      <th>13</th>\n",
              "      <td>394010</td>\n",
              "      <td>421045</td>\n",
              "      <td>421325</td>\n",
              "    </tr>\n",
              "    <tr>\n",
              "      <th>14</th>\n",
              "      <td>394023</td>\n",
              "      <td>421841</td>\n",
              "      <td>419950</td>\n",
              "    </tr>\n",
              "    <tr>\n",
              "      <th>15</th>\n",
              "      <td>394015</td>\n",
              "      <td>421536</td>\n",
              "      <td>417358</td>\n",
              "    </tr>\n",
              "    <tr>\n",
              "      <th>16</th>\n",
              "      <td>394024</td>\n",
              "      <td>421793</td>\n",
              "      <td>403769</td>\n",
              "    </tr>\n",
              "    <tr>\n",
              "      <th>17</th>\n",
              "      <td>394019</td>\n",
              "      <td>421754</td>\n",
              "      <td>410988</td>\n",
              "    </tr>\n",
              "    <tr>\n",
              "      <th>18</th>\n",
              "      <td>394012</td>\n",
              "      <td>421830</td>\n",
              "      <td>416626</td>\n",
              "    </tr>\n",
              "    <tr>\n",
              "      <th>19</th>\n",
              "      <td>394027</td>\n",
              "      <td>421903</td>\n",
              "      <td>420184</td>\n",
              "    </tr>\n",
              "    <tr>\n",
              "      <th>20</th>\n",
              "      <td>394012</td>\n",
              "      <td>421890</td>\n",
              "      <td>420165</td>\n",
              "    </tr>\n",
              "    <tr>\n",
              "      <th>21</th>\n",
              "      <td>394027</td>\n",
              "      <td>421905</td>\n",
              "      <td>421837</td>\n",
              "    </tr>\n",
              "    <tr>\n",
              "      <th>22</th>\n",
              "      <td>394016</td>\n",
              "      <td>421896</td>\n",
              "      <td>421827</td>\n",
              "    </tr>\n",
              "    <tr>\n",
              "      <th>23</th>\n",
              "      <td>393993</td>\n",
              "      <td>421608</td>\n",
              "      <td>419368</td>\n",
              "    </tr>\n",
              "    <tr>\n",
              "      <th>24</th>\n",
              "      <td>393988</td>\n",
              "      <td>421891</td>\n",
              "      <td>414563</td>\n",
              "    </tr>\n",
              "    <tr>\n",
              "      <th>25</th>\n",
              "      <td>394002</td>\n",
              "      <td>421863</td>\n",
              "      <td>415631</td>\n",
              "    </tr>\n",
              "    <tr>\n",
              "      <th>26</th>\n",
              "      <td>393994</td>\n",
              "      <td>421562</td>\n",
              "      <td>415113</td>\n",
              "    </tr>\n",
              "    <tr>\n",
              "      <th>27</th>\n",
              "      <td>393992</td>\n",
              "      <td>421683</td>\n",
              "      <td>405703</td>\n",
              "    </tr>\n",
              "    <tr>\n",
              "      <th>28</th>\n",
              "      <td>394000</td>\n",
              "      <td>421682</td>\n",
              "      <td>412897</td>\n",
              "    </tr>\n",
              "    <tr>\n",
              "      <th>29</th>\n",
              "      <td>393987</td>\n",
              "      <td>421796</td>\n",
              "      <td>414299</td>\n",
              "    </tr>\n",
              "    <tr>\n",
              "      <th>...</th>\n",
              "      <td>...</td>\n",
              "      <td>...</td>\n",
              "      <td>...</td>\n",
              "    </tr>\n",
              "    <tr>\n",
              "      <th>107737</th>\n",
              "      <td>394076</td>\n",
              "      <td>421914</td>\n",
              "      <td>421502</td>\n",
              "    </tr>\n",
              "    <tr>\n",
              "      <th>107738</th>\n",
              "      <td>394078</td>\n",
              "      <td>421837</td>\n",
              "      <td>421893</td>\n",
              "    </tr>\n",
              "    <tr>\n",
              "      <th>107739</th>\n",
              "      <td>394072</td>\n",
              "      <td>421660</td>\n",
              "      <td>411189</td>\n",
              "    </tr>\n",
              "    <tr>\n",
              "      <th>107740</th>\n",
              "      <td>394071</td>\n",
              "      <td>421841</td>\n",
              "      <td>417047</td>\n",
              "    </tr>\n",
              "    <tr>\n",
              "      <th>107741</th>\n",
              "      <td>394076</td>\n",
              "      <td>421897</td>\n",
              "      <td>421526</td>\n",
              "    </tr>\n",
              "    <tr>\n",
              "      <th>107742</th>\n",
              "      <td>394075</td>\n",
              "      <td>421856</td>\n",
              "      <td>421872</td>\n",
              "    </tr>\n",
              "    <tr>\n",
              "      <th>107743</th>\n",
              "      <td>394077</td>\n",
              "      <td>421911</td>\n",
              "      <td>421382</td>\n",
              "    </tr>\n",
              "    <tr>\n",
              "      <th>107744</th>\n",
              "      <td>394078</td>\n",
              "      <td>421833</td>\n",
              "      <td>421868</td>\n",
              "    </tr>\n",
              "    <tr>\n",
              "      <th>107745</th>\n",
              "      <td>394057</td>\n",
              "      <td>421761</td>\n",
              "      <td>421899</td>\n",
              "    </tr>\n",
              "    <tr>\n",
              "      <th>107746</th>\n",
              "      <td>394071</td>\n",
              "      <td>421885</td>\n",
              "      <td>421749</td>\n",
              "    </tr>\n",
              "    <tr>\n",
              "      <th>107747</th>\n",
              "      <td>394078</td>\n",
              "      <td>421912</td>\n",
              "      <td>421880</td>\n",
              "    </tr>\n",
              "    <tr>\n",
              "      <th>107748</th>\n",
              "      <td>394035</td>\n",
              "      <td>421294</td>\n",
              "      <td>421291</td>\n",
              "    </tr>\n",
              "    <tr>\n",
              "      <th>107749</th>\n",
              "      <td>394043</td>\n",
              "      <td>421507</td>\n",
              "      <td>407820</td>\n",
              "    </tr>\n",
              "    <tr>\n",
              "      <th>107750</th>\n",
              "      <td>394048</td>\n",
              "      <td>421729</td>\n",
              "      <td>421894</td>\n",
              "    </tr>\n",
              "    <tr>\n",
              "      <th>107751</th>\n",
              "      <td>394051</td>\n",
              "      <td>421709</td>\n",
              "      <td>418329</td>\n",
              "    </tr>\n",
              "    <tr>\n",
              "      <th>107752</th>\n",
              "      <td>394054</td>\n",
              "      <td>420812</td>\n",
              "      <td>409699</td>\n",
              "    </tr>\n",
              "    <tr>\n",
              "      <th>107753</th>\n",
              "      <td>394042</td>\n",
              "      <td>421891</td>\n",
              "      <td>421725</td>\n",
              "    </tr>\n",
              "    <tr>\n",
              "      <th>107754</th>\n",
              "      <td>394053</td>\n",
              "      <td>421820</td>\n",
              "      <td>414929</td>\n",
              "    </tr>\n",
              "    <tr>\n",
              "      <th>107755</th>\n",
              "      <td>394041</td>\n",
              "      <td>421265</td>\n",
              "      <td>418950</td>\n",
              "    </tr>\n",
              "    <tr>\n",
              "      <th>107756</th>\n",
              "      <td>394051</td>\n",
              "      <td>421822</td>\n",
              "      <td>421097</td>\n",
              "    </tr>\n",
              "    <tr>\n",
              "      <th>107757</th>\n",
              "      <td>394037</td>\n",
              "      <td>421910</td>\n",
              "      <td>421175</td>\n",
              "    </tr>\n",
              "    <tr>\n",
              "      <th>107758</th>\n",
              "      <td>394051</td>\n",
              "      <td>421736</td>\n",
              "      <td>394357</td>\n",
              "    </tr>\n",
              "    <tr>\n",
              "      <th>107759</th>\n",
              "      <td>394042</td>\n",
              "      <td>421838</td>\n",
              "      <td>421907</td>\n",
              "    </tr>\n",
              "    <tr>\n",
              "      <th>107760</th>\n",
              "      <td>394034</td>\n",
              "      <td>421896</td>\n",
              "      <td>419299</td>\n",
              "    </tr>\n",
              "    <tr>\n",
              "      <th>107761</th>\n",
              "      <td>394055</td>\n",
              "      <td>421690</td>\n",
              "      <td>408408</td>\n",
              "    </tr>\n",
              "    <tr>\n",
              "      <th>107762</th>\n",
              "      <td>394026</td>\n",
              "      <td>419060</td>\n",
              "      <td>406075</td>\n",
              "    </tr>\n",
              "    <tr>\n",
              "      <th>107763</th>\n",
              "      <td>394029</td>\n",
              "      <td>421785</td>\n",
              "      <td>411958</td>\n",
              "    </tr>\n",
              "    <tr>\n",
              "      <th>107764</th>\n",
              "      <td>394010</td>\n",
              "      <td>421841</td>\n",
              "      <td>421632</td>\n",
              "    </tr>\n",
              "    <tr>\n",
              "      <th>107765</th>\n",
              "      <td>394011</td>\n",
              "      <td>421639</td>\n",
              "      <td>412429</td>\n",
              "    </tr>\n",
              "    <tr>\n",
              "      <th>107766</th>\n",
              "      <td>394026</td>\n",
              "      <td>421754</td>\n",
              "      <td>420332</td>\n",
              "    </tr>\n",
              "  </tbody>\n",
              "</table>\n",
              "<p>107767 rows × 3 columns</p>\n",
              "</div>"
            ],
            "text/plain": [
              "        createdAt  updatedAt  pushedAt\n",
              "0          394016     421845    421887\n",
              "1          394024     421366    401636\n",
              "2          394012     421538    403769\n",
              "3          394027     421622    417782\n",
              "4          394018     421836    421098\n",
              "5          394011     421246    417400\n",
              "6          394011     421177    400540\n",
              "7          394024     421818    421737\n",
              "8          394011     421707    416834\n",
              "9          394029     421818    405495\n",
              "10         394021     421883    421883\n",
              "11         394019     421261    414322\n",
              "12         394008     421768    421318\n",
              "13         394010     421045    421325\n",
              "14         394023     421841    419950\n",
              "15         394015     421536    417358\n",
              "16         394024     421793    403769\n",
              "17         394019     421754    410988\n",
              "18         394012     421830    416626\n",
              "19         394027     421903    420184\n",
              "20         394012     421890    420165\n",
              "21         394027     421905    421837\n",
              "22         394016     421896    421827\n",
              "23         393993     421608    419368\n",
              "24         393988     421891    414563\n",
              "25         394002     421863    415631\n",
              "26         393994     421562    415113\n",
              "27         393992     421683    405703\n",
              "28         394000     421682    412897\n",
              "29         393987     421796    414299\n",
              "...           ...        ...       ...\n",
              "107737     394076     421914    421502\n",
              "107738     394078     421837    421893\n",
              "107739     394072     421660    411189\n",
              "107740     394071     421841    417047\n",
              "107741     394076     421897    421526\n",
              "107742     394075     421856    421872\n",
              "107743     394077     421911    421382\n",
              "107744     394078     421833    421868\n",
              "107745     394057     421761    421899\n",
              "107746     394071     421885    421749\n",
              "107747     394078     421912    421880\n",
              "107748     394035     421294    421291\n",
              "107749     394043     421507    407820\n",
              "107750     394048     421729    421894\n",
              "107751     394051     421709    418329\n",
              "107752     394054     420812    409699\n",
              "107753     394042     421891    421725\n",
              "107754     394053     421820    414929\n",
              "107755     394041     421265    418950\n",
              "107756     394051     421822    421097\n",
              "107757     394037     421910    421175\n",
              "107758     394051     421736    394357\n",
              "107759     394042     421838    421907\n",
              "107760     394034     421896    419299\n",
              "107761     394055     421690    408408\n",
              "107762     394026     419060    406075\n",
              "107763     394029     421785    411958\n",
              "107764     394010     421841    421632\n",
              "107765     394011     421639    412429\n",
              "107766     394026     421754    420332\n",
              "\n",
              "[107767 rows x 3 columns]"
            ]
          },
          "metadata": {
            "tags": []
          },
          "execution_count": 21
        }
      ]
    },
    {
      "metadata": {
        "id": "dFsYNie9yXzk",
        "colab_type": "code",
        "colab": {
          "autoexec": {
            "startup": false,
            "wait_interval": 0
          },
          "output_extras": [
            {
              "item_id": 1
            }
          ],
          "base_uri": "https://localhost:8080/",
          "height": 332
        },
        "outputId": "5ec7cb9f-6807-4a19-d83d-d9b429a00331",
        "executionInfo": {
          "status": "ok",
          "timestamp": 1519039137998,
          "user_tz": -330,
          "elapsed": 1019,
          "user": {
            "displayName": "Anmol Dua",
            "photoUrl": "https://lh3.googleusercontent.com/a/default-user=s128",
            "userId": "105983295350785523892"
          }
        }
      },
      "cell_type": "code",
      "source": [
        "data.head(3)"
      ],
      "execution_count": 22,
      "outputs": [
        {
          "output_type": "execute_result",
          "data": {
            "text/html": [
              "<div>\n",
              "<style scoped>\n",
              "    .dataframe tbody tr th:only-of-type {\n",
              "        vertical-align: middle;\n",
              "    }\n",
              "\n",
              "    .dataframe tbody tr th {\n",
              "        vertical-align: top;\n",
              "    }\n",
              "\n",
              "    .dataframe thead th {\n",
              "        text-align: right;\n",
              "    }\n",
              "</style>\n",
              "<table border=\"1\" class=\"dataframe\">\n",
              "  <thead>\n",
              "    <tr style=\"text-align: right;\">\n",
              "      <th></th>\n",
              "      <th>branches</th>\n",
              "      <th>commits</th>\n",
              "      <th>createdAt</th>\n",
              "      <th>description</th>\n",
              "      <th>diskUsage</th>\n",
              "      <th>followers</th>\n",
              "      <th>following</th>\n",
              "      <th>forkCount</th>\n",
              "      <th>gistComments</th>\n",
              "      <th>gistStar</th>\n",
              "      <th>gists</th>\n",
              "      <th>hasWikiEnabled</th>\n",
              "      <th>iClosedComments</th>\n",
              "      <th>iClosedParticipants</th>\n",
              "      <th>iOpenComments</th>\n",
              "      <th>iOpenParticipants</th>\n",
              "      <th>isArchived</th>\n",
              "      <th>issuesClosed</th>\n",
              "      <th>issuesOpen</th>\n",
              "      <th>license</th>\n",
              "      <th>location</th>\n",
              "      <th>login</th>\n",
              "      <th>members</th>\n",
              "      <th>organizations</th>\n",
              "      <th>prClosed</th>\n",
              "      <th>prClosedComments</th>\n",
              "      <th>prClosedCommits</th>\n",
              "      <th>prMerged</th>\n",
              "      <th>prMergedComments</th>\n",
              "      <th>prMergedCommits</th>\n",
              "      <th>prOpen</th>\n",
              "      <th>prOpenComments</th>\n",
              "      <th>prOpenCommits</th>\n",
              "      <th>primaryLanguage</th>\n",
              "      <th>pushedAt</th>\n",
              "      <th>readmeCharCount</th>\n",
              "      <th>readmeLinkCount</th>\n",
              "      <th>readmeSize</th>\n",
              "      <th>readmeWordCount</th>\n",
              "      <th>releases</th>\n",
              "      <th>reponame</th>\n",
              "      <th>repositories</th>\n",
              "      <th>siteAdmin</th>\n",
              "      <th>stars</th>\n",
              "      <th>subscribersCount</th>\n",
              "      <th>tags</th>\n",
              "      <th>type</th>\n",
              "      <th>updatedAt</th>\n",
              "      <th>websiteUrl</th>\n",
              "    </tr>\n",
              "  </thead>\n",
              "  <tbody>\n",
              "    <tr>\n",
              "      <th>0</th>\n",
              "      <td>1</td>\n",
              "      <td>700.0</td>\n",
              "      <td>394016</td>\n",
              "      <td>openScale is an open source app which support ...</td>\n",
              "      <td>132778</td>\n",
              "      <td>9.0</td>\n",
              "      <td>0.0</td>\n",
              "      <td>51</td>\n",
              "      <td>0.0</td>\n",
              "      <td>0.0</td>\n",
              "      <td>1.0</td>\n",
              "      <td>True</td>\n",
              "      <td>586</td>\n",
              "      <td>252</td>\n",
              "      <td>50</td>\n",
              "      <td>25</td>\n",
              "      <td>False</td>\n",
              "      <td>109</td>\n",
              "      <td>9</td>\n",
              "      <td>GNU General Public License v3.0</td>\n",
              "      <td>Germany</td>\n",
              "      <td>oliexdev</td>\n",
              "      <td>NaN</td>\n",
              "      <td>0.0</td>\n",
              "      <td>9</td>\n",
              "      <td>39</td>\n",
              "      <td>36</td>\n",
              "      <td>67</td>\n",
              "      <td>135</td>\n",
              "      <td>188</td>\n",
              "      <td>0</td>\n",
              "      <td>0</td>\n",
              "      <td>0</td>\n",
              "      <td>Java</td>\n",
              "      <td>421887</td>\n",
              "      <td>5406</td>\n",
              "      <td>18</td>\n",
              "      <td>5406</td>\n",
              "      <td>817</td>\n",
              "      <td>19</td>\n",
              "      <td>openScale</td>\n",
              "      <td>1</td>\n",
              "      <td>False</td>\n",
              "      <td>153</td>\n",
              "      <td>17</td>\n",
              "      <td>19</td>\n",
              "      <td>user</td>\n",
              "      <td>421845</td>\n",
              "      <td>NaN</td>\n",
              "    </tr>\n",
              "    <tr>\n",
              "      <th>1</th>\n",
              "      <td>1</td>\n",
              "      <td>141.0</td>\n",
              "      <td>394024</td>\n",
              "      <td>:book: Arquivos do livro Be MEAN</td>\n",
              "      <td>808</td>\n",
              "      <td>1280.0</td>\n",
              "      <td>16.0</td>\n",
              "      <td>52</td>\n",
              "      <td>9.0</td>\n",
              "      <td>31.0</td>\n",
              "      <td>164.0</td>\n",
              "      <td>True</td>\n",
              "      <td>3</td>\n",
              "      <td>9</td>\n",
              "      <td>4</td>\n",
              "      <td>19</td>\n",
              "      <td>False</td>\n",
              "      <td>4</td>\n",
              "      <td>10</td>\n",
              "      <td>NaN</td>\n",
              "      <td>NaN</td>\n",
              "      <td>ericdouglas</td>\n",
              "      <td>NaN</td>\n",
              "      <td>1.0</td>\n",
              "      <td>4</td>\n",
              "      <td>7</td>\n",
              "      <td>8</td>\n",
              "      <td>7</td>\n",
              "      <td>8</td>\n",
              "      <td>11</td>\n",
              "      <td>0</td>\n",
              "      <td>0</td>\n",
              "      <td>0</td>\n",
              "      <td>JavaScript</td>\n",
              "      <td>401636</td>\n",
              "      <td>912</td>\n",
              "      <td>9</td>\n",
              "      <td>917</td>\n",
              "      <td>134</td>\n",
              "      <td>0</td>\n",
              "      <td>be-MEAN-resources</td>\n",
              "      <td>113</td>\n",
              "      <td>False</td>\n",
              "      <td>154</td>\n",
              "      <td>42</td>\n",
              "      <td>0</td>\n",
              "      <td>user</td>\n",
              "      <td>421366</td>\n",
              "      <td>NaN</td>\n",
              "    </tr>\n",
              "    <tr>\n",
              "      <th>2</th>\n",
              "      <td>1</td>\n",
              "      <td>95.0</td>\n",
              "      <td>394012</td>\n",
              "      <td>Automated message queue orchestration for scal...</td>\n",
              "      <td>3742</td>\n",
              "      <td>404.0</td>\n",
              "      <td>44.0</td>\n",
              "      <td>29</td>\n",
              "      <td>4.0</td>\n",
              "      <td>7.0</td>\n",
              "      <td>92.0</td>\n",
              "      <td>True</td>\n",
              "      <td>2</td>\n",
              "      <td>4</td>\n",
              "      <td>13</td>\n",
              "      <td>6</td>\n",
              "      <td>False</td>\n",
              "      <td>2</td>\n",
              "      <td>4</td>\n",
              "      <td>Apache License 2.0</td>\n",
              "      <td>Podunk, Iowa</td>\n",
              "      <td>tylertreat</td>\n",
              "      <td>NaN</td>\n",
              "      <td>3.0</td>\n",
              "      <td>0</td>\n",
              "      <td>0</td>\n",
              "      <td>0</td>\n",
              "      <td>2</td>\n",
              "      <td>0</td>\n",
              "      <td>7</td>\n",
              "      <td>1</td>\n",
              "      <td>0</td>\n",
              "      <td>29</td>\n",
              "      <td>Go</td>\n",
              "      <td>403769</td>\n",
              "      <td>5918</td>\n",
              "      <td>19</td>\n",
              "      <td>5918</td>\n",
              "      <td>882</td>\n",
              "      <td>0</td>\n",
              "      <td>Flotilla</td>\n",
              "      <td>125</td>\n",
              "      <td>False</td>\n",
              "      <td>190</td>\n",
              "      <td>14</td>\n",
              "      <td>0</td>\n",
              "      <td>user</td>\n",
              "      <td>421538</td>\n",
              "      <td>https://bravenewgeek.com</td>\n",
              "    </tr>\n",
              "  </tbody>\n",
              "</table>\n",
              "</div>"
            ],
            "text/plain": [
              "   branches  commits  createdAt  \\\n",
              "0         1    700.0     394016   \n",
              "1         1    141.0     394024   \n",
              "2         1     95.0     394012   \n",
              "\n",
              "                                         description  diskUsage  followers  \\\n",
              "0  openScale is an open source app which support ...     132778        9.0   \n",
              "1                   :book: Arquivos do livro Be MEAN        808     1280.0   \n",
              "2  Automated message queue orchestration for scal...       3742      404.0   \n",
              "\n",
              "   following  forkCount  gistComments  gistStar  gists  hasWikiEnabled  \\\n",
              "0        0.0         51           0.0       0.0    1.0            True   \n",
              "1       16.0         52           9.0      31.0  164.0            True   \n",
              "2       44.0         29           4.0       7.0   92.0            True   \n",
              "\n",
              "   iClosedComments  iClosedParticipants  iOpenComments  iOpenParticipants  \\\n",
              "0              586                  252             50                 25   \n",
              "1                3                    9              4                 19   \n",
              "2                2                    4             13                  6   \n",
              "\n",
              "   isArchived  issuesClosed  issuesOpen                          license  \\\n",
              "0       False           109           9  GNU General Public License v3.0   \n",
              "1       False             4          10                              NaN   \n",
              "2       False             2           4               Apache License 2.0   \n",
              "\n",
              "       location        login  members  organizations  prClosed  \\\n",
              "0       Germany     oliexdev      NaN            0.0         9   \n",
              "1           NaN  ericdouglas      NaN            1.0         4   \n",
              "2  Podunk, Iowa   tylertreat      NaN            3.0         0   \n",
              "\n",
              "   prClosedComments  prClosedCommits  prMerged  prMergedComments  \\\n",
              "0                39               36        67               135   \n",
              "1                 7                8         7                 8   \n",
              "2                 0                0         2                 0   \n",
              "\n",
              "   prMergedCommits  prOpen  prOpenComments  prOpenCommits primaryLanguage  \\\n",
              "0              188       0               0              0            Java   \n",
              "1               11       0               0              0      JavaScript   \n",
              "2                7       1               0             29              Go   \n",
              "\n",
              "   pushedAt  readmeCharCount  readmeLinkCount  readmeSize  readmeWordCount  \\\n",
              "0    421887             5406               18        5406              817   \n",
              "1    401636              912                9         917              134   \n",
              "2    403769             5918               19        5918              882   \n",
              "\n",
              "   releases           reponame  repositories  siteAdmin  stars  \\\n",
              "0        19          openScale             1      False    153   \n",
              "1         0  be-MEAN-resources           113      False    154   \n",
              "2         0           Flotilla           125      False    190   \n",
              "\n",
              "   subscribersCount  tags  type  updatedAt                websiteUrl  \n",
              "0                17    19  user     421845                       NaN  \n",
              "1                42     0  user     421366                       NaN  \n",
              "2                14     0  user     421538  https://bravenewgeek.com  "
            ]
          },
          "metadata": {
            "tags": []
          },
          "execution_count": 22
        }
      ]
    },
    {
      "metadata": {
        "id": "sYHTd80byi_u",
        "colab_type": "text"
      },
      "cell_type": "markdown",
      "source": [
        "## Website Url to Binary Form 1(Yes)/0(No)"
      ]
    },
    {
      "metadata": {
        "id": "ScJeCMi0yq4L",
        "colab_type": "code",
        "colab": {
          "autoexec": {
            "startup": false,
            "wait_interval": 0
          }
        }
      },
      "cell_type": "code",
      "source": [
        "data['websiteUrl'] = data['websiteUrl'].fillna('')"
      ],
      "execution_count": 0,
      "outputs": []
    },
    {
      "metadata": {
        "id": "vP4vGIIHyxh7",
        "colab_type": "code",
        "colab": {
          "autoexec": {
            "startup": false,
            "wait_interval": 0
          }
        }
      },
      "cell_type": "code",
      "source": [
        "data['websiteUrl'] = data['websiteUrl'].apply(lambda x : 1 if len(x) > 0 else 0)"
      ],
      "execution_count": 0,
      "outputs": []
    },
    {
      "metadata": {
        "id": "jNJwrRYKyz6W",
        "colab_type": "code",
        "colab": {
          "autoexec": {
            "startup": false,
            "wait_interval": 0
          },
          "output_extras": [
            {
              "item_id": 1
            },
            {
              "item_id": 2
            }
          ],
          "base_uri": "https://localhost:8080/",
          "height": 387
        },
        "outputId": "09777c40-23da-4784-f2ca-d504e8de86c9",
        "executionInfo": {
          "status": "ok",
          "timestamp": 1519039245215,
          "user_tz": -330,
          "elapsed": 1027,
          "user": {
            "displayName": "Anmol Dua",
            "photoUrl": "https://lh3.googleusercontent.com/a/default-user=s128",
            "userId": "105983295350785523892"
          }
        }
      },
      "cell_type": "code",
      "source": [
        "data['websiteUrl'].value_counts().plot.bar()"
      ],
      "execution_count": 25,
      "outputs": [
        {
          "output_type": "execute_result",
          "data": {
            "text/plain": [
              "<matplotlib.axes._subplots.AxesSubplot at 0x7f660cceed10>"
            ]
          },
          "metadata": {
            "tags": []
          },
          "execution_count": 25
        },
        {
          "output_type": "display_data",
          "data": {
            "image/png": "[encoded data removed]",
            "text/plain": [
              "<matplotlib.figure.Figure at 0x7f660c4fb650>"
            ]
          },
          "metadata": {
            "tags": []
          }
        }
      ]
    },
    {
      "metadata": {
        "id": "xdtaTdKty2cy",
        "colab_type": "code",
        "colab": {
          "autoexec": {
            "startup": false,
            "wait_interval": 0
          },
          "output_extras": [
            {
              "item_id": 1
            }
          ],
          "base_uri": "https://localhost:8080/",
          "height": 332
        },
        "outputId": "e7367f6f-decf-45bb-df2f-c59477a06b7a",
        "executionInfo": {
          "status": "ok",
          "timestamp": 1519039259444,
          "user_tz": -330,
          "elapsed": 960,
          "user": {
            "displayName": "Anmol Dua",
            "photoUrl": "https://lh3.googleusercontent.com/a/default-user=s128",
            "userId": "105983295350785523892"
          }
        }
      },
      "cell_type": "code",
      "source": [
        "data.head(3)"
      ],
      "execution_count": 26,
      "outputs": [
        {
          "output_type": "execute_result",
          "data": {
            "text/html": [
              "<div>\n",
              "<style scoped>\n",
              "    .dataframe tbody tr th:only-of-type {\n",
              "        vertical-align: middle;\n",
              "    }\n",
              "\n",
              "    .dataframe tbody tr th {\n",
              "        vertical-align: top;\n",
              "    }\n",
              "\n",
              "    .dataframe thead th {\n",
              "        text-align: right;\n",
              "    }\n",
              "</style>\n",
              "<table border=\"1\" class=\"dataframe\">\n",
              "  <thead>\n",
              "    <tr style=\"text-align: right;\">\n",
              "      <th></th>\n",
              "      <th>branches</th>\n",
              "      <th>commits</th>\n",
              "      <th>createdAt</th>\n",
              "      <th>description</th>\n",
              "      <th>diskUsage</th>\n",
              "      <th>followers</th>\n",
              "      <th>following</th>\n",
              "      <th>forkCount</th>\n",
              "      <th>gistComments</th>\n",
              "      <th>gistStar</th>\n",
              "      <th>gists</th>\n",
              "      <th>hasWikiEnabled</th>\n",
              "      <th>iClosedComments</th>\n",
              "      <th>iClosedParticipants</th>\n",
              "      <th>iOpenComments</th>\n",
              "      <th>iOpenParticipants</th>\n",
              "      <th>isArchived</th>\n",
              "      <th>issuesClosed</th>\n",
              "      <th>issuesOpen</th>\n",
              "      <th>license</th>\n",
              "      <th>location</th>\n",
              "      <th>login</th>\n",
              "      <th>members</th>\n",
              "      <th>organizations</th>\n",
              "      <th>prClosed</th>\n",
              "      <th>prClosedComments</th>\n",
              "      <th>prClosedCommits</th>\n",
              "      <th>prMerged</th>\n",
              "      <th>prMergedComments</th>\n",
              "      <th>prMergedCommits</th>\n",
              "      <th>prOpen</th>\n",
              "      <th>prOpenComments</th>\n",
              "      <th>prOpenCommits</th>\n",
              "      <th>primaryLanguage</th>\n",
              "      <th>pushedAt</th>\n",
              "      <th>readmeCharCount</th>\n",
              "      <th>readmeLinkCount</th>\n",
              "      <th>readmeSize</th>\n",
              "      <th>readmeWordCount</th>\n",
              "      <th>releases</th>\n",
              "      <th>reponame</th>\n",
              "      <th>repositories</th>\n",
              "      <th>siteAdmin</th>\n",
              "      <th>stars</th>\n",
              "      <th>subscribersCount</th>\n",
              "      <th>tags</th>\n",
              "      <th>type</th>\n",
              "      <th>updatedAt</th>\n",
              "      <th>websiteUrl</th>\n",
              "    </tr>\n",
              "  </thead>\n",
              "  <tbody>\n",
              "    <tr>\n",
              "      <th>0</th>\n",
              "      <td>1</td>\n",
              "      <td>700.0</td>\n",
              "      <td>394016</td>\n",
              "      <td>openScale is an open source app which support ...</td>\n",
              "      <td>132778</td>\n",
              "      <td>9.0</td>\n",
              "      <td>0.0</td>\n",
              "      <td>51</td>\n",
              "      <td>0.0</td>\n",
              "      <td>0.0</td>\n",
              "      <td>1.0</td>\n",
              "      <td>True</td>\n",
              "      <td>586</td>\n",
              "      <td>252</td>\n",
              "      <td>50</td>\n",
              "      <td>25</td>\n",
              "      <td>False</td>\n",
              "      <td>109</td>\n",
              "      <td>9</td>\n",
              "      <td>GNU General Public License v3.0</td>\n",
              "      <td>Germany</td>\n",
              "      <td>oliexdev</td>\n",
              "      <td>NaN</td>\n",
              "      <td>0.0</td>\n",
              "      <td>9</td>\n",
              "      <td>39</td>\n",
              "      <td>36</td>\n",
              "      <td>67</td>\n",
              "      <td>135</td>\n",
              "      <td>188</td>\n",
              "      <td>0</td>\n",
              "      <td>0</td>\n",
              "      <td>0</td>\n",
              "      <td>Java</td>\n",
              "      <td>421887</td>\n",
              "      <td>5406</td>\n",
              "      <td>18</td>\n",
              "      <td>5406</td>\n",
              "      <td>817</td>\n",
              "      <td>19</td>\n",
              "      <td>openScale</td>\n",
              "      <td>1</td>\n",
              "      <td>False</td>\n",
              "      <td>153</td>\n",
              "      <td>17</td>\n",
              "      <td>19</td>\n",
              "      <td>user</td>\n",
              "      <td>421845</td>\n",
              "      <td>0</td>\n",
              "    </tr>\n",
              "    <tr>\n",
              "      <th>1</th>\n",
              "      <td>1</td>\n",
              "      <td>141.0</td>\n",
              "      <td>394024</td>\n",
              "      <td>:book: Arquivos do livro Be MEAN</td>\n",
              "      <td>808</td>\n",
              "      <td>1280.0</td>\n",
              "      <td>16.0</td>\n",
              "      <td>52</td>\n",
              "      <td>9.0</td>\n",
              "      <td>31.0</td>\n",
              "      <td>164.0</td>\n",
              "      <td>True</td>\n",
              "      <td>3</td>\n",
              "      <td>9</td>\n",
              "      <td>4</td>\n",
              "      <td>19</td>\n",
              "      <td>False</td>\n",
              "      <td>4</td>\n",
              "      <td>10</td>\n",
              "      <td>NaN</td>\n",
              "      <td>NaN</td>\n",
              "      <td>ericdouglas</td>\n",
              "      <td>NaN</td>\n",
              "      <td>1.0</td>\n",
              "      <td>4</td>\n",
              "      <td>7</td>\n",
              "      <td>8</td>\n",
              "      <td>7</td>\n",
              "      <td>8</td>\n",
              "      <td>11</td>\n",
              "      <td>0</td>\n",
              "      <td>0</td>\n",
              "      <td>0</td>\n",
              "      <td>JavaScript</td>\n",
              "      <td>401636</td>\n",
              "      <td>912</td>\n",
              "      <td>9</td>\n",
              "      <td>917</td>\n",
              "      <td>134</td>\n",
              "      <td>0</td>\n",
              "      <td>be-MEAN-resources</td>\n",
              "      <td>113</td>\n",
              "      <td>False</td>\n",
              "      <td>154</td>\n",
              "      <td>42</td>\n",
              "      <td>0</td>\n",
              "      <td>user</td>\n",
              "      <td>421366</td>\n",
              "      <td>0</td>\n",
              "    </tr>\n",
              "    <tr>\n",
              "      <th>2</th>\n",
              "      <td>1</td>\n",
              "      <td>95.0</td>\n",
              "      <td>394012</td>\n",
              "      <td>Automated message queue orchestration for scal...</td>\n",
              "      <td>3742</td>\n",
              "      <td>404.0</td>\n",
              "      <td>44.0</td>\n",
              "      <td>29</td>\n",
              "      <td>4.0</td>\n",
              "      <td>7.0</td>\n",
              "      <td>92.0</td>\n",
              "      <td>True</td>\n",
              "      <td>2</td>\n",
              "      <td>4</td>\n",
              "      <td>13</td>\n",
              "      <td>6</td>\n",
              "      <td>False</td>\n",
              "      <td>2</td>\n",
              "      <td>4</td>\n",
              "      <td>Apache License 2.0</td>\n",
              "      <td>Podunk, Iowa</td>\n",
              "      <td>tylertreat</td>\n",
              "      <td>NaN</td>\n",
              "      <td>3.0</td>\n",
              "      <td>0</td>\n",
              "      <td>0</td>\n",
              "      <td>0</td>\n",
              "      <td>2</td>\n",
              "      <td>0</td>\n",
              "      <td>7</td>\n",
              "      <td>1</td>\n",
              "      <td>0</td>\n",
              "      <td>29</td>\n",
              "      <td>Go</td>\n",
              "      <td>403769</td>\n",
              "      <td>5918</td>\n",
              "      <td>19</td>\n",
              "      <td>5918</td>\n",
              "      <td>882</td>\n",
              "      <td>0</td>\n",
              "      <td>Flotilla</td>\n",
              "      <td>125</td>\n",
              "      <td>False</td>\n",
              "      <td>190</td>\n",
              "      <td>14</td>\n",
              "      <td>0</td>\n",
              "      <td>user</td>\n",
              "      <td>421538</td>\n",
              "      <td>1</td>\n",
              "    </tr>\n",
              "  </tbody>\n",
              "</table>\n",
              "</div>"
            ],
            "text/plain": [
              "   branches  commits  createdAt  \\\n",
              "0         1    700.0     394016   \n",
              "1         1    141.0     394024   \n",
              "2         1     95.0     394012   \n",
              "\n",
              "                                         description  diskUsage  followers  \\\n",
              "0  openScale is an open source app which support ...     132778        9.0   \n",
              "1                   :book: Arquivos do livro Be MEAN        808     1280.0   \n",
              "2  Automated message queue orchestration for scal...       3742      404.0   \n",
              "\n",
              "   following  forkCount  gistComments  gistStar  gists  hasWikiEnabled  \\\n",
              "0        0.0         51           0.0       0.0    1.0            True   \n",
              "1       16.0         52           9.0      31.0  164.0            True   \n",
              "2       44.0         29           4.0       7.0   92.0            True   \n",
              "\n",
              "   iClosedComments  iClosedParticipants  iOpenComments  iOpenParticipants  \\\n",
              "0              586                  252             50                 25   \n",
              "1                3                    9              4                 19   \n",
              "2                2                    4             13                  6   \n",
              "\n",
              "   isArchived  issuesClosed  issuesOpen                          license  \\\n",
              "0       False           109           9  GNU General Public License v3.0   \n",
              "1       False             4          10                              NaN   \n",
              "2       False             2           4               Apache License 2.0   \n",
              "\n",
              "       location        login  members  organizations  prClosed  \\\n",
              "0       Germany     oliexdev      NaN            0.0         9   \n",
              "1           NaN  ericdouglas      NaN            1.0         4   \n",
              "2  Podunk, Iowa   tylertreat      NaN            3.0         0   \n",
              "\n",
              "   prClosedComments  prClosedCommits  prMerged  prMergedComments  \\\n",
              "0                39               36        67               135   \n",
              "1                 7                8         7                 8   \n",
              "2                 0                0         2                 0   \n",
              "\n",
              "   prMergedCommits  prOpen  prOpenComments  prOpenCommits primaryLanguage  \\\n",
              "0              188       0               0              0            Java   \n",
              "1               11       0               0              0      JavaScript   \n",
              "2                7       1               0             29              Go   \n",
              "\n",
              "   pushedAt  readmeCharCount  readmeLinkCount  readmeSize  readmeWordCount  \\\n",
              "0    421887             5406               18        5406              817   \n",
              "1    401636              912                9         917              134   \n",
              "2    403769             5918               19        5918              882   \n",
              "\n",
              "   releases           reponame  repositories  siteAdmin  stars  \\\n",
              "0        19          openScale             1      False    153   \n",
              "1         0  be-MEAN-resources           113      False    154   \n",
              "2         0           Flotilla           125      False    190   \n",
              "\n",
              "   subscribersCount  tags  type  updatedAt  websiteUrl  \n",
              "0                17    19  user     421845           0  \n",
              "1                42     0  user     421366           0  \n",
              "2                14     0  user     421538           1  "
            ]
          },
          "metadata": {
            "tags": []
          },
          "execution_count": 26
        }
      ]
    },
    {
      "metadata": {
        "id": "7kWFjfGNzBzR",
        "colab_type": "text"
      },
      "cell_type": "markdown",
      "source": [
        "## Description Word and Character Count"
      ]
    },
    {
      "metadata": {
        "id": "UNTthKTCzKag",
        "colab_type": "code",
        "colab": {
          "autoexec": {
            "startup": false,
            "wait_interval": 0
          }
        }
      },
      "cell_type": "code",
      "source": [
        "data['description'] = data['description'].fillna('') "
      ],
      "execution_count": 0,
      "outputs": []
    },
    {
      "metadata": {
        "id": "Wn_sJDAbzPei",
        "colab_type": "code",
        "colab": {
          "autoexec": {
            "startup": false,
            "wait_interval": 0
          }
        }
      },
      "cell_type": "code",
      "source": [
        "data['desWordCount'] = data['description'].apply(lambda x: len(x.split(' ')))\n",
        "data['desCharCount'] = data['description'].apply(len)"
      ],
      "execution_count": 0,
      "outputs": []
    },
    {
      "metadata": {
        "id": "rlgS3RYIzSrB",
        "colab_type": "code",
        "colab": {
          "autoexec": {
            "startup": false,
            "wait_interval": 0
          },
          "output_extras": [
            {
              "item_id": 1
            }
          ],
          "base_uri": "https://localhost:8080/",
          "height": 332
        },
        "outputId": "bae4181b-0b73-4347-9f79-8171c1b2e0a3",
        "executionInfo": {
          "status": "ok",
          "timestamp": 1519039389384,
          "user_tz": -330,
          "elapsed": 989,
          "user": {
            "displayName": "Anmol Dua",
            "photoUrl": "https://lh3.googleusercontent.com/a/default-user=s128",
            "userId": "105983295350785523892"
          }
        }
      },
      "cell_type": "code",
      "source": [
        "data.head(3)"
      ],
      "execution_count": 29,
      "outputs": [
        {
          "output_type": "execute_result",
          "data": {
            "text/html": [
              "<div>\n",
              "<style scoped>\n",
              "    .dataframe tbody tr th:only-of-type {\n",
              "        vertical-align: middle;\n",
              "    }\n",
              "\n",
              "    .dataframe tbody tr th {\n",
              "        vertical-align: top;\n",
              "    }\n",
              "\n",
              "    .dataframe thead th {\n",
              "        text-align: right;\n",
              "    }\n",
              "</style>\n",
              "<table border=\"1\" class=\"dataframe\">\n",
              "  <thead>\n",
              "    <tr style=\"text-align: right;\">\n",
              "      <th></th>\n",
              "      <th>branches</th>\n",
              "      <th>commits</th>\n",
              "      <th>createdAt</th>\n",
              "      <th>description</th>\n",
              "      <th>diskUsage</th>\n",
              "      <th>followers</th>\n",
              "      <th>following</th>\n",
              "      <th>forkCount</th>\n",
              "      <th>gistComments</th>\n",
              "      <th>gistStar</th>\n",
              "      <th>gists</th>\n",
              "      <th>hasWikiEnabled</th>\n",
              "      <th>iClosedComments</th>\n",
              "      <th>iClosedParticipants</th>\n",
              "      <th>iOpenComments</th>\n",
              "      <th>iOpenParticipants</th>\n",
              "      <th>isArchived</th>\n",
              "      <th>issuesClosed</th>\n",
              "      <th>issuesOpen</th>\n",
              "      <th>license</th>\n",
              "      <th>location</th>\n",
              "      <th>login</th>\n",
              "      <th>members</th>\n",
              "      <th>organizations</th>\n",
              "      <th>prClosed</th>\n",
              "      <th>prClosedComments</th>\n",
              "      <th>prClosedCommits</th>\n",
              "      <th>prMerged</th>\n",
              "      <th>prMergedComments</th>\n",
              "      <th>prMergedCommits</th>\n",
              "      <th>prOpen</th>\n",
              "      <th>prOpenComments</th>\n",
              "      <th>prOpenCommits</th>\n",
              "      <th>primaryLanguage</th>\n",
              "      <th>pushedAt</th>\n",
              "      <th>readmeCharCount</th>\n",
              "      <th>readmeLinkCount</th>\n",
              "      <th>readmeSize</th>\n",
              "      <th>readmeWordCount</th>\n",
              "      <th>releases</th>\n",
              "      <th>reponame</th>\n",
              "      <th>repositories</th>\n",
              "      <th>siteAdmin</th>\n",
              "      <th>stars</th>\n",
              "      <th>subscribersCount</th>\n",
              "      <th>tags</th>\n",
              "      <th>type</th>\n",
              "      <th>updatedAt</th>\n",
              "      <th>websiteUrl</th>\n",
              "      <th>desWordCount</th>\n",
              "      <th>desCharCount</th>\n",
              "    </tr>\n",
              "  </thead>\n",
              "  <tbody>\n",
              "    <tr>\n",
              "      <th>0</th>\n",
              "      <td>1</td>\n",
              "      <td>700.0</td>\n",
              "      <td>394016</td>\n",
              "      <td>openScale is an open source app which support ...</td>\n",
              "      <td>132778</td>\n",
              "      <td>9.0</td>\n",
              "      <td>0.0</td>\n",
              "      <td>51</td>\n",
              "      <td>0.0</td>\n",
              "      <td>0.0</td>\n",
              "      <td>1.0</td>\n",
              "      <td>True</td>\n",
              "      <td>586</td>\n",
              "      <td>252</td>\n",
              "      <td>50</td>\n",
              "      <td>25</td>\n",
              "      <td>False</td>\n",
              "      <td>109</td>\n",
              "      <td>9</td>\n",
              "      <td>GNU General Public License v3.0</td>\n",
              "      <td>Germany</td>\n",
              "      <td>oliexdev</td>\n",
              "      <td>NaN</td>\n",
              "      <td>0.0</td>\n",
              "      <td>9</td>\n",
              "      <td>39</td>\n",
              "      <td>36</td>\n",
              "      <td>67</td>\n",
              "      <td>135</td>\n",
              "      <td>188</td>\n",
              "      <td>0</td>\n",
              "      <td>0</td>\n",
              "      <td>0</td>\n",
              "      <td>Java</td>\n",
              "      <td>421887</td>\n",
              "      <td>5406</td>\n",
              "      <td>18</td>\n",
              "      <td>5406</td>\n",
              "      <td>817</td>\n",
              "      <td>19</td>\n",
              "      <td>openScale</td>\n",
              "      <td>1</td>\n",
              "      <td>False</td>\n",
              "      <td>153</td>\n",
              "      <td>17</td>\n",
              "      <td>19</td>\n",
              "      <td>user</td>\n",
              "      <td>421845</td>\n",
              "      <td>0</td>\n",
              "      <td>18</td>\n",
              "      <td>104</td>\n",
              "    </tr>\n",
              "    <tr>\n",
              "      <th>1</th>\n",
              "      <td>1</td>\n",
              "      <td>141.0</td>\n",
              "      <td>394024</td>\n",
              "      <td>:book: Arquivos do livro Be MEAN</td>\n",
              "      <td>808</td>\n",
              "      <td>1280.0</td>\n",
              "      <td>16.0</td>\n",
              "      <td>52</td>\n",
              "      <td>9.0</td>\n",
              "      <td>31.0</td>\n",
              "      <td>164.0</td>\n",
              "      <td>True</td>\n",
              "      <td>3</td>\n",
              "      <td>9</td>\n",
              "      <td>4</td>\n",
              "      <td>19</td>\n",
              "      <td>False</td>\n",
              "      <td>4</td>\n",
              "      <td>10</td>\n",
              "      <td>NaN</td>\n",
              "      <td>NaN</td>\n",
              "      <td>ericdouglas</td>\n",
              "      <td>NaN</td>\n",
              "      <td>1.0</td>\n",
              "      <td>4</td>\n",
              "      <td>7</td>\n",
              "      <td>8</td>\n",
              "      <td>7</td>\n",
              "      <td>8</td>\n",
              "      <td>11</td>\n",
              "      <td>0</td>\n",
              "      <td>0</td>\n",
              "      <td>0</td>\n",
              "      <td>JavaScript</td>\n",
              "      <td>401636</td>\n",
              "      <td>912</td>\n",
              "      <td>9</td>\n",
              "      <td>917</td>\n",
              "      <td>134</td>\n",
              "      <td>0</td>\n",
              "      <td>be-MEAN-resources</td>\n",
              "      <td>113</td>\n",
              "      <td>False</td>\n",
              "      <td>154</td>\n",
              "      <td>42</td>\n",
              "      <td>0</td>\n",
              "      <td>user</td>\n",
              "      <td>421366</td>\n",
              "      <td>0</td>\n",
              "      <td>6</td>\n",
              "      <td>32</td>\n",
              "    </tr>\n",
              "    <tr>\n",
              "      <th>2</th>\n",
              "      <td>1</td>\n",
              "      <td>95.0</td>\n",
              "      <td>394012</td>\n",
              "      <td>Automated message queue orchestration for scal...</td>\n",
              "      <td>3742</td>\n",
              "      <td>404.0</td>\n",
              "      <td>44.0</td>\n",
              "      <td>29</td>\n",
              "      <td>4.0</td>\n",
              "      <td>7.0</td>\n",
              "      <td>92.0</td>\n",
              "      <td>True</td>\n",
              "      <td>2</td>\n",
              "      <td>4</td>\n",
              "      <td>13</td>\n",
              "      <td>6</td>\n",
              "      <td>False</td>\n",
              "      <td>2</td>\n",
              "      <td>4</td>\n",
              "      <td>Apache License 2.0</td>\n",
              "      <td>Podunk, Iowa</td>\n",
              "      <td>tylertreat</td>\n",
              "      <td>NaN</td>\n",
              "      <td>3.0</td>\n",
              "      <td>0</td>\n",
              "      <td>0</td>\n",
              "      <td>0</td>\n",
              "      <td>2</td>\n",
              "      <td>0</td>\n",
              "      <td>7</td>\n",
              "      <td>1</td>\n",
              "      <td>0</td>\n",
              "      <td>29</td>\n",
              "      <td>Go</td>\n",
              "      <td>403769</td>\n",
              "      <td>5918</td>\n",
              "      <td>19</td>\n",
              "      <td>5918</td>\n",
              "      <td>882</td>\n",
              "      <td>0</td>\n",
              "      <td>Flotilla</td>\n",
              "      <td>125</td>\n",
              "      <td>False</td>\n",
              "      <td>190</td>\n",
              "      <td>14</td>\n",
              "      <td>0</td>\n",
              "      <td>user</td>\n",
              "      <td>421538</td>\n",
              "      <td>1</td>\n",
              "      <td>7</td>\n",
              "      <td>65</td>\n",
              "    </tr>\n",
              "  </tbody>\n",
              "</table>\n",
              "</div>"
            ],
            "text/plain": [
              "   branches  commits  createdAt  \\\n",
              "0         1    700.0     394016   \n",
              "1         1    141.0     394024   \n",
              "2         1     95.0     394012   \n",
              "\n",
              "                                         description  diskUsage  followers  \\\n",
              "0  openScale is an open source app which support ...     132778        9.0   \n",
              "1                   :book: Arquivos do livro Be MEAN        808     1280.0   \n",
              "2  Automated message queue orchestration for scal...       3742      404.0   \n",
              "\n",
              "   following  forkCount  gistComments  gistStar  gists  hasWikiEnabled  \\\n",
              "0        0.0         51           0.0       0.0    1.0            True   \n",
              "1       16.0         52           9.0      31.0  164.0            True   \n",
              "2       44.0         29           4.0       7.0   92.0            True   \n",
              "\n",
              "   iClosedComments  iClosedParticipants  iOpenComments  iOpenParticipants  \\\n",
              "0              586                  252             50                 25   \n",
              "1                3                    9              4                 19   \n",
              "2                2                    4             13                  6   \n",
              "\n",
              "   isArchived  issuesClosed  issuesOpen                          license  \\\n",
              "0       False           109           9  GNU General Public License v3.0   \n",
              "1       False             4          10                              NaN   \n",
              "2       False             2           4               Apache License 2.0   \n",
              "\n",
              "       location        login  members  organizations  prClosed  \\\n",
              "0       Germany     oliexdev      NaN            0.0         9   \n",
              "1           NaN  ericdouglas      NaN            1.0         4   \n",
              "2  Podunk, Iowa   tylertreat      NaN            3.0         0   \n",
              "\n",
              "   prClosedComments  prClosedCommits  prMerged  prMergedComments  \\\n",
              "0                39               36        67               135   \n",
              "1                 7                8         7                 8   \n",
              "2                 0                0         2                 0   \n",
              "\n",
              "   prMergedCommits  prOpen  prOpenComments  prOpenCommits primaryLanguage  \\\n",
              "0              188       0               0              0            Java   \n",
              "1               11       0               0              0      JavaScript   \n",
              "2                7       1               0             29              Go   \n",
              "\n",
              "   pushedAt  readmeCharCount  readmeLinkCount  readmeSize  readmeWordCount  \\\n",
              "0    421887             5406               18        5406              817   \n",
              "1    401636              912                9         917              134   \n",
              "2    403769             5918               19        5918              882   \n",
              "\n",
              "   releases           reponame  repositories  siteAdmin  stars  \\\n",
              "0        19          openScale             1      False    153   \n",
              "1         0  be-MEAN-resources           113      False    154   \n",
              "2         0           Flotilla           125      False    190   \n",
              "\n",
              "   subscribersCount  tags  type  updatedAt  websiteUrl  desWordCount  \\\n",
              "0                17    19  user     421845           0            18   \n",
              "1                42     0  user     421366           0             6   \n",
              "2                14     0  user     421538           1             7   \n",
              "\n",
              "   desCharCount  \n",
              "0           104  \n",
              "1            32  \n",
              "2            65  "
            ]
          },
          "metadata": {
            "tags": []
          },
          "execution_count": 29
        }
      ]
    },
    {
      "metadata": {
        "id": "6IawYqRNzatf",
        "colab_type": "text"
      },
      "cell_type": "markdown",
      "source": [
        "## hasWikiEnabled to Binary Form"
      ]
    },
    {
      "metadata": {
        "id": "ie_JlIYXzn1M",
        "colab_type": "code",
        "colab": {
          "autoexec": {
            "startup": false,
            "wait_interval": 0
          },
          "output_extras": [
            {
              "item_id": 1
            },
            {
              "item_id": 2
            },
            {
              "item_id": 3
            }
          ],
          "base_uri": "https://localhost:8080/",
          "height": 457
        },
        "outputId": "8c75606b-cbf3-4f1d-9710-7374630aae84",
        "executionInfo": {
          "status": "ok",
          "timestamp": 1519039466497,
          "user_tz": -330,
          "elapsed": 1033,
          "user": {
            "displayName": "Anmol Dua",
            "photoUrl": "https://lh3.googleusercontent.com/a/default-user=s128",
            "userId": "105983295350785523892"
          }
        }
      },
      "cell_type": "code",
      "source": [
        "print(data['hasWikiEnabled'].value_counts())\n",
        "data['hasWikiEnabled'].value_counts().plot.bar()"
      ],
      "execution_count": 30,
      "outputs": [
        {
          "output_type": "stream",
          "text": [
            "True     90907\n",
            "False    16860\n",
            "Name: hasWikiEnabled, dtype: int64\n"
          ],
          "name": "stdout"
        },
        {
          "output_type": "execute_result",
          "data": {
            "text/plain": [
              "<matplotlib.axes._subplots.AxesSubplot at 0x7f660c828090>"
            ]
          },
          "metadata": {
            "tags": []
          },
          "execution_count": 30
        },
        {
          "output_type": "display_data",
          "data": {
            "image/png": "[encoded data removed]",
            "text/plain": [
              "<matplotlib.figure.Figure at 0x7f660c24dcd0>"
            ]
          },
          "metadata": {
            "tags": []
          }
        }
      ]
    },
    {
      "metadata": {
        "id": "l8XdCv5FzseK",
        "colab_type": "code",
        "colab": {
          "autoexec": {
            "startup": false,
            "wait_interval": 0
          }
        }
      },
      "cell_type": "code",
      "source": [
        "data['hasWikiEnabled'] = data['hasWikiEnabled'].apply(lambda x : 1 if x else 0)"
      ],
      "execution_count": 0,
      "outputs": []
    },
    {
      "metadata": {
        "id": "xc0mohvFzx2-",
        "colab_type": "text"
      },
      "cell_type": "markdown",
      "source": [
        "## License to OneHotEncoding"
      ]
    },
    {
      "metadata": {
        "id": "M68BWinPz3iR",
        "colab_type": "code",
        "colab": {
          "autoexec": {
            "startup": false,
            "wait_interval": 0
          },
          "output_extras": [
            {
              "item_id": 1
            }
          ],
          "base_uri": "https://localhost:8080/",
          "height": 544
        },
        "outputId": "94b88ac1-06c8-48bc-f3e1-1d6e413f7bc2",
        "executionInfo": {
          "status": "ok",
          "timestamp": 1519039523823,
          "user_tz": -330,
          "elapsed": 991,
          "user": {
            "displayName": "Anmol Dua",
            "photoUrl": "https://lh3.googleusercontent.com/a/default-user=s128",
            "userId": "105983295350785523892"
          }
        }
      },
      "cell_type": "code",
      "source": [
        "set(data['license'])"
      ],
      "execution_count": 32,
      "outputs": [
        {
          "output_type": "execute_result",
          "data": {
            "text/plain": [
              "{nan,\n",
              " 'Academic Free License v3.0',\n",
              " 'Apache License 2.0',\n",
              " 'Artistic License 2.0',\n",
              " 'BSD 2-Clause \"Simplified\" License',\n",
              " 'BSD 3-Clause \"New\" or \"Revised\" License',\n",
              " 'BSD 3-Clause Clear License',\n",
              " 'Boost Software License 1.0',\n",
              " 'Creative Commons Attribution 4.0',\n",
              " 'Creative Commons Attribution Share Alike 4.0',\n",
              " 'Creative Commons Zero v1.0 Universal',\n",
              " 'Do What The F*ck You Want To Public License',\n",
              " 'Eclipse Public License 1.0',\n",
              " 'Educational Community License v2.0',\n",
              " 'European Union Public License 1.1',\n",
              " 'GNU Affero General Public License v3.0',\n",
              " 'GNU General Public License v2.0',\n",
              " 'GNU General Public License v3.0',\n",
              " 'GNU Lesser General Public License v2.1',\n",
              " 'GNU Lesser General Public License v3.0',\n",
              " 'ISC License',\n",
              " 'LaTeX Project Public License v1.3c',\n",
              " 'MIT License',\n",
              " 'Microsoft Public License',\n",
              " 'Microsoft Reciprocal License',\n",
              " 'Mozilla Public License 2.0',\n",
              " 'Open Software License 3.0',\n",
              " 'Other',\n",
              " 'SIL Open Font License 1.1',\n",
              " 'The Unlicense',\n",
              " 'zlib License'}"
            ]
          },
          "metadata": {
            "tags": []
          },
          "execution_count": 32
        }
      ]
    },
    {
      "metadata": {
        "id": "7YY-2qwsz6ef",
        "colab_type": "code",
        "colab": {
          "autoexec": {
            "startup": false,
            "wait_interval": 0
          },
          "output_extras": [
            {
              "item_id": 1
            },
            {
              "item_id": 2
            }
          ],
          "base_uri": "https://localhost:8080/",
          "height": 574
        },
        "outputId": "63b722f7-e801-49b1-b7f7-1f6387abe7b2",
        "executionInfo": {
          "status": "ok",
          "timestamp": 1519039536550,
          "user_tz": -330,
          "elapsed": 1123,
          "user": {
            "displayName": "Anmol Dua",
            "photoUrl": "https://lh3.googleusercontent.com/a/default-user=s128",
            "userId": "105983295350785523892"
          }
        }
      },
      "cell_type": "code",
      "source": [
        "data['license'].value_counts(dropna = False)[:10].plot.bar()"
      ],
      "execution_count": 33,
      "outputs": [
        {
          "output_type": "execute_result",
          "data": {
            "text/plain": [
              "<matplotlib.axes._subplots.AxesSubplot at 0x7f660cedf850>"
            ]
          },
          "metadata": {
            "tags": []
          },
          "execution_count": 33
        },
        {
          "output_type": "display_data",
          "data": {
            "image/png": "[encoded data removed]",
            "text/plain": [
              "<matplotlib.figure.Figure at 0x7f660dc80150>"
            ]
          },
          "metadata": {
            "tags": []
          }
        }
      ]
    },
    {
      "metadata": {
        "id": "3ltZXiCRz9jh",
        "colab_type": "code",
        "colab": {
          "autoexec": {
            "startup": false,
            "wait_interval": 0
          }
        }
      },
      "cell_type": "code",
      "source": [
        "data['license'] = data['license'].fillna('')"
      ],
      "execution_count": 0,
      "outputs": []
    },
    {
      "metadata": {
        "id": "PYPrs02F0AmC",
        "colab_type": "code",
        "colab": {
          "autoexec": {
            "startup": false,
            "wait_interval": 0
          }
        }
      },
      "cell_type": "code",
      "source": [
        "license_cols = ['mit_license','nan_license','apache_license','other_license','remain_license'] "
      ],
      "execution_count": 0,
      "outputs": []
    },
    {
      "metadata": {
        "id": "3V9-7V3T0DW6",
        "colab_type": "code",
        "colab": {
          "autoexec": {
            "startup": false,
            "wait_interval": 0
          }
        }
      },
      "cell_type": "code",
      "source": [
        "for i in license_cols:\n",
        "  if i.startswith('mit'):\n",
        "    data[i] = data['license'].apply(lambda x: 1 if x == 'MIT License' else 0)\n",
        "  elif i.startswith('nan'):\n",
        "    data[i] = data['license'].apply(lambda x: int(len(x) == 0))\n",
        "  elif i.startswith('apache'):\n",
        "    data[i] = data['license'].apply(lambda x: 1 if x == 'Apache License 2.0' else 0)\n",
        "  elif i.startswith('other'):\n",
        "    data[i] = data['license'].apply(lambda x: 1 if x == 'Other' else 0)    "
      ],
      "execution_count": 0,
      "outputs": []
    },
    {
      "metadata": {
        "id": "NjrG4j3m0GjO",
        "colab_type": "code",
        "colab": {
          "autoexec": {
            "startup": false,
            "wait_interval": 0
          }
        }
      },
      "cell_type": "code",
      "source": [
        "data['remain_license'] = (data[license_cols[:-1]].sum(axis=1) == 0).astype(int)"
      ],
      "execution_count": 0,
      "outputs": []
    },
    {
      "metadata": {
        "id": "aWpNk6wC0JfE",
        "colab_type": "code",
        "colab": {
          "autoexec": {
            "startup": false,
            "wait_interval": 0
          },
          "output_extras": [
            {
              "item_id": 1
            }
          ],
          "base_uri": "https://localhost:8080/",
          "height": 462
        },
        "outputId": "7ef7d08f-62b7-4528-b9f4-df0b2d0e336c",
        "executionInfo": {
          "status": "ok",
          "timestamp": 1519039598596,
          "user_tz": -330,
          "elapsed": 1229,
          "user": {
            "displayName": "Anmol Dua",
            "photoUrl": "https://lh3.googleusercontent.com/a/default-user=s128",
            "userId": "105983295350785523892"
          }
        }
      },
      "cell_type": "code",
      "source": [
        "data.head()"
      ],
      "execution_count": 38,
      "outputs": [
        {
          "output_type": "execute_result",
          "data": {
            "text/html": [
              "<div>\n",
              "<style scoped>\n",
              "    .dataframe tbody tr th:only-of-type {\n",
              "        vertical-align: middle;\n",
              "    }\n",
              "\n",
              "    .dataframe tbody tr th {\n",
              "        vertical-align: top;\n",
              "    }\n",
              "\n",
              "    .dataframe thead th {\n",
              "        text-align: right;\n",
              "    }\n",
              "</style>\n",
              "<table border=\"1\" class=\"dataframe\">\n",
              "  <thead>\n",
              "    <tr style=\"text-align: right;\">\n",
              "      <th></th>\n",
              "      <th>branches</th>\n",
              "      <th>commits</th>\n",
              "      <th>createdAt</th>\n",
              "      <th>description</th>\n",
              "      <th>diskUsage</th>\n",
              "      <th>followers</th>\n",
              "      <th>following</th>\n",
              "      <th>forkCount</th>\n",
              "      <th>gistComments</th>\n",
              "      <th>gistStar</th>\n",
              "      <th>gists</th>\n",
              "      <th>hasWikiEnabled</th>\n",
              "      <th>iClosedComments</th>\n",
              "      <th>iClosedParticipants</th>\n",
              "      <th>iOpenComments</th>\n",
              "      <th>iOpenParticipants</th>\n",
              "      <th>isArchived</th>\n",
              "      <th>issuesClosed</th>\n",
              "      <th>issuesOpen</th>\n",
              "      <th>license</th>\n",
              "      <th>location</th>\n",
              "      <th>login</th>\n",
              "      <th>members</th>\n",
              "      <th>organizations</th>\n",
              "      <th>prClosed</th>\n",
              "      <th>prClosedComments</th>\n",
              "      <th>prClosedCommits</th>\n",
              "      <th>prMerged</th>\n",
              "      <th>prMergedComments</th>\n",
              "      <th>prMergedCommits</th>\n",
              "      <th>prOpen</th>\n",
              "      <th>prOpenComments</th>\n",
              "      <th>prOpenCommits</th>\n",
              "      <th>primaryLanguage</th>\n",
              "      <th>pushedAt</th>\n",
              "      <th>readmeCharCount</th>\n",
              "      <th>readmeLinkCount</th>\n",
              "      <th>readmeSize</th>\n",
              "      <th>readmeWordCount</th>\n",
              "      <th>releases</th>\n",
              "      <th>reponame</th>\n",
              "      <th>repositories</th>\n",
              "      <th>siteAdmin</th>\n",
              "      <th>stars</th>\n",
              "      <th>subscribersCount</th>\n",
              "      <th>tags</th>\n",
              "      <th>type</th>\n",
              "      <th>updatedAt</th>\n",
              "      <th>websiteUrl</th>\n",
              "      <th>desWordCount</th>\n",
              "      <th>desCharCount</th>\n",
              "      <th>mit_license</th>\n",
              "      <th>nan_license</th>\n",
              "      <th>apache_license</th>\n",
              "      <th>other_license</th>\n",
              "      <th>remain_license</th>\n",
              "    </tr>\n",
              "  </thead>\n",
              "  <tbody>\n",
              "    <tr>\n",
              "      <th>0</th>\n",
              "      <td>1</td>\n",
              "      <td>700.0</td>\n",
              "      <td>394016</td>\n",
              "      <td>openScale is an open source app which support ...</td>\n",
              "      <td>132778</td>\n",
              "      <td>9.0</td>\n",
              "      <td>0.0</td>\n",
              "      <td>51</td>\n",
              "      <td>0.0</td>\n",
              "      <td>0.0</td>\n",
              "      <td>1.0</td>\n",
              "      <td>1</td>\n",
              "      <td>586</td>\n",
              "      <td>252</td>\n",
              "      <td>50</td>\n",
              "      <td>25</td>\n",
              "      <td>False</td>\n",
              "      <td>109</td>\n",
              "      <td>9</td>\n",
              "      <td>GNU General Public License v3.0</td>\n",
              "      <td>Germany</td>\n",
              "      <td>oliexdev</td>\n",
              "      <td>NaN</td>\n",
              "      <td>0.0</td>\n",
              "      <td>9</td>\n",
              "      <td>39</td>\n",
              "      <td>36</td>\n",
              "      <td>67</td>\n",
              "      <td>135</td>\n",
              "      <td>188</td>\n",
              "      <td>0</td>\n",
              "      <td>0</td>\n",
              "      <td>0</td>\n",
              "      <td>Java</td>\n",
              "      <td>421887</td>\n",
              "      <td>5406</td>\n",
              "      <td>18</td>\n",
              "      <td>5406</td>\n",
              "      <td>817</td>\n",
              "      <td>19</td>\n",
              "      <td>openScale</td>\n",
              "      <td>1</td>\n",
              "      <td>False</td>\n",
              "      <td>153</td>\n",
              "      <td>17</td>\n",
              "      <td>19</td>\n",
              "      <td>user</td>\n",
              "      <td>421845</td>\n",
              "      <td>0</td>\n",
              "      <td>18</td>\n",
              "      <td>104</td>\n",
              "      <td>0</td>\n",
              "      <td>0</td>\n",
              "      <td>0</td>\n",
              "      <td>0</td>\n",
              "      <td>1</td>\n",
              "    </tr>\n",
              "    <tr>\n",
              "      <th>1</th>\n",
              "      <td>1</td>\n",
              "      <td>141.0</td>\n",
              "      <td>394024</td>\n",
              "      <td>:book: Arquivos do livro Be MEAN</td>\n",
              "      <td>808</td>\n",
              "      <td>1280.0</td>\n",
              "      <td>16.0</td>\n",
              "      <td>52</td>\n",
              "      <td>9.0</td>\n",
              "      <td>31.0</td>\n",
              "      <td>164.0</td>\n",
              "      <td>1</td>\n",
              "      <td>3</td>\n",
              "      <td>9</td>\n",
              "      <td>4</td>\n",
              "      <td>19</td>\n",
              "      <td>False</td>\n",
              "      <td>4</td>\n",
              "      <td>10</td>\n",
              "      <td></td>\n",
              "      <td>NaN</td>\n",
              "      <td>ericdouglas</td>\n",
              "      <td>NaN</td>\n",
              "      <td>1.0</td>\n",
              "      <td>4</td>\n",
              "      <td>7</td>\n",
              "      <td>8</td>\n",
              "      <td>7</td>\n",
              "      <td>8</td>\n",
              "      <td>11</td>\n",
              "      <td>0</td>\n",
              "      <td>0</td>\n",
              "      <td>0</td>\n",
              "      <td>JavaScript</td>\n",
              "      <td>401636</td>\n",
              "      <td>912</td>\n",
              "      <td>9</td>\n",
              "      <td>917</td>\n",
              "      <td>134</td>\n",
              "      <td>0</td>\n",
              "      <td>be-MEAN-resources</td>\n",
              "      <td>113</td>\n",
              "      <td>False</td>\n",
              "      <td>154</td>\n",
              "      <td>42</td>\n",
              "      <td>0</td>\n",
              "      <td>user</td>\n",
              "      <td>421366</td>\n",
              "      <td>0</td>\n",
              "      <td>6</td>\n",
              "      <td>32</td>\n",
              "      <td>0</td>\n",
              "      <td>1</td>\n",
              "      <td>0</td>\n",
              "      <td>0</td>\n",
              "      <td>0</td>\n",
              "    </tr>\n",
              "    <tr>\n",
              "      <th>2</th>\n",
              "      <td>1</td>\n",
              "      <td>95.0</td>\n",
              "      <td>394012</td>\n",
              "      <td>Automated message queue orchestration for scal...</td>\n",
              "      <td>3742</td>\n",
              "      <td>404.0</td>\n",
              "      <td>44.0</td>\n",
              "      <td>29</td>\n",
              "      <td>4.0</td>\n",
              "      <td>7.0</td>\n",
              "      <td>92.0</td>\n",
              "      <td>1</td>\n",
              "      <td>2</td>\n",
              "      <td>4</td>\n",
              "      <td>13</td>\n",
              "      <td>6</td>\n",
              "      <td>False</td>\n",
              "      <td>2</td>\n",
              "      <td>4</td>\n",
              "      <td>Apache License 2.0</td>\n",
              "      <td>Podunk, Iowa</td>\n",
              "      <td>tylertreat</td>\n",
              "      <td>NaN</td>\n",
              "      <td>3.0</td>\n",
              "      <td>0</td>\n",
              "      <td>0</td>\n",
              "      <td>0</td>\n",
              "      <td>2</td>\n",
              "      <td>0</td>\n",
              "      <td>7</td>\n",
              "      <td>1</td>\n",
              "      <td>0</td>\n",
              "      <td>29</td>\n",
              "      <td>Go</td>\n",
              "      <td>403769</td>\n",
              "      <td>5918</td>\n",
              "      <td>19</td>\n",
              "      <td>5918</td>\n",
              "      <td>882</td>\n",
              "      <td>0</td>\n",
              "      <td>Flotilla</td>\n",
              "      <td>125</td>\n",
              "      <td>False</td>\n",
              "      <td>190</td>\n",
              "      <td>14</td>\n",
              "      <td>0</td>\n",
              "      <td>user</td>\n",
              "      <td>421538</td>\n",
              "      <td>1</td>\n",
              "      <td>7</td>\n",
              "      <td>65</td>\n",
              "      <td>0</td>\n",
              "      <td>0</td>\n",
              "      <td>1</td>\n",
              "      <td>0</td>\n",
              "      <td>0</td>\n",
              "    </tr>\n",
              "    <tr>\n",
              "      <th>3</th>\n",
              "      <td>1</td>\n",
              "      <td>100.0</td>\n",
              "      <td>394027</td>\n",
              "      <td>node.js interface to the Google word2vec tool</td>\n",
              "      <td>2260</td>\n",
              "      <td>248.0</td>\n",
              "      <td>713.0</td>\n",
              "      <td>23</td>\n",
              "      <td>0.0</td>\n",
              "      <td>0.0</td>\n",
              "      <td>33.0</td>\n",
              "      <td>1</td>\n",
              "      <td>25</td>\n",
              "      <td>21</td>\n",
              "      <td>33</td>\n",
              "      <td>12</td>\n",
              "      <td>False</td>\n",
              "      <td>10</td>\n",
              "      <td>5</td>\n",
              "      <td>Apache License 2.0</td>\n",
              "      <td>Pittsburgh, PA</td>\n",
              "      <td>Planeshifter</td>\n",
              "      <td>NaN</td>\n",
              "      <td>2.0</td>\n",
              "      <td>0</td>\n",
              "      <td>0</td>\n",
              "      <td>0</td>\n",
              "      <td>2</td>\n",
              "      <td>8</td>\n",
              "      <td>3</td>\n",
              "      <td>0</td>\n",
              "      <td>0</td>\n",
              "      <td>0</td>\n",
              "      <td>C</td>\n",
              "      <td>417782</td>\n",
              "      <td>12409</td>\n",
              "      <td>12</td>\n",
              "      <td>12409</td>\n",
              "      <td>1640</td>\n",
              "      <td>0</td>\n",
              "      <td>node-word2vec</td>\n",
              "      <td>136</td>\n",
              "      <td>False</td>\n",
              "      <td>211</td>\n",
              "      <td>12</td>\n",
              "      <td>2</td>\n",
              "      <td>user</td>\n",
              "      <td>421622</td>\n",
              "      <td>1</td>\n",
              "      <td>7</td>\n",
              "      <td>45</td>\n",
              "      <td>0</td>\n",
              "      <td>0</td>\n",
              "      <td>1</td>\n",
              "      <td>0</td>\n",
              "      <td>0</td>\n",
              "    </tr>\n",
              "    <tr>\n",
              "      <th>4</th>\n",
              "      <td>3</td>\n",
              "      <td>96.0</td>\n",
              "      <td>394018</td>\n",
              "      <td>Webcam component</td>\n",
              "      <td>131</td>\n",
              "      <td>22.0</td>\n",
              "      <td>39.0</td>\n",
              "      <td>91</td>\n",
              "      <td>0.0</td>\n",
              "      <td>2.0</td>\n",
              "      <td>8.0</td>\n",
              "      <td>1</td>\n",
              "      <td>45</td>\n",
              "      <td>48</td>\n",
              "      <td>27</td>\n",
              "      <td>38</td>\n",
              "      <td>False</td>\n",
              "      <td>19</td>\n",
              "      <td>20</td>\n",
              "      <td></td>\n",
              "      <td>Southampton, England</td>\n",
              "      <td>mozmorris</td>\n",
              "      <td>NaN</td>\n",
              "      <td>0.0</td>\n",
              "      <td>5</td>\n",
              "      <td>10</td>\n",
              "      <td>58</td>\n",
              "      <td>21</td>\n",
              "      <td>13</td>\n",
              "      <td>26</td>\n",
              "      <td>7</td>\n",
              "      <td>19</td>\n",
              "      <td>23</td>\n",
              "      <td>JavaScript</td>\n",
              "      <td>421098</td>\n",
              "      <td>2014</td>\n",
              "      <td>2</td>\n",
              "      <td>2014</td>\n",
              "      <td>210</td>\n",
              "      <td>0</td>\n",
              "      <td>react-webcam</td>\n",
              "      <td>43</td>\n",
              "      <td>False</td>\n",
              "      <td>218</td>\n",
              "      <td>13</td>\n",
              "      <td>2</td>\n",
              "      <td>user</td>\n",
              "      <td>421836</td>\n",
              "      <td>1</td>\n",
              "      <td>2</td>\n",
              "      <td>16</td>\n",
              "      <td>0</td>\n",
              "      <td>1</td>\n",
              "      <td>0</td>\n",
              "      <td>0</td>\n",
              "      <td>0</td>\n",
              "    </tr>\n",
              "  </tbody>\n",
              "</table>\n",
              "</div>"
            ],
            "text/plain": [
              "   branches  commits  createdAt  \\\n",
              "0         1    700.0     394016   \n",
              "1         1    141.0     394024   \n",
              "2         1     95.0     394012   \n",
              "3         1    100.0     394027   \n",
              "4         3     96.0     394018   \n",
              "\n",
              "                                         description  diskUsage  followers  \\\n",
              "0  openScale is an open source app which support ...     132778        9.0   \n",
              "1                   :book: Arquivos do livro Be MEAN        808     1280.0   \n",
              "2  Automated message queue orchestration for scal...       3742      404.0   \n",
              "3      node.js interface to the Google word2vec tool       2260      248.0   \n",
              "4                                   Webcam component        131       22.0   \n",
              "\n",
              "   following  forkCount  gistComments  gistStar  gists  hasWikiEnabled  \\\n",
              "0        0.0         51           0.0       0.0    1.0               1   \n",
              "1       16.0         52           9.0      31.0  164.0               1   \n",
              "2       44.0         29           4.0       7.0   92.0               1   \n",
              "3      713.0         23           0.0       0.0   33.0               1   \n",
              "4       39.0         91           0.0       2.0    8.0               1   \n",
              "\n",
              "   iClosedComments  iClosedParticipants  iOpenComments  iOpenParticipants  \\\n",
              "0              586                  252             50                 25   \n",
              "1                3                    9              4                 19   \n",
              "2                2                    4             13                  6   \n",
              "3               25                   21             33                 12   \n",
              "4               45                   48             27                 38   \n",
              "\n",
              "   isArchived  issuesClosed  issuesOpen                          license  \\\n",
              "0       False           109           9  GNU General Public License v3.0   \n",
              "1       False             4          10                                    \n",
              "2       False             2           4               Apache License 2.0   \n",
              "3       False            10           5               Apache License 2.0   \n",
              "4       False            19          20                                    \n",
              "\n",
              "               location         login  members  organizations  prClosed  \\\n",
              "0               Germany      oliexdev      NaN            0.0         9   \n",
              "1                   NaN   ericdouglas      NaN            1.0         4   \n",
              "2          Podunk, Iowa    tylertreat      NaN            3.0         0   \n",
              "3        Pittsburgh, PA  Planeshifter      NaN            2.0         0   \n",
              "4  Southampton, England     mozmorris      NaN            0.0         5   \n",
              "\n",
              "   prClosedComments  prClosedCommits  prMerged  prMergedComments  \\\n",
              "0                39               36        67               135   \n",
              "1                 7                8         7                 8   \n",
              "2                 0                0         2                 0   \n",
              "3                 0                0         2                 8   \n",
              "4                10               58        21                13   \n",
              "\n",
              "   prMergedCommits  prOpen  prOpenComments  prOpenCommits primaryLanguage  \\\n",
              "0              188       0               0              0            Java   \n",
              "1               11       0               0              0      JavaScript   \n",
              "2                7       1               0             29              Go   \n",
              "3                3       0               0              0               C   \n",
              "4               26       7              19             23      JavaScript   \n",
              "\n",
              "   pushedAt  readmeCharCount  readmeLinkCount  readmeSize  readmeWordCount  \\\n",
              "0    421887             5406               18        5406              817   \n",
              "1    401636              912                9         917              134   \n",
              "2    403769             5918               19        5918              882   \n",
              "3    417782            12409               12       12409             1640   \n",
              "4    421098             2014                2        2014              210   \n",
              "\n",
              "   releases           reponame  repositories  siteAdmin  stars  \\\n",
              "0        19          openScale             1      False    153   \n",
              "1         0  be-MEAN-resources           113      False    154   \n",
              "2         0           Flotilla           125      False    190   \n",
              "3         0      node-word2vec           136      False    211   \n",
              "4         0       react-webcam            43      False    218   \n",
              "\n",
              "   subscribersCount  tags  type  updatedAt  websiteUrl  desWordCount  \\\n",
              "0                17    19  user     421845           0            18   \n",
              "1                42     0  user     421366           0             6   \n",
              "2                14     0  user     421538           1             7   \n",
              "3                12     2  user     421622           1             7   \n",
              "4                13     2  user     421836           1             2   \n",
              "\n",
              "   desCharCount  mit_license  nan_license  apache_license  other_license  \\\n",
              "0           104            0            0               0              0   \n",
              "1            32            0            1               0              0   \n",
              "2            65            0            0               1              0   \n",
              "3            45            0            0               1              0   \n",
              "4            16            0            1               0              0   \n",
              "\n",
              "   remain_license  \n",
              "0               1  \n",
              "1               0  \n",
              "2               0  \n",
              "3               0  \n",
              "4               0  "
            ]
          },
          "metadata": {
            "tags": []
          },
          "execution_count": 38
        }
      ]
    },
    {
      "metadata": {
        "id": "siG_RGje0QrK",
        "colab_type": "text"
      },
      "cell_type": "markdown",
      "source": [
        "## Primary Language to OneHotEncoding"
      ]
    },
    {
      "metadata": {
        "id": "0q9XLswR0VtE",
        "colab_type": "code",
        "colab": {
          "autoexec": {
            "startup": false,
            "wait_interval": 0
          },
          "output_extras": [
            {
              "item_id": 1
            }
          ],
          "base_uri": "https://localhost:8080/",
          "height": 34
        },
        "outputId": "ecf286c0-f589-4f65-cece-274cacafa360",
        "executionInfo": {
          "status": "ok",
          "timestamp": 1519039647198,
          "user_tz": -330,
          "elapsed": 951,
          "user": {
            "displayName": "Anmol Dua",
            "photoUrl": "https://lh3.googleusercontent.com/a/default-user=s128",
            "userId": "105983295350785523892"
          }
        }
      },
      "cell_type": "code",
      "source": [
        "data.primaryLanguage.isnull().sum()"
      ],
      "execution_count": 39,
      "outputs": [
        {
          "output_type": "execute_result",
          "data": {
            "text/plain": [
              "5858"
            ]
          },
          "metadata": {
            "tags": []
          },
          "execution_count": 39
        }
      ]
    },
    {
      "metadata": {
        "id": "M52Db_8Q0Ymz",
        "colab_type": "code",
        "colab": {
          "autoexec": {
            "startup": false,
            "wait_interval": 0
          },
          "output_extras": [
            {
              "item_id": 1
            },
            {
              "item_id": 2
            }
          ],
          "base_uri": "https://localhost:8080/",
          "height": 459
        },
        "outputId": "de9b7e12-de82-43b0-dc8f-7abc03438bba",
        "executionInfo": {
          "status": "ok",
          "timestamp": 1519039658485,
          "user_tz": -330,
          "elapsed": 1323,
          "user": {
            "displayName": "Anmol Dua",
            "photoUrl": "https://lh3.googleusercontent.com/a/default-user=s128",
            "userId": "105983295350785523892"
          }
        }
      },
      "cell_type": "code",
      "source": [
        "data.primaryLanguage.value_counts()[:20].plot.bar()"
      ],
      "execution_count": 40,
      "outputs": [
        {
          "output_type": "execute_result",
          "data": {
            "text/plain": [
              "<matplotlib.axes._subplots.AxesSubplot at 0x7f660cc6b2d0>"
            ]
          },
          "metadata": {
            "tags": []
          },
          "execution_count": 40
        },
        {
          "output_type": "display_data",
          "data": {
            "image/png": "[encoded data removed]",
            "text/plain": [
              "<matplotlib.figure.Figure at 0x7f660dd7ce50>"
            ]
          },
          "metadata": {
            "tags": []
          }
        }
      ]
    },
    {
      "metadata": {
        "id": "SaMjWhAP0bRe",
        "colab_type": "code",
        "colab": {
          "autoexec": {
            "startup": false,
            "wait_interval": 0
          }
        }
      },
      "cell_type": "code",
      "source": [
        "lang_cols = np.array(data.primaryLanguage.value_counts()[:6].index)"
      ],
      "execution_count": 0,
      "outputs": []
    },
    {
      "metadata": {
        "id": "TYgjXclR0eZM",
        "colab_type": "code",
        "colab": {
          "autoexec": {
            "startup": false,
            "wait_interval": 0
          }
        }
      },
      "cell_type": "code",
      "source": [
        "data[lang_cols[0]] = data.primaryLanguage.apply(lambda x : int(x == 'JavaScript'))                  \n",
        "data[lang_cols[1]] = data.primaryLanguage.apply(lambda x : int(x == 'Python'))                  \n",
        "data[lang_cols[2]] = data.primaryLanguage.apply(lambda x : int(x == 'Java'))                  \n",
        "data[lang_cols[3]] = data.primaryLanguage.apply(lambda x : int(x == 'Objective-C'))                  \n",
        "data[lang_cols[4]] = data.primaryLanguage.apply(lambda x : int(x == 'Ruby'))                  \n",
        "data[lang_cols[5]] = data.primaryLanguage.apply(lambda x : int(x == 'PHP'))\n",
        "data['other_language'] = (data[lang_cols].sum(axis=1) == 0).astype(int)"
      ],
      "execution_count": 0,
      "outputs": []
    },
    {
      "metadata": {
        "id": "7O98DOOY0hQ6",
        "colab_type": "code",
        "colab": {
          "autoexec": {
            "startup": false,
            "wait_interval": 0
          },
          "output_extras": [
            {
              "item_id": 1
            }
          ],
          "base_uri": "https://localhost:8080/",
          "height": 349
        },
        "outputId": "f073fe61-28f0-46bb-f930-84cfc1e34a95",
        "executionInfo": {
          "status": "ok",
          "timestamp": 1519039699045,
          "user_tz": -330,
          "elapsed": 1022,
          "user": {
            "displayName": "Anmol Dua",
            "photoUrl": "https://lh3.googleusercontent.com/a/default-user=s128",
            "userId": "105983295350785523892"
          }
        }
      },
      "cell_type": "code",
      "source": [
        "data.head(3)"
      ],
      "execution_count": 43,
      "outputs": [
        {
          "output_type": "execute_result",
          "data": {
            "text/html": [
              "<div>\n",
              "<style scoped>\n",
              "    .dataframe tbody tr th:only-of-type {\n",
              "        vertical-align: middle;\n",
              "    }\n",
              "\n",
              "    .dataframe tbody tr th {\n",
              "        vertical-align: top;\n",
              "    }\n",
              "\n",
              "    .dataframe thead th {\n",
              "        text-align: right;\n",
              "    }\n",
              "</style>\n",
              "<table border=\"1\" class=\"dataframe\">\n",
              "  <thead>\n",
              "    <tr style=\"text-align: right;\">\n",
              "      <th></th>\n",
              "      <th>branches</th>\n",
              "      <th>commits</th>\n",
              "      <th>createdAt</th>\n",
              "      <th>description</th>\n",
              "      <th>diskUsage</th>\n",
              "      <th>followers</th>\n",
              "      <th>following</th>\n",
              "      <th>forkCount</th>\n",
              "      <th>gistComments</th>\n",
              "      <th>gistStar</th>\n",
              "      <th>gists</th>\n",
              "      <th>hasWikiEnabled</th>\n",
              "      <th>iClosedComments</th>\n",
              "      <th>iClosedParticipants</th>\n",
              "      <th>iOpenComments</th>\n",
              "      <th>iOpenParticipants</th>\n",
              "      <th>isArchived</th>\n",
              "      <th>issuesClosed</th>\n",
              "      <th>issuesOpen</th>\n",
              "      <th>license</th>\n",
              "      <th>location</th>\n",
              "      <th>login</th>\n",
              "      <th>members</th>\n",
              "      <th>organizations</th>\n",
              "      <th>prClosed</th>\n",
              "      <th>prClosedComments</th>\n",
              "      <th>prClosedCommits</th>\n",
              "      <th>prMerged</th>\n",
              "      <th>prMergedComments</th>\n",
              "      <th>prMergedCommits</th>\n",
              "      <th>prOpen</th>\n",
              "      <th>prOpenComments</th>\n",
              "      <th>prOpenCommits</th>\n",
              "      <th>primaryLanguage</th>\n",
              "      <th>pushedAt</th>\n",
              "      <th>readmeCharCount</th>\n",
              "      <th>readmeLinkCount</th>\n",
              "      <th>readmeSize</th>\n",
              "      <th>readmeWordCount</th>\n",
              "      <th>releases</th>\n",
              "      <th>reponame</th>\n",
              "      <th>repositories</th>\n",
              "      <th>siteAdmin</th>\n",
              "      <th>stars</th>\n",
              "      <th>subscribersCount</th>\n",
              "      <th>tags</th>\n",
              "      <th>type</th>\n",
              "      <th>updatedAt</th>\n",
              "      <th>websiteUrl</th>\n",
              "      <th>desWordCount</th>\n",
              "      <th>desCharCount</th>\n",
              "      <th>mit_license</th>\n",
              "      <th>nan_license</th>\n",
              "      <th>apache_license</th>\n",
              "      <th>other_license</th>\n",
              "      <th>remain_license</th>\n",
              "      <th>JavaScript</th>\n",
              "      <th>Python</th>\n",
              "      <th>Java</th>\n",
              "      <th>Objective-C</th>\n",
              "      <th>Ruby</th>\n",
              "      <th>PHP</th>\n",
              "      <th>other_language</th>\n",
              "    </tr>\n",
              "  </thead>\n",
              "  <tbody>\n",
              "    <tr>\n",
              "      <th>0</th>\n",
              "      <td>1</td>\n",
              "      <td>700.0</td>\n",
              "      <td>394016</td>\n",
              "      <td>openScale is an open source app which support ...</td>\n",
              "      <td>132778</td>\n",
              "      <td>9.0</td>\n",
              "      <td>0.0</td>\n",
              "      <td>51</td>\n",
              "      <td>0.0</td>\n",
              "      <td>0.0</td>\n",
              "      <td>1.0</td>\n",
              "      <td>1</td>\n",
              "      <td>586</td>\n",
              "      <td>252</td>\n",
              "      <td>50</td>\n",
              "      <td>25</td>\n",
              "      <td>False</td>\n",
              "      <td>109</td>\n",
              "      <td>9</td>\n",
              "      <td>GNU General Public License v3.0</td>\n",
              "      <td>Germany</td>\n",
              "      <td>oliexdev</td>\n",
              "      <td>NaN</td>\n",
              "      <td>0.0</td>\n",
              "      <td>9</td>\n",
              "      <td>39</td>\n",
              "      <td>36</td>\n",
              "      <td>67</td>\n",
              "      <td>135</td>\n",
              "      <td>188</td>\n",
              "      <td>0</td>\n",
              "      <td>0</td>\n",
              "      <td>0</td>\n",
              "      <td>Java</td>\n",
              "      <td>421887</td>\n",
              "      <td>5406</td>\n",
              "      <td>18</td>\n",
              "      <td>5406</td>\n",
              "      <td>817</td>\n",
              "      <td>19</td>\n",
              "      <td>openScale</td>\n",
              "      <td>1</td>\n",
              "      <td>False</td>\n",
              "      <td>153</td>\n",
              "      <td>17</td>\n",
              "      <td>19</td>\n",
              "      <td>user</td>\n",
              "      <td>421845</td>\n",
              "      <td>0</td>\n",
              "      <td>18</td>\n",
              "      <td>104</td>\n",
              "      <td>0</td>\n",
              "      <td>0</td>\n",
              "      <td>0</td>\n",
              "      <td>0</td>\n",
              "      <td>1</td>\n",
              "      <td>0</td>\n",
              "      <td>0</td>\n",
              "      <td>1</td>\n",
              "      <td>0</td>\n",
              "      <td>0</td>\n",
              "      <td>0</td>\n",
              "      <td>0</td>\n",
              "    </tr>\n",
              "    <tr>\n",
              "      <th>1</th>\n",
              "      <td>1</td>\n",
              "      <td>141.0</td>\n",
              "      <td>394024</td>\n",
              "      <td>:book: Arquivos do livro Be MEAN</td>\n",
              "      <td>808</td>\n",
              "      <td>1280.0</td>\n",
              "      <td>16.0</td>\n",
              "      <td>52</td>\n",
              "      <td>9.0</td>\n",
              "      <td>31.0</td>\n",
              "      <td>164.0</td>\n",
              "      <td>1</td>\n",
              "      <td>3</td>\n",
              "      <td>9</td>\n",
              "      <td>4</td>\n",
              "      <td>19</td>\n",
              "      <td>False</td>\n",
              "      <td>4</td>\n",
              "      <td>10</td>\n",
              "      <td></td>\n",
              "      <td>NaN</td>\n",
              "      <td>ericdouglas</td>\n",
              "      <td>NaN</td>\n",
              "      <td>1.0</td>\n",
              "      <td>4</td>\n",
              "      <td>7</td>\n",
              "      <td>8</td>\n",
              "      <td>7</td>\n",
              "      <td>8</td>\n",
              "      <td>11</td>\n",
              "      <td>0</td>\n",
              "      <td>0</td>\n",
              "      <td>0</td>\n",
              "      <td>JavaScript</td>\n",
              "      <td>401636</td>\n",
              "      <td>912</td>\n",
              "      <td>9</td>\n",
              "      <td>917</td>\n",
              "      <td>134</td>\n",
              "      <td>0</td>\n",
              "      <td>be-MEAN-resources</td>\n",
              "      <td>113</td>\n",
              "      <td>False</td>\n",
              "      <td>154</td>\n",
              "      <td>42</td>\n",
              "      <td>0</td>\n",
              "      <td>user</td>\n",
              "      <td>421366</td>\n",
              "      <td>0</td>\n",
              "      <td>6</td>\n",
              "      <td>32</td>\n",
              "      <td>0</td>\n",
              "      <td>1</td>\n",
              "      <td>0</td>\n",
              "      <td>0</td>\n",
              "      <td>0</td>\n",
              "      <td>1</td>\n",
              "      <td>0</td>\n",
              "      <td>0</td>\n",
              "      <td>0</td>\n",
              "      <td>0</td>\n",
              "      <td>0</td>\n",
              "      <td>0</td>\n",
              "    </tr>\n",
              "    <tr>\n",
              "      <th>2</th>\n",
              "      <td>1</td>\n",
              "      <td>95.0</td>\n",
              "      <td>394012</td>\n",
              "      <td>Automated message queue orchestration for scal...</td>\n",
              "      <td>3742</td>\n",
              "      <td>404.0</td>\n",
              "      <td>44.0</td>\n",
              "      <td>29</td>\n",
              "      <td>4.0</td>\n",
              "      <td>7.0</td>\n",
              "      <td>92.0</td>\n",
              "      <td>1</td>\n",
              "      <td>2</td>\n",
              "      <td>4</td>\n",
              "      <td>13</td>\n",
              "      <td>6</td>\n",
              "      <td>False</td>\n",
              "      <td>2</td>\n",
              "      <td>4</td>\n",
              "      <td>Apache License 2.0</td>\n",
              "      <td>Podunk, Iowa</td>\n",
              "      <td>tylertreat</td>\n",
              "      <td>NaN</td>\n",
              "      <td>3.0</td>\n",
              "      <td>0</td>\n",
              "      <td>0</td>\n",
              "      <td>0</td>\n",
              "      <td>2</td>\n",
              "      <td>0</td>\n",
              "      <td>7</td>\n",
              "      <td>1</td>\n",
              "      <td>0</td>\n",
              "      <td>29</td>\n",
              "      <td>Go</td>\n",
              "      <td>403769</td>\n",
              "      <td>5918</td>\n",
              "      <td>19</td>\n",
              "      <td>5918</td>\n",
              "      <td>882</td>\n",
              "      <td>0</td>\n",
              "      <td>Flotilla</td>\n",
              "      <td>125</td>\n",
              "      <td>False</td>\n",
              "      <td>190</td>\n",
              "      <td>14</td>\n",
              "      <td>0</td>\n",
              "      <td>user</td>\n",
              "      <td>421538</td>\n",
              "      <td>1</td>\n",
              "      <td>7</td>\n",
              "      <td>65</td>\n",
              "      <td>0</td>\n",
              "      <td>0</td>\n",
              "      <td>1</td>\n",
              "      <td>0</td>\n",
              "      <td>0</td>\n",
              "      <td>0</td>\n",
              "      <td>0</td>\n",
              "      <td>0</td>\n",
              "      <td>0</td>\n",
              "      <td>0</td>\n",
              "      <td>0</td>\n",
              "      <td>1</td>\n",
              "    </tr>\n",
              "  </tbody>\n",
              "</table>\n",
              "</div>"
            ],
            "text/plain": [
              "   branches  commits  createdAt  \\\n",
              "0         1    700.0     394016   \n",
              "1         1    141.0     394024   \n",
              "2         1     95.0     394012   \n",
              "\n",
              "                                         description  diskUsage  followers  \\\n",
              "0  openScale is an open source app which support ...     132778        9.0   \n",
              "1                   :book: Arquivos do livro Be MEAN        808     1280.0   \n",
              "2  Automated message queue orchestration for scal...       3742      404.0   \n",
              "\n",
              "   following  forkCount  gistComments  gistStar  gists  hasWikiEnabled  \\\n",
              "0        0.0         51           0.0       0.0    1.0               1   \n",
              "1       16.0         52           9.0      31.0  164.0               1   \n",
              "2       44.0         29           4.0       7.0   92.0               1   \n",
              "\n",
              "   iClosedComments  iClosedParticipants  iOpenComments  iOpenParticipants  \\\n",
              "0              586                  252             50                 25   \n",
              "1                3                    9              4                 19   \n",
              "2                2                    4             13                  6   \n",
              "\n",
              "   isArchived  issuesClosed  issuesOpen                          license  \\\n",
              "0       False           109           9  GNU General Public License v3.0   \n",
              "1       False             4          10                                    \n",
              "2       False             2           4               Apache License 2.0   \n",
              "\n",
              "       location        login  members  organizations  prClosed  \\\n",
              "0       Germany     oliexdev      NaN            0.0         9   \n",
              "1           NaN  ericdouglas      NaN            1.0         4   \n",
              "2  Podunk, Iowa   tylertreat      NaN            3.0         0   \n",
              "\n",
              "   prClosedComments  prClosedCommits  prMerged  prMergedComments  \\\n",
              "0                39               36        67               135   \n",
              "1                 7                8         7                 8   \n",
              "2                 0                0         2                 0   \n",
              "\n",
              "   prMergedCommits  prOpen  prOpenComments  prOpenCommits primaryLanguage  \\\n",
              "0              188       0               0              0            Java   \n",
              "1               11       0               0              0      JavaScript   \n",
              "2                7       1               0             29              Go   \n",
              "\n",
              "   pushedAt  readmeCharCount  readmeLinkCount  readmeSize  readmeWordCount  \\\n",
              "0    421887             5406               18        5406              817   \n",
              "1    401636              912                9         917              134   \n",
              "2    403769             5918               19        5918              882   \n",
              "\n",
              "   releases           reponame  repositories  siteAdmin  stars  \\\n",
              "0        19          openScale             1      False    153   \n",
              "1         0  be-MEAN-resources           113      False    154   \n",
              "2         0           Flotilla           125      False    190   \n",
              "\n",
              "   subscribersCount  tags  type  updatedAt  websiteUrl  desWordCount  \\\n",
              "0                17    19  user     421845           0            18   \n",
              "1                42     0  user     421366           0             6   \n",
              "2                14     0  user     421538           1             7   \n",
              "\n",
              "   desCharCount  mit_license  nan_license  apache_license  other_license  \\\n",
              "0           104            0            0               0              0   \n",
              "1            32            0            1               0              0   \n",
              "2            65            0            0               1              0   \n",
              "\n",
              "   remain_license  JavaScript  Python  Java  Objective-C  Ruby  PHP  \\\n",
              "0               1           0       0     1            0     0    0   \n",
              "1               0           1       0     0            0     0    0   \n",
              "2               0           0       0     0            0     0    0   \n",
              "\n",
              "   other_language  \n",
              "0               0  \n",
              "1               0  \n",
              "2               1  "
            ]
          },
          "metadata": {
            "tags": []
          },
          "execution_count": 43
        }
      ]
    },
    {
      "metadata": {
        "id": "Ze3bnVNv0pSV",
        "colab_type": "text"
      },
      "cell_type": "markdown",
      "source": [
        "## type to binary form 1(User) / 0(Org)"
      ]
    },
    {
      "metadata": {
        "id": "USw5guSe0v47",
        "colab_type": "code",
        "colab": {
          "autoexec": {
            "startup": false,
            "wait_interval": 0
          }
        }
      },
      "cell_type": "code",
      "source": [
        "newDf = data"
      ],
      "execution_count": 0,
      "outputs": []
    },
    {
      "metadata": {
        "id": "RzE_jO6S0zEN",
        "colab_type": "code",
        "colab": {
          "autoexec": {
            "startup": false,
            "wait_interval": 0
          }
        }
      },
      "cell_type": "code",
      "source": [
        "data['type'] = data.type.apply(lambda x : 1 if x == 'user' else 0)"
      ],
      "execution_count": 0,
      "outputs": []
    },
    {
      "metadata": {
        "id": "CXLzSF6A01dn",
        "colab_type": "code",
        "colab": {
          "autoexec": {
            "startup": false,
            "wait_interval": 0
          },
          "output_extras": [
            {
              "item_id": 1
            }
          ],
          "base_uri": "https://localhost:8080/",
          "height": 34
        },
        "outputId": "0ba330e1-bd22-496d-95bf-9064b82059b2",
        "executionInfo": {
          "status": "ok",
          "timestamp": 1519039775631,
          "user_tz": -330,
          "elapsed": 981,
          "user": {
            "displayName": "Anmol Dua",
            "photoUrl": "https://lh3.googleusercontent.com/a/default-user=s128",
            "userId": "105983295350785523892"
          }
        }
      },
      "cell_type": "code",
      "source": [
        "data.members.isnull().sum()"
      ],
      "execution_count": 46,
      "outputs": [
        {
          "output_type": "execute_result",
          "data": {
            "text/plain": [
              "71601"
            ]
          },
          "metadata": {
            "tags": []
          },
          "execution_count": 46
        }
      ]
    },
    {
      "metadata": {
        "id": "NeSxmvPS039E",
        "colab_type": "code",
        "colab": {
          "autoexec": {
            "startup": false,
            "wait_interval": 0
          },
          "output_extras": [
            {
              "item_id": 1
            }
          ],
          "base_uri": "https://localhost:8080/",
          "height": 68
        },
        "outputId": "20658105-6d4d-4fae-bfce-a763f36db37e",
        "executionInfo": {
          "status": "ok",
          "timestamp": 1519039785663,
          "user_tz": -330,
          "elapsed": 988,
          "user": {
            "displayName": "Anmol Dua",
            "photoUrl": "https://lh3.googleusercontent.com/a/default-user=s128",
            "userId": "105983295350785523892"
          }
        }
      },
      "cell_type": "code",
      "source": [
        "data.type.value_counts()"
      ],
      "execution_count": 47,
      "outputs": [
        {
          "output_type": "execute_result",
          "data": {
            "text/plain": [
              "1    71601\n",
              "0    36166\n",
              "Name: type, dtype: int64"
            ]
          },
          "metadata": {
            "tags": []
          },
          "execution_count": 47
        }
      ]
    },
    {
      "metadata": {
        "id": "nLIS89Fw06Zy",
        "colab_type": "code",
        "colab": {
          "autoexec": {
            "startup": false,
            "wait_interval": 0
          },
          "output_extras": [
            {
              "item_id": 1
            }
          ],
          "base_uri": "https://localhost:8080/",
          "height": 349
        },
        "outputId": "2b57b0e0-b08a-4722-b876-73134b0b3abd",
        "executionInfo": {
          "status": "ok",
          "timestamp": 1519039799080,
          "user_tz": -330,
          "elapsed": 982,
          "user": {
            "displayName": "Anmol Dua",
            "photoUrl": "https://lh3.googleusercontent.com/a/default-user=s128",
            "userId": "105983295350785523892"
          }
        }
      },
      "cell_type": "code",
      "source": [
        "data.head(3)"
      ],
      "execution_count": 48,
      "outputs": [
        {
          "output_type": "execute_result",
          "data": {
            "text/html": [
              "<div>\n",
              "<style scoped>\n",
              "    .dataframe tbody tr th:only-of-type {\n",
              "        vertical-align: middle;\n",
              "    }\n",
              "\n",
              "    .dataframe tbody tr th {\n",
              "        vertical-align: top;\n",
              "    }\n",
              "\n",
              "    .dataframe thead th {\n",
              "        text-align: right;\n",
              "    }\n",
              "</style>\n",
              "<table border=\"1\" class=\"dataframe\">\n",
              "  <thead>\n",
              "    <tr style=\"text-align: right;\">\n",
              "      <th></th>\n",
              "      <th>branches</th>\n",
              "      <th>commits</th>\n",
              "      <th>createdAt</th>\n",
              "      <th>description</th>\n",
              "      <th>diskUsage</th>\n",
              "      <th>followers</th>\n",
              "      <th>following</th>\n",
              "      <th>forkCount</th>\n",
              "      <th>gistComments</th>\n",
              "      <th>gistStar</th>\n",
              "      <th>gists</th>\n",
              "      <th>hasWikiEnabled</th>\n",
              "      <th>iClosedComments</th>\n",
              "      <th>iClosedParticipants</th>\n",
              "      <th>iOpenComments</th>\n",
              "      <th>iOpenParticipants</th>\n",
              "      <th>isArchived</th>\n",
              "      <th>issuesClosed</th>\n",
              "      <th>issuesOpen</th>\n",
              "      <th>license</th>\n",
              "      <th>location</th>\n",
              "      <th>login</th>\n",
              "      <th>members</th>\n",
              "      <th>organizations</th>\n",
              "      <th>prClosed</th>\n",
              "      <th>prClosedComments</th>\n",
              "      <th>prClosedCommits</th>\n",
              "      <th>prMerged</th>\n",
              "      <th>prMergedComments</th>\n",
              "      <th>prMergedCommits</th>\n",
              "      <th>prOpen</th>\n",
              "      <th>prOpenComments</th>\n",
              "      <th>prOpenCommits</th>\n",
              "      <th>primaryLanguage</th>\n",
              "      <th>pushedAt</th>\n",
              "      <th>readmeCharCount</th>\n",
              "      <th>readmeLinkCount</th>\n",
              "      <th>readmeSize</th>\n",
              "      <th>readmeWordCount</th>\n",
              "      <th>releases</th>\n",
              "      <th>reponame</th>\n",
              "      <th>repositories</th>\n",
              "      <th>siteAdmin</th>\n",
              "      <th>stars</th>\n",
              "      <th>subscribersCount</th>\n",
              "      <th>tags</th>\n",
              "      <th>type</th>\n",
              "      <th>updatedAt</th>\n",
              "      <th>websiteUrl</th>\n",
              "      <th>desWordCount</th>\n",
              "      <th>desCharCount</th>\n",
              "      <th>mit_license</th>\n",
              "      <th>nan_license</th>\n",
              "      <th>apache_license</th>\n",
              "      <th>other_license</th>\n",
              "      <th>remain_license</th>\n",
              "      <th>JavaScript</th>\n",
              "      <th>Python</th>\n",
              "      <th>Java</th>\n",
              "      <th>Objective-C</th>\n",
              "      <th>Ruby</th>\n",
              "      <th>PHP</th>\n",
              "      <th>other_language</th>\n",
              "    </tr>\n",
              "  </thead>\n",
              "  <tbody>\n",
              "    <tr>\n",
              "      <th>0</th>\n",
              "      <td>1</td>\n",
              "      <td>700.0</td>\n",
              "      <td>394016</td>\n",
              "      <td>openScale is an open source app which support ...</td>\n",
              "      <td>132778</td>\n",
              "      <td>9.0</td>\n",
              "      <td>0.0</td>\n",
              "      <td>51</td>\n",
              "      <td>0.0</td>\n",
              "      <td>0.0</td>\n",
              "      <td>1.0</td>\n",
              "      <td>1</td>\n",
              "      <td>586</td>\n",
              "      <td>252</td>\n",
              "      <td>50</td>\n",
              "      <td>25</td>\n",
              "      <td>False</td>\n",
              "      <td>109</td>\n",
              "      <td>9</td>\n",
              "      <td>GNU General Public License v3.0</td>\n",
              "      <td>Germany</td>\n",
              "      <td>oliexdev</td>\n",
              "      <td>NaN</td>\n",
              "      <td>0.0</td>\n",
              "      <td>9</td>\n",
              "      <td>39</td>\n",
              "      <td>36</td>\n",
              "      <td>67</td>\n",
              "      <td>135</td>\n",
              "      <td>188</td>\n",
              "      <td>0</td>\n",
              "      <td>0</td>\n",
              "      <td>0</td>\n",
              "      <td>Java</td>\n",
              "      <td>421887</td>\n",
              "      <td>5406</td>\n",
              "      <td>18</td>\n",
              "      <td>5406</td>\n",
              "      <td>817</td>\n",
              "      <td>19</td>\n",
              "      <td>openScale</td>\n",
              "      <td>1</td>\n",
              "      <td>False</td>\n",
              "      <td>153</td>\n",
              "      <td>17</td>\n",
              "      <td>19</td>\n",
              "      <td>1</td>\n",
              "      <td>421845</td>\n",
              "      <td>0</td>\n",
              "      <td>18</td>\n",
              "      <td>104</td>\n",
              "      <td>0</td>\n",
              "      <td>0</td>\n",
              "      <td>0</td>\n",
              "      <td>0</td>\n",
              "      <td>1</td>\n",
              "      <td>0</td>\n",
              "      <td>0</td>\n",
              "      <td>1</td>\n",
              "      <td>0</td>\n",
              "      <td>0</td>\n",
              "      <td>0</td>\n",
              "      <td>0</td>\n",
              "    </tr>\n",
              "    <tr>\n",
              "      <th>1</th>\n",
              "      <td>1</td>\n",
              "      <td>141.0</td>\n",
              "      <td>394024</td>\n",
              "      <td>:book: Arquivos do livro Be MEAN</td>\n",
              "      <td>808</td>\n",
              "      <td>1280.0</td>\n",
              "      <td>16.0</td>\n",
              "      <td>52</td>\n",
              "      <td>9.0</td>\n",
              "      <td>31.0</td>\n",
              "      <td>164.0</td>\n",
              "      <td>1</td>\n",
              "      <td>3</td>\n",
              "      <td>9</td>\n",
              "      <td>4</td>\n",
              "      <td>19</td>\n",
              "      <td>False</td>\n",
              "      <td>4</td>\n",
              "      <td>10</td>\n",
              "      <td></td>\n",
              "      <td>NaN</td>\n",
              "      <td>ericdouglas</td>\n",
              "      <td>NaN</td>\n",
              "      <td>1.0</td>\n",
              "      <td>4</td>\n",
              "      <td>7</td>\n",
              "      <td>8</td>\n",
              "      <td>7</td>\n",
              "      <td>8</td>\n",
              "      <td>11</td>\n",
              "      <td>0</td>\n",
              "      <td>0</td>\n",
              "      <td>0</td>\n",
              "      <td>JavaScript</td>\n",
              "      <td>401636</td>\n",
              "      <td>912</td>\n",
              "      <td>9</td>\n",
              "      <td>917</td>\n",
              "      <td>134</td>\n",
              "      <td>0</td>\n",
              "      <td>be-MEAN-resources</td>\n",
              "      <td>113</td>\n",
              "      <td>False</td>\n",
              "      <td>154</td>\n",
              "      <td>42</td>\n",
              "      <td>0</td>\n",
              "      <td>1</td>\n",
              "      <td>421366</td>\n",
              "      <td>0</td>\n",
              "      <td>6</td>\n",
              "      <td>32</td>\n",
              "      <td>0</td>\n",
              "      <td>1</td>\n",
              "      <td>0</td>\n",
              "      <td>0</td>\n",
              "      <td>0</td>\n",
              "      <td>1</td>\n",
              "      <td>0</td>\n",
              "      <td>0</td>\n",
              "      <td>0</td>\n",
              "      <td>0</td>\n",
              "      <td>0</td>\n",
              "      <td>0</td>\n",
              "    </tr>\n",
              "    <tr>\n",
              "      <th>2</th>\n",
              "      <td>1</td>\n",
              "      <td>95.0</td>\n",
              "      <td>394012</td>\n",
              "      <td>Automated message queue orchestration for scal...</td>\n",
              "      <td>3742</td>\n",
              "      <td>404.0</td>\n",
              "      <td>44.0</td>\n",
              "      <td>29</td>\n",
              "      <td>4.0</td>\n",
              "      <td>7.0</td>\n",
              "      <td>92.0</td>\n",
              "      <td>1</td>\n",
              "      <td>2</td>\n",
              "      <td>4</td>\n",
              "      <td>13</td>\n",
              "      <td>6</td>\n",
              "      <td>False</td>\n",
              "      <td>2</td>\n",
              "      <td>4</td>\n",
              "      <td>Apache License 2.0</td>\n",
              "      <td>Podunk, Iowa</td>\n",
              "      <td>tylertreat</td>\n",
              "      <td>NaN</td>\n",
              "      <td>3.0</td>\n",
              "      <td>0</td>\n",
              "      <td>0</td>\n",
              "      <td>0</td>\n",
              "      <td>2</td>\n",
              "      <td>0</td>\n",
              "      <td>7</td>\n",
              "      <td>1</td>\n",
              "      <td>0</td>\n",
              "      <td>29</td>\n",
              "      <td>Go</td>\n",
              "      <td>403769</td>\n",
              "      <td>5918</td>\n",
              "      <td>19</td>\n",
              "      <td>5918</td>\n",
              "      <td>882</td>\n",
              "      <td>0</td>\n",
              "      <td>Flotilla</td>\n",
              "      <td>125</td>\n",
              "      <td>False</td>\n",
              "      <td>190</td>\n",
              "      <td>14</td>\n",
              "      <td>0</td>\n",
              "      <td>1</td>\n",
              "      <td>421538</td>\n",
              "      <td>1</td>\n",
              "      <td>7</td>\n",
              "      <td>65</td>\n",
              "      <td>0</td>\n",
              "      <td>0</td>\n",
              "      <td>1</td>\n",
              "      <td>0</td>\n",
              "      <td>0</td>\n",
              "      <td>0</td>\n",
              "      <td>0</td>\n",
              "      <td>0</td>\n",
              "      <td>0</td>\n",
              "      <td>0</td>\n",
              "      <td>0</td>\n",
              "      <td>1</td>\n",
              "    </tr>\n",
              "  </tbody>\n",
              "</table>\n",
              "</div>"
            ],
            "text/plain": [
              "   branches  commits  createdAt  \\\n",
              "0         1    700.0     394016   \n",
              "1         1    141.0     394024   \n",
              "2         1     95.0     394012   \n",
              "\n",
              "                                         description  diskUsage  followers  \\\n",
              "0  openScale is an open source app which support ...     132778        9.0   \n",
              "1                   :book: Arquivos do livro Be MEAN        808     1280.0   \n",
              "2  Automated message queue orchestration for scal...       3742      404.0   \n",
              "\n",
              "   following  forkCount  gistComments  gistStar  gists  hasWikiEnabled  \\\n",
              "0        0.0         51           0.0       0.0    1.0               1   \n",
              "1       16.0         52           9.0      31.0  164.0               1   \n",
              "2       44.0         29           4.0       7.0   92.0               1   \n",
              "\n",
              "   iClosedComments  iClosedParticipants  iOpenComments  iOpenParticipants  \\\n",
              "0              586                  252             50                 25   \n",
              "1                3                    9              4                 19   \n",
              "2                2                    4             13                  6   \n",
              "\n",
              "   isArchived  issuesClosed  issuesOpen                          license  \\\n",
              "0       False           109           9  GNU General Public License v3.0   \n",
              "1       False             4          10                                    \n",
              "2       False             2           4               Apache License 2.0   \n",
              "\n",
              "       location        login  members  organizations  prClosed  \\\n",
              "0       Germany     oliexdev      NaN            0.0         9   \n",
              "1           NaN  ericdouglas      NaN            1.0         4   \n",
              "2  Podunk, Iowa   tylertreat      NaN            3.0         0   \n",
              "\n",
              "   prClosedComments  prClosedCommits  prMerged  prMergedComments  \\\n",
              "0                39               36        67               135   \n",
              "1                 7                8         7                 8   \n",
              "2                 0                0         2                 0   \n",
              "\n",
              "   prMergedCommits  prOpen  prOpenComments  prOpenCommits primaryLanguage  \\\n",
              "0              188       0               0              0            Java   \n",
              "1               11       0               0              0      JavaScript   \n",
              "2                7       1               0             29              Go   \n",
              "\n",
              "   pushedAt  readmeCharCount  readmeLinkCount  readmeSize  readmeWordCount  \\\n",
              "0    421887             5406               18        5406              817   \n",
              "1    401636              912                9         917              134   \n",
              "2    403769             5918               19        5918              882   \n",
              "\n",
              "   releases           reponame  repositories  siteAdmin  stars  \\\n",
              "0        19          openScale             1      False    153   \n",
              "1         0  be-MEAN-resources           113      False    154   \n",
              "2         0           Flotilla           125      False    190   \n",
              "\n",
              "   subscribersCount  tags  type  updatedAt  websiteUrl  desWordCount  \\\n",
              "0                17    19     1     421845           0            18   \n",
              "1                42     0     1     421366           0             6   \n",
              "2                14     0     1     421538           1             7   \n",
              "\n",
              "   desCharCount  mit_license  nan_license  apache_license  other_license  \\\n",
              "0           104            0            0               0              0   \n",
              "1            32            0            1               0              0   \n",
              "2            65            0            0               1              0   \n",
              "\n",
              "   remain_license  JavaScript  Python  Java  Objective-C  Ruby  PHP  \\\n",
              "0               1           0       0     1            0     0    0   \n",
              "1               0           1       0     0            0     0    0   \n",
              "2               0           0       0     0            0     0    0   \n",
              "\n",
              "   other_language  \n",
              "0               0  \n",
              "1               0  \n",
              "2               1  "
            ]
          },
          "metadata": {
            "tags": []
          },
          "execution_count": 48
        }
      ]
    },
    {
      "metadata": {
        "id": "dWz1ytt-4sYR",
        "colab_type": "text"
      },
      "cell_type": "markdown",
      "source": [
        "## Setting nan members , organizations , gists , giststar , gistComments , followers , following to 0"
      ]
    },
    {
      "metadata": {
        "id": "ZPl_PSN_4sYK",
        "colab_type": "code",
        "colab": {
          "autoexec": {
            "startup": false,
            "wait_interval": 0
          }
        }
      },
      "cell_type": "code",
      "source": [
        "data['members'] = data['members'].fillna(0)"
      ],
      "execution_count": 0,
      "outputs": []
    },
    {
      "metadata": {
        "id": "xWqPC43k4sYE",
        "colab_type": "code",
        "colab": {
          "autoexec": {
            "startup": false,
            "wait_interval": 0
          }
        }
      },
      "cell_type": "code",
      "source": [
        "data['organizations'] = data['organizations'].fillna(0)\n",
        "data['gists'] = data['gists'].fillna(0)\n",
        "data['gistStar'] = data['gistStar'].fillna(0)\n",
        "data['gistComments'] = data['gistComments'].fillna(0)\n",
        "data['following'] = data['following'].fillna(0)\n",
        "data['followers'] = data['followers'].fillna(0)"
      ],
      "execution_count": 0,
      "outputs": []
    },
    {
      "metadata": {
        "id": "iV4mrmLC4sXu",
        "colab_type": "code",
        "colab": {
          "autoexec": {
            "startup": false,
            "wait_interval": 0
          },
          "output_extras": [
            {}
          ],
          "base_uri": "https://localhost:8080/",
          "height": 1071
        },
        "outputId": "900f75e0-1d92-4cf7-f1e7-dd4398a73d25",
        "executionInfo": {
          "status": "ok",
          "timestamp": 1519039996302,
          "user_tz": -330,
          "elapsed": 1403,
          "user": {
            "displayName": "Anmol Dua",
            "photoUrl": "https://lh3.googleusercontent.com/a/default-user=s128",
            "userId": "105983295350785523892"
          }
        }
      },
      "cell_type": "code",
      "source": [
        "data.isnull().sum()"
      ],
      "execution_count": 0,
      "outputs": [
        {
          "output_type": "execute_result",
          "data": {
            "text/plain": [
              "branches                   0\n",
              "commits                 1650\n",
              "createdAt                  0\n",
              "description                0\n",
              "diskUsage                  0\n",
              "followers                  0\n",
              "following                  0\n",
              "forkCount                  0\n",
              "gistComments               0\n",
              "gistStar                   0\n",
              "gists                      0\n",
              "hasWikiEnabled             0\n",
              "iClosedComments            0\n",
              "iClosedParticipants        0\n",
              "iOpenComments              0\n",
              "iOpenParticipants          0\n",
              "isArchived                 0\n",
              "issuesClosed               0\n",
              "issuesOpen                 0\n",
              "license                    0\n",
              "location               32080\n",
              "login                      0\n",
              "members                    0\n",
              "organizations              0\n",
              "prClosed                   0\n",
              "prClosedComments           0\n",
              "prClosedCommits            0\n",
              "prMerged                   0\n",
              "prMergedComments           0\n",
              "prMergedCommits            0\n",
              "                       ...  \n",
              "primaryLanguage         5858\n",
              "pushedAt                   0\n",
              "readmeCharCount            0\n",
              "readmeLinkCount            0\n",
              "readmeSize                 0\n",
              "readmeWordCount            0\n",
              "releases                   0\n",
              "reponame                   2\n",
              "repositories               0\n",
              "siteAdmin                  0\n",
              "stars                      0\n",
              "subscribersCount           0\n",
              "tags                       0\n",
              "type                       0\n",
              "updatedAt                  0\n",
              "websiteUrl                 0\n",
              "desWordCount               0\n",
              "desCharCount               0\n",
              "mit_license                0\n",
              "nan_license                0\n",
              "apache_license             0\n",
              "other_license              0\n",
              "remain_license             0\n",
              "JavaScript                 0\n",
              "Python                     0\n",
              "Java                       0\n",
              "Objective-C                0\n",
              "Ruby                       0\n",
              "PHP                        0\n",
              "other_language             0\n",
              "Length: 63, dtype: int64"
            ]
          },
          "metadata": {
            "tags": []
          },
          "execution_count": 52
        }
      ]
    },
    {
      "metadata": {
        "id": "IoGsiroA13RV",
        "colab_type": "text"
      },
      "cell_type": "markdown",
      "source": [
        "## Plotting Missing Data"
      ]
    },
    {
      "metadata": {
        "id": "CiODHd83150A",
        "colab_type": "code",
        "colab": {
          "autoexec": {
            "startup": false,
            "wait_interval": 0
          }
        }
      },
      "cell_type": "code",
      "source": [
        "def plot_missing_data(df):\n",
        "    missing_df = df.isnull().sum(axis=0).reset_index()\n",
        "    missing_df.columns = ['column_name', 'missing_count']\n",
        "    missing_df = missing_df.loc[missing_df['missing_count']>0]\n",
        "    missing_df = missing_df.sort_values(by='missing_count')\n",
        "\n",
        "    ind = np.arange(missing_df.shape[0])\n",
        "    width = 0.9\n",
        "    fig, ax = plt.subplots(figsize=(12,9))\n",
        "    rects = ax.barh(ind, missing_df.missing_count.values, color=color[3])\n",
        "    ax.set_yticks(ind)\n",
        "    ax.set_yticklabels(missing_df.column_name.values, rotation='horizontal')\n",
        "    ax.set_xlabel(\"Count of missing values\")\n",
        "    ax.set_title(\"Number of missing values in each column\")\n",
        "    plt.show()"
      ],
      "execution_count": 0,
      "outputs": []
    },
    {
      "metadata": {
        "id": "VW9RvdM918sH",
        "colab_type": "code",
        "colab": {
          "autoexec": {
            "startup": false,
            "wait_interval": 0
          },
          "output_extras": [
            {
              "item_id": 1
            }
          ],
          "base_uri": "https://localhost:8080/",
          "height": 566
        },
        "outputId": "fd79aaf7-879e-4643-d5d8-fc09c0a9ac3d",
        "executionInfo": {
          "status": "ok",
          "timestamp": 1519040069636,
          "user_tz": -330,
          "elapsed": 990,
          "user": {
            "displayName": "Anmol Dua",
            "photoUrl": "https://lh3.googleusercontent.com/a/default-user=s128",
            "userId": "105983295350785523892"
          }
        }
      },
      "cell_type": "code",
      "source": [
        "plot_missing_data(data)"
      ],
      "execution_count": 54,
      "outputs": [
        {
          "output_type": "display_data",
          "data": {
            "image/png": "[encoded data removed]",
            "text/plain": [
              "<matplotlib.figure.Figure at 0x7f66099cc2d0>"
            ]
          },
          "metadata": {
            "tags": []
          }
        }
      ]
    },
    {
      "metadata": {
        "id": "saHIX3Ap2F6m",
        "colab_type": "text"
      },
      "cell_type": "markdown",
      "source": [
        "## removing the null numCommits(of master branch) rows"
      ]
    },
    {
      "metadata": {
        "id": "MijX8hEX2HGy",
        "colab_type": "code",
        "colab": {
          "autoexec": {
            "startup": false,
            "wait_interval": 0
          },
          "output_extras": [
            {
              "item_id": 1
            }
          ],
          "base_uri": "https://localhost:8080/",
          "height": 34
        },
        "outputId": "a1c9dfbc-c0db-4628-99c9-b0f2b4ddbfa7",
        "executionInfo": {
          "status": "ok",
          "timestamp": 1519040110854,
          "user_tz": -330,
          "elapsed": 918,
          "user": {
            "displayName": "Anmol Dua",
            "photoUrl": "https://lh3.googleusercontent.com/a/default-user=s128",
            "userId": "105983295350785523892"
          }
        }
      },
      "cell_type": "code",
      "source": [
        "data.commits.isnull().sum()"
      ],
      "execution_count": 55,
      "outputs": [
        {
          "output_type": "execute_result",
          "data": {
            "text/plain": [
              "1650"
            ]
          },
          "metadata": {
            "tags": []
          },
          "execution_count": 55
        }
      ]
    },
    {
      "metadata": {
        "id": "JNm9sa0B2Jz8",
        "colab_type": "code",
        "colab": {
          "autoexec": {
            "startup": false,
            "wait_interval": 0
          }
        }
      },
      "cell_type": "code",
      "source": [
        "data = data[data.commits.notnull()]"
      ],
      "execution_count": 0,
      "outputs": []
    },
    {
      "metadata": {
        "id": "r7u-EFXw2MeC",
        "colab_type": "code",
        "colab": {
          "autoexec": {
            "startup": false,
            "wait_interval": 0
          },
          "output_extras": [
            {
              "item_id": 1
            }
          ],
          "base_uri": "https://localhost:8080/",
          "height": 34
        },
        "outputId": "93c2afc4-cbf5-4282-835c-2e5b65d0e40f",
        "executionInfo": {
          "status": "ok",
          "timestamp": 1519040134020,
          "user_tz": -330,
          "elapsed": 998,
          "user": {
            "displayName": "Anmol Dua",
            "photoUrl": "https://lh3.googleusercontent.com/a/default-user=s128",
            "userId": "105983295350785523892"
          }
        }
      },
      "cell_type": "code",
      "source": [
        "data.shape"
      ],
      "execution_count": 57,
      "outputs": [
        {
          "output_type": "execute_result",
          "data": {
            "text/plain": [
              "(106117, 63)"
            ]
          },
          "metadata": {
            "tags": []
          },
          "execution_count": 57
        }
      ]
    },
    {
      "metadata": {
        "id": "FrjuN7Z52PcY",
        "colab_type": "code",
        "colab": {
          "autoexec": {
            "startup": false,
            "wait_interval": 0
          },
          "output_extras": [
            {
              "item_id": 1
            }
          ],
          "base_uri": "https://localhost:8080/",
          "height": 34
        },
        "outputId": "2af7f0f1-4b47-4570-d95c-7a74b52f3583",
        "executionInfo": {
          "status": "ok",
          "timestamp": 1519040146473,
          "user_tz": -330,
          "elapsed": 985,
          "user": {
            "displayName": "Anmol Dua",
            "photoUrl": "https://lh3.googleusercontent.com/a/default-user=s128",
            "userId": "105983295350785523892"
          }
        }
      },
      "cell_type": "code",
      "source": [
        "data.commits.isnull().sum()"
      ],
      "execution_count": 58,
      "outputs": [
        {
          "output_type": "execute_result",
          "data": {
            "text/plain": [
              "0"
            ]
          },
          "metadata": {
            "tags": []
          },
          "execution_count": 58
        }
      ]
    },
    {
      "metadata": {
        "id": "CeqlJwVB2a6A",
        "colab_type": "text"
      },
      "cell_type": "markdown",
      "source": [
        "## Removing the null reponame rows"
      ]
    },
    {
      "metadata": {
        "id": "MGWagYNd2eLo",
        "colab_type": "code",
        "colab": {
          "autoexec": {
            "startup": false,
            "wait_interval": 0
          },
          "output_extras": [
            {
              "item_id": 1
            },
            {
              "item_id": 2
            }
          ],
          "base_uri": "https://localhost:8080/",
          "height": 51
        },
        "outputId": "0b060c7d-352f-4d8d-c7d2-94bf39379aac",
        "executionInfo": {
          "status": "ok",
          "timestamp": 1519040203663,
          "user_tz": -330,
          "elapsed": 963,
          "user": {
            "displayName": "Anmol Dua",
            "photoUrl": "https://lh3.googleusercontent.com/a/default-user=s128",
            "userId": "105983295350785523892"
          }
        }
      },
      "cell_type": "code",
      "source": [
        "print(data.reponame.isnull().sum())\n",
        "data.shape"
      ],
      "execution_count": 59,
      "outputs": [
        {
          "output_type": "stream",
          "text": [
            "2\n"
          ],
          "name": "stdout"
        },
        {
          "output_type": "execute_result",
          "data": {
            "text/plain": [
              "(106117, 63)"
            ]
          },
          "metadata": {
            "tags": []
          },
          "execution_count": 59
        }
      ]
    },
    {
      "metadata": {
        "id": "VZYKDn1U2gdL",
        "colab_type": "code",
        "colab": {
          "autoexec": {
            "startup": false,
            "wait_interval": 0
          }
        }
      },
      "cell_type": "code",
      "source": [
        "data = data[data.reponame.notnull()]"
      ],
      "execution_count": 0,
      "outputs": []
    },
    {
      "metadata": {
        "id": "zPnZLxco2jJz",
        "colab_type": "code",
        "colab": {
          "autoexec": {
            "startup": false,
            "wait_interval": 0
          },
          "output_extras": [
            {
              "item_id": 1
            },
            {
              "item_id": 2
            }
          ],
          "base_uri": "https://localhost:8080/",
          "height": 51
        },
        "outputId": "711133e9-5437-42ec-ff25-544a4ded2862",
        "executionInfo": {
          "status": "ok",
          "timestamp": 1519040223242,
          "user_tz": -330,
          "elapsed": 1199,
          "user": {
            "displayName": "Anmol Dua",
            "photoUrl": "https://lh3.googleusercontent.com/a/default-user=s128",
            "userId": "105983295350785523892"
          }
        }
      },
      "cell_type": "code",
      "source": [
        "print(data.reponame.isnull().sum())\n",
        "data.shape"
      ],
      "execution_count": 61,
      "outputs": [
        {
          "output_type": "stream",
          "text": [
            "0\n"
          ],
          "name": "stdout"
        },
        {
          "output_type": "execute_result",
          "data": {
            "text/plain": [
              "(106115, 63)"
            ]
          },
          "metadata": {
            "tags": []
          },
          "execution_count": 61
        }
      ]
    },
    {
      "metadata": {
        "id": "ou9sJ4na2lLe",
        "colab_type": "code",
        "colab": {
          "autoexec": {
            "startup": false,
            "wait_interval": 0
          },
          "output_extras": [
            {
              "item_id": 1
            }
          ],
          "base_uri": "https://localhost:8080/",
          "height": 479
        },
        "outputId": "c9cd1e9a-755d-4a40-8308-838e997a2e19",
        "executionInfo": {
          "status": "ok",
          "timestamp": 1519040232828,
          "user_tz": -330,
          "elapsed": 1097,
          "user": {
            "displayName": "Anmol Dua",
            "photoUrl": "https://lh3.googleusercontent.com/a/default-user=s128",
            "userId": "105983295350785523892"
          }
        }
      },
      "cell_type": "code",
      "source": [
        "data.head()"
      ],
      "execution_count": 62,
      "outputs": [
        {
          "output_type": "execute_result",
          "data": {
            "text/html": [
              "<div>\n",
              "<style scoped>\n",
              "    .dataframe tbody tr th:only-of-type {\n",
              "        vertical-align: middle;\n",
              "    }\n",
              "\n",
              "    .dataframe tbody tr th {\n",
              "        vertical-align: top;\n",
              "    }\n",
              "\n",
              "    .dataframe thead th {\n",
              "        text-align: right;\n",
              "    }\n",
              "</style>\n",
              "<table border=\"1\" class=\"dataframe\">\n",
              "  <thead>\n",
              "    <tr style=\"text-align: right;\">\n",
              "      <th></th>\n",
              "      <th>branches</th>\n",
              "      <th>commits</th>\n",
              "      <th>createdAt</th>\n",
              "      <th>description</th>\n",
              "      <th>diskUsage</th>\n",
              "      <th>followers</th>\n",
              "      <th>following</th>\n",
              "      <th>forkCount</th>\n",
              "      <th>gistComments</th>\n",
              "      <th>gistStar</th>\n",
              "      <th>gists</th>\n",
              "      <th>hasWikiEnabled</th>\n",
              "      <th>iClosedComments</th>\n",
              "      <th>iClosedParticipants</th>\n",
              "      <th>iOpenComments</th>\n",
              "      <th>iOpenParticipants</th>\n",
              "      <th>isArchived</th>\n",
              "      <th>issuesClosed</th>\n",
              "      <th>issuesOpen</th>\n",
              "      <th>license</th>\n",
              "      <th>location</th>\n",
              "      <th>login</th>\n",
              "      <th>members</th>\n",
              "      <th>organizations</th>\n",
              "      <th>prClosed</th>\n",
              "      <th>prClosedComments</th>\n",
              "      <th>prClosedCommits</th>\n",
              "      <th>prMerged</th>\n",
              "      <th>prMergedComments</th>\n",
              "      <th>prMergedCommits</th>\n",
              "      <th>prOpen</th>\n",
              "      <th>prOpenComments</th>\n",
              "      <th>prOpenCommits</th>\n",
              "      <th>primaryLanguage</th>\n",
              "      <th>pushedAt</th>\n",
              "      <th>readmeCharCount</th>\n",
              "      <th>readmeLinkCount</th>\n",
              "      <th>readmeSize</th>\n",
              "      <th>readmeWordCount</th>\n",
              "      <th>releases</th>\n",
              "      <th>reponame</th>\n",
              "      <th>repositories</th>\n",
              "      <th>siteAdmin</th>\n",
              "      <th>stars</th>\n",
              "      <th>subscribersCount</th>\n",
              "      <th>tags</th>\n",
              "      <th>type</th>\n",
              "      <th>updatedAt</th>\n",
              "      <th>websiteUrl</th>\n",
              "      <th>desWordCount</th>\n",
              "      <th>desCharCount</th>\n",
              "      <th>mit_license</th>\n",
              "      <th>nan_license</th>\n",
              "      <th>apache_license</th>\n",
              "      <th>other_license</th>\n",
              "      <th>remain_license</th>\n",
              "      <th>JavaScript</th>\n",
              "      <th>Python</th>\n",
              "      <th>Java</th>\n",
              "      <th>Objective-C</th>\n",
              "      <th>Ruby</th>\n",
              "      <th>PHP</th>\n",
              "      <th>other_language</th>\n",
              "    </tr>\n",
              "  </thead>\n",
              "  <tbody>\n",
              "    <tr>\n",
              "      <th>0</th>\n",
              "      <td>1</td>\n",
              "      <td>700.0</td>\n",
              "      <td>394016</td>\n",
              "      <td>openScale is an open source app which support ...</td>\n",
              "      <td>132778</td>\n",
              "      <td>9.0</td>\n",
              "      <td>0.0</td>\n",
              "      <td>51</td>\n",
              "      <td>0.0</td>\n",
              "      <td>0.0</td>\n",
              "      <td>1.0</td>\n",
              "      <td>1</td>\n",
              "      <td>586</td>\n",
              "      <td>252</td>\n",
              "      <td>50</td>\n",
              "      <td>25</td>\n",
              "      <td>False</td>\n",
              "      <td>109</td>\n",
              "      <td>9</td>\n",
              "      <td>GNU General Public License v3.0</td>\n",
              "      <td>Germany</td>\n",
              "      <td>oliexdev</td>\n",
              "      <td>0.0</td>\n",
              "      <td>0.0</td>\n",
              "      <td>9</td>\n",
              "      <td>39</td>\n",
              "      <td>36</td>\n",
              "      <td>67</td>\n",
              "      <td>135</td>\n",
              "      <td>188</td>\n",
              "      <td>0</td>\n",
              "      <td>0</td>\n",
              "      <td>0</td>\n",
              "      <td>Java</td>\n",
              "      <td>421887</td>\n",
              "      <td>5406</td>\n",
              "      <td>18</td>\n",
              "      <td>5406</td>\n",
              "      <td>817</td>\n",
              "      <td>19</td>\n",
              "      <td>openScale</td>\n",
              "      <td>1</td>\n",
              "      <td>False</td>\n",
              "      <td>153</td>\n",
              "      <td>17</td>\n",
              "      <td>19</td>\n",
              "      <td>1</td>\n",
              "      <td>421845</td>\n",
              "      <td>0</td>\n",
              "      <td>18</td>\n",
              "      <td>104</td>\n",
              "      <td>0</td>\n",
              "      <td>0</td>\n",
              "      <td>0</td>\n",
              "      <td>0</td>\n",
              "      <td>1</td>\n",
              "      <td>0</td>\n",
              "      <td>0</td>\n",
              "      <td>1</td>\n",
              "      <td>0</td>\n",
              "      <td>0</td>\n",
              "      <td>0</td>\n",
              "      <td>0</td>\n",
              "    </tr>\n",
              "    <tr>\n",
              "      <th>1</th>\n",
              "      <td>1</td>\n",
              "      <td>141.0</td>\n",
              "      <td>394024</td>\n",
              "      <td>:book: Arquivos do livro Be MEAN</td>\n",
              "      <td>808</td>\n",
              "      <td>1280.0</td>\n",
              "      <td>16.0</td>\n",
              "      <td>52</td>\n",
              "      <td>9.0</td>\n",
              "      <td>31.0</td>\n",
              "      <td>164.0</td>\n",
              "      <td>1</td>\n",
              "      <td>3</td>\n",
              "      <td>9</td>\n",
              "      <td>4</td>\n",
              "      <td>19</td>\n",
              "      <td>False</td>\n",
              "      <td>4</td>\n",
              "      <td>10</td>\n",
              "      <td></td>\n",
              "      <td>NaN</td>\n",
              "      <td>ericdouglas</td>\n",
              "      <td>0.0</td>\n",
              "      <td>1.0</td>\n",
              "      <td>4</td>\n",
              "      <td>7</td>\n",
              "      <td>8</td>\n",
              "      <td>7</td>\n",
              "      <td>8</td>\n",
              "      <td>11</td>\n",
              "      <td>0</td>\n",
              "      <td>0</td>\n",
              "      <td>0</td>\n",
              "      <td>JavaScript</td>\n",
              "      <td>401636</td>\n",
              "      <td>912</td>\n",
              "      <td>9</td>\n",
              "      <td>917</td>\n",
              "      <td>134</td>\n",
              "      <td>0</td>\n",
              "      <td>be-MEAN-resources</td>\n",
              "      <td>113</td>\n",
              "      <td>False</td>\n",
              "      <td>154</td>\n",
              "      <td>42</td>\n",
              "      <td>0</td>\n",
              "      <td>1</td>\n",
              "      <td>421366</td>\n",
              "      <td>0</td>\n",
              "      <td>6</td>\n",
              "      <td>32</td>\n",
              "      <td>0</td>\n",
              "      <td>1</td>\n",
              "      <td>0</td>\n",
              "      <td>0</td>\n",
              "      <td>0</td>\n",
              "      <td>1</td>\n",
              "      <td>0</td>\n",
              "      <td>0</td>\n",
              "      <td>0</td>\n",
              "      <td>0</td>\n",
              "      <td>0</td>\n",
              "      <td>0</td>\n",
              "    </tr>\n",
              "    <tr>\n",
              "      <th>2</th>\n",
              "      <td>1</td>\n",
              "      <td>95.0</td>\n",
              "      <td>394012</td>\n",
              "      <td>Automated message queue orchestration for scal...</td>\n",
              "      <td>3742</td>\n",
              "      <td>404.0</td>\n",
              "      <td>44.0</td>\n",
              "      <td>29</td>\n",
              "      <td>4.0</td>\n",
              "      <td>7.0</td>\n",
              "      <td>92.0</td>\n",
              "      <td>1</td>\n",
              "      <td>2</td>\n",
              "      <td>4</td>\n",
              "      <td>13</td>\n",
              "      <td>6</td>\n",
              "      <td>False</td>\n",
              "      <td>2</td>\n",
              "      <td>4</td>\n",
              "      <td>Apache License 2.0</td>\n",
              "      <td>Podunk, Iowa</td>\n",
              "      <td>tylertreat</td>\n",
              "      <td>0.0</td>\n",
              "      <td>3.0</td>\n",
              "      <td>0</td>\n",
              "      <td>0</td>\n",
              "      <td>0</td>\n",
              "      <td>2</td>\n",
              "      <td>0</td>\n",
              "      <td>7</td>\n",
              "      <td>1</td>\n",
              "      <td>0</td>\n",
              "      <td>29</td>\n",
              "      <td>Go</td>\n",
              "      <td>403769</td>\n",
              "      <td>5918</td>\n",
              "      <td>19</td>\n",
              "      <td>5918</td>\n",
              "      <td>882</td>\n",
              "      <td>0</td>\n",
              "      <td>Flotilla</td>\n",
              "      <td>125</td>\n",
              "      <td>False</td>\n",
              "      <td>190</td>\n",
              "      <td>14</td>\n",
              "      <td>0</td>\n",
              "      <td>1</td>\n",
              "      <td>421538</td>\n",
              "      <td>1</td>\n",
              "      <td>7</td>\n",
              "      <td>65</td>\n",
              "      <td>0</td>\n",
              "      <td>0</td>\n",
              "      <td>1</td>\n",
              "      <td>0</td>\n",
              "      <td>0</td>\n",
              "      <td>0</td>\n",
              "      <td>0</td>\n",
              "      <td>0</td>\n",
              "      <td>0</td>\n",
              "      <td>0</td>\n",
              "      <td>0</td>\n",
              "      <td>1</td>\n",
              "    </tr>\n",
              "    <tr>\n",
              "      <th>3</th>\n",
              "      <td>1</td>\n",
              "      <td>100.0</td>\n",
              "      <td>394027</td>\n",
              "      <td>node.js interface to the Google word2vec tool</td>\n",
              "      <td>2260</td>\n",
              "      <td>248.0</td>\n",
              "      <td>713.0</td>\n",
              "      <td>23</td>\n",
              "      <td>0.0</td>\n",
              "      <td>0.0</td>\n",
              "      <td>33.0</td>\n",
              "      <td>1</td>\n",
              "      <td>25</td>\n",
              "      <td>21</td>\n",
              "      <td>33</td>\n",
              "      <td>12</td>\n",
              "      <td>False</td>\n",
              "      <td>10</td>\n",
              "      <td>5</td>\n",
              "      <td>Apache License 2.0</td>\n",
              "      <td>Pittsburgh, PA</td>\n",
              "      <td>Planeshifter</td>\n",
              "      <td>0.0</td>\n",
              "      <td>2.0</td>\n",
              "      <td>0</td>\n",
              "      <td>0</td>\n",
              "      <td>0</td>\n",
              "      <td>2</td>\n",
              "      <td>8</td>\n",
              "      <td>3</td>\n",
              "      <td>0</td>\n",
              "      <td>0</td>\n",
              "      <td>0</td>\n",
              "      <td>C</td>\n",
              "      <td>417782</td>\n",
              "      <td>12409</td>\n",
              "      <td>12</td>\n",
              "      <td>12409</td>\n",
              "      <td>1640</td>\n",
              "      <td>0</td>\n",
              "      <td>node-word2vec</td>\n",
              "      <td>136</td>\n",
              "      <td>False</td>\n",
              "      <td>211</td>\n",
              "      <td>12</td>\n",
              "      <td>2</td>\n",
              "      <td>1</td>\n",
              "      <td>421622</td>\n",
              "      <td>1</td>\n",
              "      <td>7</td>\n",
              "      <td>45</td>\n",
              "      <td>0</td>\n",
              "      <td>0</td>\n",
              "      <td>1</td>\n",
              "      <td>0</td>\n",
              "      <td>0</td>\n",
              "      <td>0</td>\n",
              "      <td>0</td>\n",
              "      <td>0</td>\n",
              "      <td>0</td>\n",
              "      <td>0</td>\n",
              "      <td>0</td>\n",
              "      <td>1</td>\n",
              "    </tr>\n",
              "    <tr>\n",
              "      <th>4</th>\n",
              "      <td>3</td>\n",
              "      <td>96.0</td>\n",
              "      <td>394018</td>\n",
              "      <td>Webcam component</td>\n",
              "      <td>131</td>\n",
              "      <td>22.0</td>\n",
              "      <td>39.0</td>\n",
              "      <td>91</td>\n",
              "      <td>0.0</td>\n",
              "      <td>2.0</td>\n",
              "      <td>8.0</td>\n",
              "      <td>1</td>\n",
              "      <td>45</td>\n",
              "      <td>48</td>\n",
              "      <td>27</td>\n",
              "      <td>38</td>\n",
              "      <td>False</td>\n",
              "      <td>19</td>\n",
              "      <td>20</td>\n",
              "      <td></td>\n",
              "      <td>Southampton, England</td>\n",
              "      <td>mozmorris</td>\n",
              "      <td>0.0</td>\n",
              "      <td>0.0</td>\n",
              "      <td>5</td>\n",
              "      <td>10</td>\n",
              "      <td>58</td>\n",
              "      <td>21</td>\n",
              "      <td>13</td>\n",
              "      <td>26</td>\n",
              "      <td>7</td>\n",
              "      <td>19</td>\n",
              "      <td>23</td>\n",
              "      <td>JavaScript</td>\n",
              "      <td>421098</td>\n",
              "      <td>2014</td>\n",
              "      <td>2</td>\n",
              "      <td>2014</td>\n",
              "      <td>210</td>\n",
              "      <td>0</td>\n",
              "      <td>react-webcam</td>\n",
              "      <td>43</td>\n",
              "      <td>False</td>\n",
              "      <td>218</td>\n",
              "      <td>13</td>\n",
              "      <td>2</td>\n",
              "      <td>1</td>\n",
              "      <td>421836</td>\n",
              "      <td>1</td>\n",
              "      <td>2</td>\n",
              "      <td>16</td>\n",
              "      <td>0</td>\n",
              "      <td>1</td>\n",
              "      <td>0</td>\n",
              "      <td>0</td>\n",
              "      <td>0</td>\n",
              "      <td>1</td>\n",
              "      <td>0</td>\n",
              "      <td>0</td>\n",
              "      <td>0</td>\n",
              "      <td>0</td>\n",
              "      <td>0</td>\n",
              "      <td>0</td>\n",
              "    </tr>\n",
              "  </tbody>\n",
              "</table>\n",
              "</div>"
            ],
            "text/plain": [
              "   branches  commits  createdAt  \\\n",
              "0         1    700.0     394016   \n",
              "1         1    141.0     394024   \n",
              "2         1     95.0     394012   \n",
              "3         1    100.0     394027   \n",
              "4         3     96.0     394018   \n",
              "\n",
              "                                         description  diskUsage  followers  \\\n",
              "0  openScale is an open source app which support ...     132778        9.0   \n",
              "1                   :book: Arquivos do livro Be MEAN        808     1280.0   \n",
              "2  Automated message queue orchestration for scal...       3742      404.0   \n",
              "3      node.js interface to the Google word2vec tool       2260      248.0   \n",
              "4                                   Webcam component        131       22.0   \n",
              "\n",
              "   following  forkCount  gistComments  gistStar  gists  hasWikiEnabled  \\\n",
              "0        0.0         51           0.0       0.0    1.0               1   \n",
              "1       16.0         52           9.0      31.0  164.0               1   \n",
              "2       44.0         29           4.0       7.0   92.0               1   \n",
              "3      713.0         23           0.0       0.0   33.0               1   \n",
              "4       39.0         91           0.0       2.0    8.0               1   \n",
              "\n",
              "   iClosedComments  iClosedParticipants  iOpenComments  iOpenParticipants  \\\n",
              "0              586                  252             50                 25   \n",
              "1                3                    9              4                 19   \n",
              "2                2                    4             13                  6   \n",
              "3               25                   21             33                 12   \n",
              "4               45                   48             27                 38   \n",
              "\n",
              "   isArchived  issuesClosed  issuesOpen                          license  \\\n",
              "0       False           109           9  GNU General Public License v3.0   \n",
              "1       False             4          10                                    \n",
              "2       False             2           4               Apache License 2.0   \n",
              "3       False            10           5               Apache License 2.0   \n",
              "4       False            19          20                                    \n",
              "\n",
              "               location         login  members  organizations  prClosed  \\\n",
              "0               Germany      oliexdev      0.0            0.0         9   \n",
              "1                   NaN   ericdouglas      0.0            1.0         4   \n",
              "2          Podunk, Iowa    tylertreat      0.0            3.0         0   \n",
              "3        Pittsburgh, PA  Planeshifter      0.0            2.0         0   \n",
              "4  Southampton, England     mozmorris      0.0            0.0         5   \n",
              "\n",
              "   prClosedComments  prClosedCommits  prMerged  prMergedComments  \\\n",
              "0                39               36        67               135   \n",
              "1                 7                8         7                 8   \n",
              "2                 0                0         2                 0   \n",
              "3                 0                0         2                 8   \n",
              "4                10               58        21                13   \n",
              "\n",
              "   prMergedCommits  prOpen  prOpenComments  prOpenCommits primaryLanguage  \\\n",
              "0              188       0               0              0            Java   \n",
              "1               11       0               0              0      JavaScript   \n",
              "2                7       1               0             29              Go   \n",
              "3                3       0               0              0               C   \n",
              "4               26       7              19             23      JavaScript   \n",
              "\n",
              "   pushedAt  readmeCharCount  readmeLinkCount  readmeSize  readmeWordCount  \\\n",
              "0    421887             5406               18        5406              817   \n",
              "1    401636              912                9         917              134   \n",
              "2    403769             5918               19        5918              882   \n",
              "3    417782            12409               12       12409             1640   \n",
              "4    421098             2014                2        2014              210   \n",
              "\n",
              "   releases           reponame  repositories  siteAdmin  stars  \\\n",
              "0        19          openScale             1      False    153   \n",
              "1         0  be-MEAN-resources           113      False    154   \n",
              "2         0           Flotilla           125      False    190   \n",
              "3         0      node-word2vec           136      False    211   \n",
              "4         0       react-webcam            43      False    218   \n",
              "\n",
              "   subscribersCount  tags  type  updatedAt  websiteUrl  desWordCount  \\\n",
              "0                17    19     1     421845           0            18   \n",
              "1                42     0     1     421366           0             6   \n",
              "2                14     0     1     421538           1             7   \n",
              "3                12     2     1     421622           1             7   \n",
              "4                13     2     1     421836           1             2   \n",
              "\n",
              "   desCharCount  mit_license  nan_license  apache_license  other_license  \\\n",
              "0           104            0            0               0              0   \n",
              "1            32            0            1               0              0   \n",
              "2            65            0            0               1              0   \n",
              "3            45            0            0               1              0   \n",
              "4            16            0            1               0              0   \n",
              "\n",
              "   remain_license  JavaScript  Python  Java  Objective-C  Ruby  PHP  \\\n",
              "0               1           0       0     1            0     0    0   \n",
              "1               0           1       0     0            0     0    0   \n",
              "2               0           0       0     0            0     0    0   \n",
              "3               0           0       0     0            0     0    0   \n",
              "4               0           1       0     0            0     0    0   \n",
              "\n",
              "   other_language  \n",
              "0               0  \n",
              "1               0  \n",
              "2               1  \n",
              "3               1  \n",
              "4               0  "
            ]
          },
          "metadata": {
            "tags": []
          },
          "execution_count": 62
        }
      ]
    },
    {
      "metadata": {
        "id": "ZNGMBk652njB",
        "colab_type": "code",
        "colab": {
          "autoexec": {
            "startup": false,
            "wait_interval": 0
          },
          "output_extras": [
            {
              "item_id": 1
            }
          ],
          "base_uri": "https://localhost:8080/",
          "height": 1969
        },
        "outputId": "0f554ef9-8bda-4389-ba8a-3c15e06c5d6f",
        "executionInfo": {
          "status": "ok",
          "timestamp": 1519040245433,
          "user_tz": -330,
          "elapsed": 1121,
          "user": {
            "displayName": "Anmol Dua",
            "photoUrl": "https://lh3.googleusercontent.com/a/default-user=s128",
            "userId": "105983295350785523892"
          }
        }
      },
      "cell_type": "code",
      "source": [
        "data.select_dtypes(include = np.bool)"
      ],
      "execution_count": 63,
      "outputs": [
        {
          "output_type": "execute_result",
          "data": {
            "text/html": [
              "<div>\n",
              "<style scoped>\n",
              "    .dataframe tbody tr th:only-of-type {\n",
              "        vertical-align: middle;\n",
              "    }\n",
              "\n",
              "    .dataframe tbody tr th {\n",
              "        vertical-align: top;\n",
              "    }\n",
              "\n",
              "    .dataframe thead th {\n",
              "        text-align: right;\n",
              "    }\n",
              "</style>\n",
              "<table border=\"1\" class=\"dataframe\">\n",
              "  <thead>\n",
              "    <tr style=\"text-align: right;\">\n",
              "      <th></th>\n",
              "      <th>isArchived</th>\n",
              "      <th>siteAdmin</th>\n",
              "    </tr>\n",
              "  </thead>\n",
              "  <tbody>\n",
              "    <tr>\n",
              "      <th>0</th>\n",
              "      <td>False</td>\n",
              "      <td>False</td>\n",
              "    </tr>\n",
              "    <tr>\n",
              "      <th>1</th>\n",
              "      <td>False</td>\n",
              "      <td>False</td>\n",
              "    </tr>\n",
              "    <tr>\n",
              "      <th>2</th>\n",
              "      <td>False</td>\n",
              "      <td>False</td>\n",
              "    </tr>\n",
              "    <tr>\n",
              "      <th>3</th>\n",
              "      <td>False</td>\n",
              "      <td>False</td>\n",
              "    </tr>\n",
              "    <tr>\n",
              "      <th>4</th>\n",
              "      <td>False</td>\n",
              "      <td>False</td>\n",
              "    </tr>\n",
              "    <tr>\n",
              "      <th>5</th>\n",
              "      <td>False</td>\n",
              "      <td>False</td>\n",
              "    </tr>\n",
              "    <tr>\n",
              "      <th>6</th>\n",
              "      <td>False</td>\n",
              "      <td>False</td>\n",
              "    </tr>\n",
              "    <tr>\n",
              "      <th>7</th>\n",
              "      <td>False</td>\n",
              "      <td>False</td>\n",
              "    </tr>\n",
              "    <tr>\n",
              "      <th>8</th>\n",
              "      <td>False</td>\n",
              "      <td>False</td>\n",
              "    </tr>\n",
              "    <tr>\n",
              "      <th>9</th>\n",
              "      <td>False</td>\n",
              "      <td>False</td>\n",
              "    </tr>\n",
              "    <tr>\n",
              "      <th>10</th>\n",
              "      <td>False</td>\n",
              "      <td>False</td>\n",
              "    </tr>\n",
              "    <tr>\n",
              "      <th>11</th>\n",
              "      <td>False</td>\n",
              "      <td>False</td>\n",
              "    </tr>\n",
              "    <tr>\n",
              "      <th>12</th>\n",
              "      <td>False</td>\n",
              "      <td>False</td>\n",
              "    </tr>\n",
              "    <tr>\n",
              "      <th>13</th>\n",
              "      <td>False</td>\n",
              "      <td>False</td>\n",
              "    </tr>\n",
              "    <tr>\n",
              "      <th>14</th>\n",
              "      <td>False</td>\n",
              "      <td>False</td>\n",
              "    </tr>\n",
              "    <tr>\n",
              "      <th>15</th>\n",
              "      <td>False</td>\n",
              "      <td>False</td>\n",
              "    </tr>\n",
              "    <tr>\n",
              "      <th>16</th>\n",
              "      <td>False</td>\n",
              "      <td>False</td>\n",
              "    </tr>\n",
              "    <tr>\n",
              "      <th>17</th>\n",
              "      <td>False</td>\n",
              "      <td>False</td>\n",
              "    </tr>\n",
              "    <tr>\n",
              "      <th>18</th>\n",
              "      <td>False</td>\n",
              "      <td>False</td>\n",
              "    </tr>\n",
              "    <tr>\n",
              "      <th>19</th>\n",
              "      <td>False</td>\n",
              "      <td>False</td>\n",
              "    </tr>\n",
              "    <tr>\n",
              "      <th>20</th>\n",
              "      <td>False</td>\n",
              "      <td>False</td>\n",
              "    </tr>\n",
              "    <tr>\n",
              "      <th>21</th>\n",
              "      <td>False</td>\n",
              "      <td>False</td>\n",
              "    </tr>\n",
              "    <tr>\n",
              "      <th>22</th>\n",
              "      <td>False</td>\n",
              "      <td>False</td>\n",
              "    </tr>\n",
              "    <tr>\n",
              "      <th>23</th>\n",
              "      <td>False</td>\n",
              "      <td>False</td>\n",
              "    </tr>\n",
              "    <tr>\n",
              "      <th>24</th>\n",
              "      <td>False</td>\n",
              "      <td>False</td>\n",
              "    </tr>\n",
              "    <tr>\n",
              "      <th>25</th>\n",
              "      <td>False</td>\n",
              "      <td>False</td>\n",
              "    </tr>\n",
              "    <tr>\n",
              "      <th>26</th>\n",
              "      <td>False</td>\n",
              "      <td>False</td>\n",
              "    </tr>\n",
              "    <tr>\n",
              "      <th>27</th>\n",
              "      <td>False</td>\n",
              "      <td>False</td>\n",
              "    </tr>\n",
              "    <tr>\n",
              "      <th>28</th>\n",
              "      <td>False</td>\n",
              "      <td>False</td>\n",
              "    </tr>\n",
              "    <tr>\n",
              "      <th>29</th>\n",
              "      <td>False</td>\n",
              "      <td>False</td>\n",
              "    </tr>\n",
              "    <tr>\n",
              "      <th>...</th>\n",
              "      <td>...</td>\n",
              "      <td>...</td>\n",
              "    </tr>\n",
              "    <tr>\n",
              "      <th>107737</th>\n",
              "      <td>False</td>\n",
              "      <td>False</td>\n",
              "    </tr>\n",
              "    <tr>\n",
              "      <th>107738</th>\n",
              "      <td>False</td>\n",
              "      <td>False</td>\n",
              "    </tr>\n",
              "    <tr>\n",
              "      <th>107739</th>\n",
              "      <td>False</td>\n",
              "      <td>False</td>\n",
              "    </tr>\n",
              "    <tr>\n",
              "      <th>107740</th>\n",
              "      <td>False</td>\n",
              "      <td>False</td>\n",
              "    </tr>\n",
              "    <tr>\n",
              "      <th>107741</th>\n",
              "      <td>False</td>\n",
              "      <td>False</td>\n",
              "    </tr>\n",
              "    <tr>\n",
              "      <th>107742</th>\n",
              "      <td>False</td>\n",
              "      <td>False</td>\n",
              "    </tr>\n",
              "    <tr>\n",
              "      <th>107743</th>\n",
              "      <td>False</td>\n",
              "      <td>False</td>\n",
              "    </tr>\n",
              "    <tr>\n",
              "      <th>107744</th>\n",
              "      <td>False</td>\n",
              "      <td>False</td>\n",
              "    </tr>\n",
              "    <tr>\n",
              "      <th>107745</th>\n",
              "      <td>False</td>\n",
              "      <td>False</td>\n",
              "    </tr>\n",
              "    <tr>\n",
              "      <th>107746</th>\n",
              "      <td>False</td>\n",
              "      <td>False</td>\n",
              "    </tr>\n",
              "    <tr>\n",
              "      <th>107747</th>\n",
              "      <td>False</td>\n",
              "      <td>False</td>\n",
              "    </tr>\n",
              "    <tr>\n",
              "      <th>107748</th>\n",
              "      <td>False</td>\n",
              "      <td>False</td>\n",
              "    </tr>\n",
              "    <tr>\n",
              "      <th>107749</th>\n",
              "      <td>False</td>\n",
              "      <td>False</td>\n",
              "    </tr>\n",
              "    <tr>\n",
              "      <th>107750</th>\n",
              "      <td>False</td>\n",
              "      <td>False</td>\n",
              "    </tr>\n",
              "    <tr>\n",
              "      <th>107751</th>\n",
              "      <td>False</td>\n",
              "      <td>False</td>\n",
              "    </tr>\n",
              "    <tr>\n",
              "      <th>107752</th>\n",
              "      <td>False</td>\n",
              "      <td>False</td>\n",
              "    </tr>\n",
              "    <tr>\n",
              "      <th>107753</th>\n",
              "      <td>False</td>\n",
              "      <td>False</td>\n",
              "    </tr>\n",
              "    <tr>\n",
              "      <th>107754</th>\n",
              "      <td>False</td>\n",
              "      <td>False</td>\n",
              "    </tr>\n",
              "    <tr>\n",
              "      <th>107755</th>\n",
              "      <td>False</td>\n",
              "      <td>False</td>\n",
              "    </tr>\n",
              "    <tr>\n",
              "      <th>107756</th>\n",
              "      <td>False</td>\n",
              "      <td>False</td>\n",
              "    </tr>\n",
              "    <tr>\n",
              "      <th>107757</th>\n",
              "      <td>False</td>\n",
              "      <td>False</td>\n",
              "    </tr>\n",
              "    <tr>\n",
              "      <th>107758</th>\n",
              "      <td>False</td>\n",
              "      <td>False</td>\n",
              "    </tr>\n",
              "    <tr>\n",
              "      <th>107759</th>\n",
              "      <td>False</td>\n",
              "      <td>False</td>\n",
              "    </tr>\n",
              "    <tr>\n",
              "      <th>107760</th>\n",
              "      <td>False</td>\n",
              "      <td>False</td>\n",
              "    </tr>\n",
              "    <tr>\n",
              "      <th>107761</th>\n",
              "      <td>False</td>\n",
              "      <td>False</td>\n",
              "    </tr>\n",
              "    <tr>\n",
              "      <th>107762</th>\n",
              "      <td>False</td>\n",
              "      <td>False</td>\n",
              "    </tr>\n",
              "    <tr>\n",
              "      <th>107763</th>\n",
              "      <td>False</td>\n",
              "      <td>False</td>\n",
              "    </tr>\n",
              "    <tr>\n",
              "      <th>107764</th>\n",
              "      <td>False</td>\n",
              "      <td>False</td>\n",
              "    </tr>\n",
              "    <tr>\n",
              "      <th>107765</th>\n",
              "      <td>False</td>\n",
              "      <td>False</td>\n",
              "    </tr>\n",
              "    <tr>\n",
              "      <th>107766</th>\n",
              "      <td>False</td>\n",
              "      <td>False</td>\n",
              "    </tr>\n",
              "  </tbody>\n",
              "</table>\n",
              "<p>106115 rows × 2 columns</p>\n",
              "</div>"
            ],
            "text/plain": [
              "        isArchived  siteAdmin\n",
              "0            False      False\n",
              "1            False      False\n",
              "2            False      False\n",
              "3            False      False\n",
              "4            False      False\n",
              "5            False      False\n",
              "6            False      False\n",
              "7            False      False\n",
              "8            False      False\n",
              "9            False      False\n",
              "10           False      False\n",
              "11           False      False\n",
              "12           False      False\n",
              "13           False      False\n",
              "14           False      False\n",
              "15           False      False\n",
              "16           False      False\n",
              "17           False      False\n",
              "18           False      False\n",
              "19           False      False\n",
              "20           False      False\n",
              "21           False      False\n",
              "22           False      False\n",
              "23           False      False\n",
              "24           False      False\n",
              "25           False      False\n",
              "26           False      False\n",
              "27           False      False\n",
              "28           False      False\n",
              "29           False      False\n",
              "...            ...        ...\n",
              "107737       False      False\n",
              "107738       False      False\n",
              "107739       False      False\n",
              "107740       False      False\n",
              "107741       False      False\n",
              "107742       False      False\n",
              "107743       False      False\n",
              "107744       False      False\n",
              "107745       False      False\n",
              "107746       False      False\n",
              "107747       False      False\n",
              "107748       False      False\n",
              "107749       False      False\n",
              "107750       False      False\n",
              "107751       False      False\n",
              "107752       False      False\n",
              "107753       False      False\n",
              "107754       False      False\n",
              "107755       False      False\n",
              "107756       False      False\n",
              "107757       False      False\n",
              "107758       False      False\n",
              "107759       False      False\n",
              "107760       False      False\n",
              "107761       False      False\n",
              "107762       False      False\n",
              "107763       False      False\n",
              "107764       False      False\n",
              "107765       False      False\n",
              "107766       False      False\n",
              "\n",
              "[106115 rows x 2 columns]"
            ]
          },
          "metadata": {
            "tags": []
          },
          "execution_count": 63
        }
      ]
    },
    {
      "metadata": {
        "id": "ZO31q3t_22BX",
        "colab_type": "text"
      },
      "cell_type": "markdown",
      "source": [
        "## Dropping Columns"
      ]
    },
    {
      "metadata": {
        "id": "VbvxmaeP29HL",
        "colab_type": "code",
        "colab": {
          "autoexec": {
            "startup": false,
            "wait_interval": 0
          },
          "output_extras": [
            {
              "item_id": 1
            }
          ],
          "base_uri": "https://localhost:8080/",
          "height": 289
        },
        "outputId": "aaf6bb14-ee01-458d-ce9a-34e22a7a8758",
        "executionInfo": {
          "status": "ok",
          "timestamp": 1519040335318,
          "user_tz": -330,
          "elapsed": 949,
          "user": {
            "displayName": "Anmol Dua",
            "photoUrl": "https://lh3.googleusercontent.com/a/default-user=s128",
            "userId": "105983295350785523892"
          }
        }
      },
      "cell_type": "code",
      "source": [
        "data.columns"
      ],
      "execution_count": 64,
      "outputs": [
        {
          "output_type": "execute_result",
          "data": {
            "text/plain": [
              "Index([u'branches', u'commits', u'createdAt', u'description', u'diskUsage',\n",
              "       u'followers', u'following', u'forkCount', u'gistComments', u'gistStar',\n",
              "       u'gists', u'hasWikiEnabled', u'iClosedComments', u'iClosedParticipants',\n",
              "       u'iOpenComments', u'iOpenParticipants', u'isArchived', u'issuesClosed',\n",
              "       u'issuesOpen', u'license', u'location', u'login', u'members',\n",
              "       u'organizations', u'prClosed', u'prClosedComments', u'prClosedCommits',\n",
              "       u'prMerged', u'prMergedComments', u'prMergedCommits', u'prOpen',\n",
              "       u'prOpenComments', u'prOpenCommits', u'primaryLanguage', u'pushedAt',\n",
              "       u'readmeCharCount', u'readmeLinkCount', u'readmeSize',\n",
              "       u'readmeWordCount', u'releases', u'reponame', u'repositories',\n",
              "       u'siteAdmin', u'stars', u'subscribersCount', u'tags', u'type',\n",
              "       u'updatedAt', u'websiteUrl', u'desWordCount', u'desCharCount',\n",
              "       u'mit_license', u'nan_license', u'apache_license', u'other_license',\n",
              "       u'remain_license', u'JavaScript', u'Python', u'Java', u'Objective-C',\n",
              "       u'Ruby', u'PHP', u'other_language'],\n",
              "      dtype='object')"
            ]
          },
          "metadata": {
            "tags": []
          },
          "execution_count": 64
        }
      ]
    },
    {
      "metadata": {
        "id": "mJbF2Cyd3Amp",
        "colab_type": "code",
        "colab": {
          "autoexec": {
            "startup": false,
            "wait_interval": 0
          }
        }
      },
      "cell_type": "code",
      "source": [
        "## Columns to drop\n",
        "Df = data\n",
        "col = ['description' , 'isArchived' , 'license' ,'location' , 'login' , 'primaryLanguage' , 'reponame' , 'siteAdmin']\n",
        "data = data.drop(col , axis = 1)"
      ],
      "execution_count": 0,
      "outputs": []
    },
    {
      "metadata": {
        "id": "NdWwKT5G3E1k",
        "colab_type": "code",
        "colab": {
          "autoexec": {
            "startup": false,
            "wait_interval": 0
          }
        }
      },
      "cell_type": "code",
      "source": [
        "def count_dtypes(df):\n",
        "    pd.options.display.max_rows = 65\n",
        "    dtype_df = df.dtypes.reset_index()\n",
        "    dtype_df.columns = [\"Count\", \"Column Type\"]\n",
        "    return dtype_df.groupby(\"Column Type\").aggregate('count').reset_index()"
      ],
      "execution_count": 0,
      "outputs": []
    },
    {
      "metadata": {
        "id": "qR6y__pe3IJ3",
        "colab_type": "code",
        "colab": {
          "autoexec": {
            "startup": false,
            "wait_interval": 0
          },
          "output_extras": [
            {
              "item_id": 1
            }
          ],
          "base_uri": "https://localhost:8080/",
          "height": 111
        },
        "outputId": "69c9f6c5-c634-498d-f5ba-918da96f0302",
        "executionInfo": {
          "status": "ok",
          "timestamp": 1519040375491,
          "user_tz": -330,
          "elapsed": 1018,
          "user": {
            "displayName": "Anmol Dua",
            "photoUrl": "https://lh3.googleusercontent.com/a/default-user=s128",
            "userId": "105983295350785523892"
          }
        }
      },
      "cell_type": "code",
      "source": [
        "count_dtypes(data)"
      ],
      "execution_count": 67,
      "outputs": [
        {
          "output_type": "execute_result",
          "data": {
            "text/html": [
              "<div>\n",
              "<style scoped>\n",
              "    .dataframe tbody tr th:only-of-type {\n",
              "        vertical-align: middle;\n",
              "    }\n",
              "\n",
              "    .dataframe tbody tr th {\n",
              "        vertical-align: top;\n",
              "    }\n",
              "\n",
              "    .dataframe thead th {\n",
              "        text-align: right;\n",
              "    }\n",
              "</style>\n",
              "<table border=\"1\" class=\"dataframe\">\n",
              "  <thead>\n",
              "    <tr style=\"text-align: right;\">\n",
              "      <th></th>\n",
              "      <th>Column Type</th>\n",
              "      <th>Count</th>\n",
              "    </tr>\n",
              "  </thead>\n",
              "  <tbody>\n",
              "    <tr>\n",
              "      <th>0</th>\n",
              "      <td>int64</td>\n",
              "      <td>47</td>\n",
              "    </tr>\n",
              "    <tr>\n",
              "      <th>1</th>\n",
              "      <td>float64</td>\n",
              "      <td>8</td>\n",
              "    </tr>\n",
              "  </tbody>\n",
              "</table>\n",
              "</div>"
            ],
            "text/plain": [
              "  Column Type  Count\n",
              "0       int64     47\n",
              "1     float64      8"
            ]
          },
          "metadata": {
            "tags": []
          },
          "execution_count": 67
        }
      ]
    },
    {
      "metadata": {
        "id": "wRmJO_g53KZH",
        "colab_type": "code",
        "colab": {
          "autoexec": {
            "startup": false,
            "wait_interval": 0
          },
          "output_extras": [
            {
              "item_id": 1
            }
          ],
          "base_uri": "https://localhost:8080/",
          "height": 179
        },
        "outputId": "fcde2840-c155-471d-b261-7e98a52bdc62",
        "executionInfo": {
          "status": "ok",
          "timestamp": 1519040404976,
          "user_tz": -330,
          "elapsed": 1074,
          "user": {
            "displayName": "Anmol Dua",
            "photoUrl": "https://lh3.googleusercontent.com/a/default-user=s128",
            "userId": "105983295350785523892"
          }
        }
      },
      "cell_type": "code",
      "source": [
        "data.head(3)"
      ],
      "execution_count": 68,
      "outputs": [
        {
          "output_type": "execute_result",
          "data": {
            "text/html": [
              "<div>\n",
              "<style scoped>\n",
              "    .dataframe tbody tr th:only-of-type {\n",
              "        vertical-align: middle;\n",
              "    }\n",
              "\n",
              "    .dataframe tbody tr th {\n",
              "        vertical-align: top;\n",
              "    }\n",
              "\n",
              "    .dataframe thead th {\n",
              "        text-align: right;\n",
              "    }\n",
              "</style>\n",
              "<table border=\"1\" class=\"dataframe\">\n",
              "  <thead>\n",
              "    <tr style=\"text-align: right;\">\n",
              "      <th></th>\n",
              "      <th>branches</th>\n",
              "      <th>commits</th>\n",
              "      <th>createdAt</th>\n",
              "      <th>diskUsage</th>\n",
              "      <th>followers</th>\n",
              "      <th>following</th>\n",
              "      <th>forkCount</th>\n",
              "      <th>gistComments</th>\n",
              "      <th>gistStar</th>\n",
              "      <th>gists</th>\n",
              "      <th>hasWikiEnabled</th>\n",
              "      <th>iClosedComments</th>\n",
              "      <th>iClosedParticipants</th>\n",
              "      <th>iOpenComments</th>\n",
              "      <th>iOpenParticipants</th>\n",
              "      <th>issuesClosed</th>\n",
              "      <th>issuesOpen</th>\n",
              "      <th>members</th>\n",
              "      <th>organizations</th>\n",
              "      <th>prClosed</th>\n",
              "      <th>prClosedComments</th>\n",
              "      <th>prClosedCommits</th>\n",
              "      <th>prMerged</th>\n",
              "      <th>prMergedComments</th>\n",
              "      <th>prMergedCommits</th>\n",
              "      <th>prOpen</th>\n",
              "      <th>prOpenComments</th>\n",
              "      <th>prOpenCommits</th>\n",
              "      <th>pushedAt</th>\n",
              "      <th>readmeCharCount</th>\n",
              "      <th>readmeLinkCount</th>\n",
              "      <th>readmeSize</th>\n",
              "      <th>readmeWordCount</th>\n",
              "      <th>releases</th>\n",
              "      <th>repositories</th>\n",
              "      <th>stars</th>\n",
              "      <th>subscribersCount</th>\n",
              "      <th>tags</th>\n",
              "      <th>type</th>\n",
              "      <th>updatedAt</th>\n",
              "      <th>websiteUrl</th>\n",
              "      <th>desWordCount</th>\n",
              "      <th>desCharCount</th>\n",
              "      <th>mit_license</th>\n",
              "      <th>nan_license</th>\n",
              "      <th>apache_license</th>\n",
              "      <th>other_license</th>\n",
              "      <th>remain_license</th>\n",
              "      <th>JavaScript</th>\n",
              "      <th>Python</th>\n",
              "      <th>Java</th>\n",
              "      <th>Objective-C</th>\n",
              "      <th>Ruby</th>\n",
              "      <th>PHP</th>\n",
              "      <th>other_language</th>\n",
              "    </tr>\n",
              "  </thead>\n",
              "  <tbody>\n",
              "    <tr>\n",
              "      <th>0</th>\n",
              "      <td>1</td>\n",
              "      <td>700.0</td>\n",
              "      <td>394016</td>\n",
              "      <td>132778</td>\n",
              "      <td>9.0</td>\n",
              "      <td>0.0</td>\n",
              "      <td>51</td>\n",
              "      <td>0.0</td>\n",
              "      <td>0.0</td>\n",
              "      <td>1.0</td>\n",
              "      <td>1</td>\n",
              "      <td>586</td>\n",
              "      <td>252</td>\n",
              "      <td>50</td>\n",
              "      <td>25</td>\n",
              "      <td>109</td>\n",
              "      <td>9</td>\n",
              "      <td>0.0</td>\n",
              "      <td>0.0</td>\n",
              "      <td>9</td>\n",
              "      <td>39</td>\n",
              "      <td>36</td>\n",
              "      <td>67</td>\n",
              "      <td>135</td>\n",
              "      <td>188</td>\n",
              "      <td>0</td>\n",
              "      <td>0</td>\n",
              "      <td>0</td>\n",
              "      <td>421887</td>\n",
              "      <td>5406</td>\n",
              "      <td>18</td>\n",
              "      <td>5406</td>\n",
              "      <td>817</td>\n",
              "      <td>19</td>\n",
              "      <td>1</td>\n",
              "      <td>153</td>\n",
              "      <td>17</td>\n",
              "      <td>19</td>\n",
              "      <td>1</td>\n",
              "      <td>421845</td>\n",
              "      <td>0</td>\n",
              "      <td>18</td>\n",
              "      <td>104</td>\n",
              "      <td>0</td>\n",
              "      <td>0</td>\n",
              "      <td>0</td>\n",
              "      <td>0</td>\n",
              "      <td>1</td>\n",
              "      <td>0</td>\n",
              "      <td>0</td>\n",
              "      <td>1</td>\n",
              "      <td>0</td>\n",
              "      <td>0</td>\n",
              "      <td>0</td>\n",
              "      <td>0</td>\n",
              "    </tr>\n",
              "    <tr>\n",
              "      <th>1</th>\n",
              "      <td>1</td>\n",
              "      <td>141.0</td>\n",
              "      <td>394024</td>\n",
              "      <td>808</td>\n",
              "      <td>1280.0</td>\n",
              "      <td>16.0</td>\n",
              "      <td>52</td>\n",
              "      <td>9.0</td>\n",
              "      <td>31.0</td>\n",
              "      <td>164.0</td>\n",
              "      <td>1</td>\n",
              "      <td>3</td>\n",
              "      <td>9</td>\n",
              "      <td>4</td>\n",
              "      <td>19</td>\n",
              "      <td>4</td>\n",
              "      <td>10</td>\n",
              "      <td>0.0</td>\n",
              "      <td>1.0</td>\n",
              "      <td>4</td>\n",
              "      <td>7</td>\n",
              "      <td>8</td>\n",
              "      <td>7</td>\n",
              "      <td>8</td>\n",
              "      <td>11</td>\n",
              "      <td>0</td>\n",
              "      <td>0</td>\n",
              "      <td>0</td>\n",
              "      <td>401636</td>\n",
              "      <td>912</td>\n",
              "      <td>9</td>\n",
              "      <td>917</td>\n",
              "      <td>134</td>\n",
              "      <td>0</td>\n",
              "      <td>113</td>\n",
              "      <td>154</td>\n",
              "      <td>42</td>\n",
              "      <td>0</td>\n",
              "      <td>1</td>\n",
              "      <td>421366</td>\n",
              "      <td>0</td>\n",
              "      <td>6</td>\n",
              "      <td>32</td>\n",
              "      <td>0</td>\n",
              "      <td>1</td>\n",
              "      <td>0</td>\n",
              "      <td>0</td>\n",
              "      <td>0</td>\n",
              "      <td>1</td>\n",
              "      <td>0</td>\n",
              "      <td>0</td>\n",
              "      <td>0</td>\n",
              "      <td>0</td>\n",
              "      <td>0</td>\n",
              "      <td>0</td>\n",
              "    </tr>\n",
              "    <tr>\n",
              "      <th>2</th>\n",
              "      <td>1</td>\n",
              "      <td>95.0</td>\n",
              "      <td>394012</td>\n",
              "      <td>3742</td>\n",
              "      <td>404.0</td>\n",
              "      <td>44.0</td>\n",
              "      <td>29</td>\n",
              "      <td>4.0</td>\n",
              "      <td>7.0</td>\n",
              "      <td>92.0</td>\n",
              "      <td>1</td>\n",
              "      <td>2</td>\n",
              "      <td>4</td>\n",
              "      <td>13</td>\n",
              "      <td>6</td>\n",
              "      <td>2</td>\n",
              "      <td>4</td>\n",
              "      <td>0.0</td>\n",
              "      <td>3.0</td>\n",
              "      <td>0</td>\n",
              "      <td>0</td>\n",
              "      <td>0</td>\n",
              "      <td>2</td>\n",
              "      <td>0</td>\n",
              "      <td>7</td>\n",
              "      <td>1</td>\n",
              "      <td>0</td>\n",
              "      <td>29</td>\n",
              "      <td>403769</td>\n",
              "      <td>5918</td>\n",
              "      <td>19</td>\n",
              "      <td>5918</td>\n",
              "      <td>882</td>\n",
              "      <td>0</td>\n",
              "      <td>125</td>\n",
              "      <td>190</td>\n",
              "      <td>14</td>\n",
              "      <td>0</td>\n",
              "      <td>1</td>\n",
              "      <td>421538</td>\n",
              "      <td>1</td>\n",
              "      <td>7</td>\n",
              "      <td>65</td>\n",
              "      <td>0</td>\n",
              "      <td>0</td>\n",
              "      <td>1</td>\n",
              "      <td>0</td>\n",
              "      <td>0</td>\n",
              "      <td>0</td>\n",
              "      <td>0</td>\n",
              "      <td>0</td>\n",
              "      <td>0</td>\n",
              "      <td>0</td>\n",
              "      <td>0</td>\n",
              "      <td>1</td>\n",
              "    </tr>\n",
              "  </tbody>\n",
              "</table>\n",
              "</div>"
            ],
            "text/plain": [
              "   branches  commits  createdAt  diskUsage  followers  following  forkCount  \\\n",
              "0         1    700.0     394016     132778        9.0        0.0         51   \n",
              "1         1    141.0     394024        808     1280.0       16.0         52   \n",
              "2         1     95.0     394012       3742      404.0       44.0         29   \n",
              "\n",
              "   gistComments  gistStar  gists  hasWikiEnabled  iClosedComments  \\\n",
              "0           0.0       0.0    1.0               1              586   \n",
              "1           9.0      31.0  164.0               1                3   \n",
              "2           4.0       7.0   92.0               1                2   \n",
              "\n",
              "   iClosedParticipants  iOpenComments  iOpenParticipants  issuesClosed  \\\n",
              "0                  252             50                 25           109   \n",
              "1                    9              4                 19             4   \n",
              "2                    4             13                  6             2   \n",
              "\n",
              "   issuesOpen  members  organizations  prClosed  prClosedComments  \\\n",
              "0           9      0.0            0.0         9                39   \n",
              "1          10      0.0            1.0         4                 7   \n",
              "2           4      0.0            3.0         0                 0   \n",
              "\n",
              "   prClosedCommits  prMerged  prMergedComments  prMergedCommits  prOpen  \\\n",
              "0               36        67               135              188       0   \n",
              "1                8         7                 8               11       0   \n",
              "2                0         2                 0                7       1   \n",
              "\n",
              "   prOpenComments  prOpenCommits  pushedAt  readmeCharCount  readmeLinkCount  \\\n",
              "0               0              0    421887             5406               18   \n",
              "1               0              0    401636              912                9   \n",
              "2               0             29    403769             5918               19   \n",
              "\n",
              "   readmeSize  readmeWordCount  releases  repositories  stars  \\\n",
              "0        5406              817        19             1    153   \n",
              "1         917              134         0           113    154   \n",
              "2        5918              882         0           125    190   \n",
              "\n",
              "   subscribersCount  tags  type  updatedAt  websiteUrl  desWordCount  \\\n",
              "0                17    19     1     421845           0            18   \n",
              "1                42     0     1     421366           0             6   \n",
              "2                14     0     1     421538           1             7   \n",
              "\n",
              "   desCharCount  mit_license  nan_license  apache_license  other_license  \\\n",
              "0           104            0            0               0              0   \n",
              "1            32            0            1               0              0   \n",
              "2            65            0            0               1              0   \n",
              "\n",
              "   remain_license  JavaScript  Python  Java  Objective-C  Ruby  PHP  \\\n",
              "0               1           0       0     1            0     0    0   \n",
              "1               0           1       0     0            0     0    0   \n",
              "2               0           0       0     0            0     0    0   \n",
              "\n",
              "   other_language  \n",
              "0               0  \n",
              "1               0  \n",
              "2               1  "
            ]
          },
          "metadata": {
            "tags": []
          },
          "execution_count": 68
        }
      ]
    },
    {
      "metadata": {
        "id": "NSfBOZfN3i_p",
        "colab_type": "text"
      },
      "cell_type": "markdown",
      "source": [
        "## Saving it as a PreProcessing file"
      ]
    },
    {
      "metadata": {
        "id": "9Gr2IEc_3RlG",
        "colab_type": "code",
        "colab": {
          "autoexec": {
            "startup": false,
            "wait_interval": 0
          }
        }
      },
      "cell_type": "code",
      "source": [
        "data.to_csv('PreprocessData.csv')"
      ],
      "execution_count": 0,
      "outputs": []
    },
    {
      "metadata": {
        "id": "J6cJHVqI3c1X",
        "colab_type": "code",
        "colab": {
          "autoexec": {
            "startup": false,
            "wait_interval": 0
          },
          "output_extras": [
            {
              "item_id": 1
            }
          ],
          "base_uri": "https://localhost:8080/",
          "height": 34
        },
        "outputId": "11e684a7-f353-475a-f045-e4c51ca85ec0",
        "executionInfo": {
          "status": "ok",
          "timestamp": 1519040459660,
          "user_tz": -330,
          "elapsed": 1991,
          "user": {
            "displayName": "Anmol Dua",
            "photoUrl": "https://lh3.googleusercontent.com/a/default-user=s128",
            "userId": "105983295350785523892"
          }
        }
      },
      "cell_type": "code",
      "source": [
        "!ls"
      ],
      "execution_count": 70,
      "outputs": [
        {
          "output_type": "stream",
          "text": [
            "datalab  finaldata.csv\tPreprocessData.csv\r\n"
          ],
          "name": "stdout"
        }
      ]
    },
    {
      "metadata": {
        "id": "HxR_C_Xd3etS",
        "colab_type": "code",
        "colab": {
          "autoexec": {
            "startup": false,
            "wait_interval": 0
          }
        }
      },
      "cell_type": "code",
      "source": [
        "from google.colab import files\n",
        "files.download('PreprocessData.csv')"
      ],
      "execution_count": 0,
      "outputs": []
    }
  ]
}